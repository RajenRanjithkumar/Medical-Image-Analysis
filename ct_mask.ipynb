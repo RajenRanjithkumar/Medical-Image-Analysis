{
 "cells": [
  {
   "cell_type": "code",
   "execution_count": 7,
   "metadata": {},
   "outputs": [],
   "source": [
    "#mask\n",
    "import json\n",
    "import cv2\n",
    "import os\n",
    "import pandas as pd \n",
    "import matplotlib.pyplot as plt\n",
    "from tqdm.notebook import tqdm\n",
    "import numpy as np\n",
    "\n",
    "import tensorflow as tf\n",
    "from sklearn.model_selection import train_test_split\n",
    "from tensorflow.keras import datasets, layers, models\n",
    "from keras.models import Sequential\n",
    "from keras.layers import Dense\n",
    "from keras.layers import Flatten \n",
    "from keras.layers import Dropout\n",
    "from keras.layers.convolutional import Conv1D\n",
    "from keras.layers.convolutional import MaxPooling1D\n",
    "from keras.utils import to_categorical\n",
    "import xml.etree.ElementTree as ET"
   ]
  },
  {
   "cell_type": "code",
   "execution_count": 8,
   "metadata": {},
   "outputs": [],
   "source": [
    "#export format CoCo \n",
    "# open json file\n",
    "path = \"D:/Project2022/res/Datasets/mask_data/parse.json\"\n",
    "\n",
    "with open(path, ) as file:\n",
    "    mask_data = json.load(file)"
   ]
  },
  {
   "cell_type": "markdown",
   "metadata": {},
   "source": [
    "# Json structure"
   ]
  },
  {
   "cell_type": "code",
   "execution_count": 9,
   "metadata": {},
   "outputs": [
    {
     "data": {
      "text/plain": [
       "'/47c54299-P104_98.png'"
      ]
     },
     "execution_count": 9,
     "metadata": {},
     "output_type": "execute_result"
    }
   ],
   "source": [
    "mask_data[0][\"data\"][\"image\"][14:]\n"
   ]
  },
  {
   "cell_type": "code",
   "execution_count": 10,
   "metadata": {},
   "outputs": [
    {
     "data": {
      "text/plain": [
       "[{'original_width': 512,\n",
       "  'original_height': 512,\n",
       "  'image_rotation': 0,\n",
       "  'value': {'x': 14.84374999999998,\n",
       "   'y': 26.95312499999996,\n",
       "   'width': 66.99218749999996,\n",
       "   'height': 45.31249999999997,\n",
       "   'rotation': 0,\n",
       "   'rectanglelabels': ['Open lungs']},\n",
       "  'id': 'VMZnXhZ4-0',\n",
       "  'from_name': 'label',\n",
       "  'to_name': 'image',\n",
       "  'type': 'rectanglelabels',\n",
       "  'origin': 'manual'}]"
      ]
     },
     "execution_count": 10,
     "metadata": {},
     "output_type": "execute_result"
    }
   ],
   "source": [
    "mask_data[0][\"annotations\"][0][\"result\"]"
   ]
  },
  {
   "cell_type": "code",
   "execution_count": 11,
   "metadata": {},
   "outputs": [],
   "source": [
    "# returns an image and bb coordinates\n",
    "def getBbox(img_array, x, y, width, height, med_width, med_height):\n",
    "    coordinates = []\n",
    "    \n",
    "    #print(img)\n",
    "    #img_array = cv2.imread(os.path.join(path,img), cv2.IMREAD_GRAYSCALE)\n",
    "    #img_array = cv2.resize(img_array, (512,512), interpolation= cv2.INTER_LINEAR)\n",
    "    #print(img_array.shape)\n",
    "    #bbox co ordinated -----> x1,y1   x2,y2\n",
    "    #print(annatation[\"bbox\"])\n",
    "    #plt.imshow(img_array, cmap=\"gray\")\n",
    "\n",
    "    row = img_array.sum(axis=0)\n",
    "    coloumn = img_array.sum(axis=1)\n",
    "\n",
    "    #concat rows and coloumn\n",
    "    concat_data = np.concatenate((row, coloumn))\n",
    "\n",
    "    x1 = x/100*512\n",
    "    y1 = y/100*512\n",
    "\n",
    "    x2_temp = width/100*512\n",
    "    y2_temp = height/100*512\n",
    "\n",
    "    x2 = x1+x2_temp\n",
    "    y2 = y1+y2_temp\n",
    "\n",
    "    \n",
    "    '''mid_x = (x1+x2)/2\n",
    "    mid_y = (y1+y2)/2\n",
    "    x1 = mid_x - (med_width/2)\n",
    "    y1 = mid_y - (med_height/2)\n",
    "\n",
    "    x2 = mid_x + (med_width/2) \n",
    "    y2 = mid_y + (med_height/2)'''\n",
    "    \n",
    "    coordinates.append(int(x1))\n",
    "    coordinates.append(int(y1))\n",
    "    coordinates.append(int(x2))\n",
    "    coordinates.append(int(y2))\n",
    "    return concat_data, coordinates\n"
   ]
  },
  {
   "cell_type": "markdown",
   "metadata": {},
   "source": [
    "## Find the medians for the bbox"
   ]
  },
  {
   "cell_type": "code",
   "execution_count": 5,
   "metadata": {},
   "outputs": [
    {
     "data": {
      "application/vnd.jupyter.widget-view+json": {
       "model_id": "f0cddfedebe1463986dbd6aaf740f1c4",
       "version_major": 2,
       "version_minor": 0
      },
      "text/plain": [
       "HBox(children=(HTML(value=''), FloatProgress(value=0.0, max=1004.0), HTML(value='')))"
      ]
     },
     "metadata": {},
     "output_type": "display_data"
    },
    {
     "name": "stdout",
     "output_type": "stream",
     "text": [
      "\n",
      "median_width: 361.00000000000017\n",
      "median_height: 269.9999999999999\n"
     ]
    }
   ],
   "source": [
    "median_width = []\n",
    "median_height = []\n",
    "for data in tqdm(mask_data):\n",
    "    if(len(data[\"annotations\"][0][\"result\"]) != 0):\n",
    "\n",
    "        x = data[\"annotations\"][0][\"result\"][0][\"value\"][\"x\"]\n",
    "        y = data[\"annotations\"][0][\"result\"][0][\"value\"][\"y\"]\n",
    "        \n",
    "        width = data[\"annotations\"][0][\"result\"][0][\"value\"][\"width\"]\n",
    "        height = data[\"annotations\"][0][\"result\"][0][\"value\"][\"height\"]\n",
    "\n",
    "        x1 = x/100*512\n",
    "        y1 = y/100*512\n",
    "        x2_temp = width/100*512\n",
    "        y2_temp = height/100*512\n",
    "\n",
    "        x2 = x1+x2_temp\n",
    "        y2 = y1+y2_temp\n",
    "\n",
    "\n",
    "        median_width.append(x2-x1)\n",
    "        median_height.append(y2-y1)\n",
    "\n",
    "\n",
    "med_width = np.median(median_width)\n",
    "med_height = np.median(median_height)\n",
    "\n",
    "\n",
    "\n",
    "\n",
    "print(\"median_width:\", med_width)\n",
    "print(\"median_height:\", med_height)\n"
   ]
  },
  {
   "cell_type": "markdown",
   "metadata": {},
   "source": [
    "## Fetch Dataset "
   ]
  },
  {
   "cell_type": "code",
   "execution_count": 12,
   "metadata": {},
   "outputs": [
    {
     "data": {
      "application/vnd.jupyter.widget-view+json": {
       "model_id": "c91f9778dd6a4018bd409bdb0267baf2",
       "version_major": 2,
       "version_minor": 0
      },
      "text/plain": [
       "HBox(children=(HTML(value=''), FloatProgress(value=0.0, max=1004.0), HTML(value='')))"
      ]
     },
     "metadata": {},
     "output_type": "display_data"
    },
    {
     "name": "stdout",
     "output_type": "stream",
     "text": [
      "\n"
     ]
    }
   ],
   "source": [
    "path = \"D:/Project2022/res/Datasets/mask_data/images/\"\n",
    "\n",
    "raw_images= []\n",
    "conacat_image = []\n",
    "bb_cordinates = []\n",
    "\n",
    "for data in tqdm(mask_data):\n",
    "#for data, bb_data in zip(mask_data[\"image\"], mask_data[\"label\"]):\n",
    "    #print(data[\"annotations\"][0][\"result\"][0][\"value\"])\n",
    "\n",
    "    if(len(data[\"annotations\"][0][\"result\"]) != 0):\n",
    "        x = data[\"annotations\"][0][\"result\"][0][\"value\"][\"x\"]\n",
    "        y = data[\"annotations\"][0][\"result\"][0][\"value\"][\"y\"]\n",
    "        width = data[\"annotations\"][0][\"result\"][0][\"value\"][\"width\"]\n",
    "        height = data[\"annotations\"][0][\"result\"][0][\"value\"][\"height\"]\n",
    "\n",
    "    \n",
    "\n",
    "        #print(data[\"data\"][\"image\"][15:])\n",
    "        img = data[\"data\"][\"image\"][15:]\n",
    "\n",
    "    \n",
    "        if(os.path.isfile(os.path.join(path,img))):\n",
    "\n",
    "            img_array = cv2.imread(os.path.join(path,img), cv2.IMREAD_GRAYSCALE)\n",
    "            img_array = cv2.resize(img_array, (512,512), interpolation= cv2.INTER_LINEAR)\n",
    "\n",
    "            data, label = getBbox(img_array, x, y, width, height, med_width, med_height)\n",
    "            #data, label = getBbox(img_array, x, y, med_width, med_height)\n",
    "\n",
    "            raw_images.append(img_array)\n",
    "            conacat_image.append(data)\n",
    "            bb_cordinates.append(label)\n",
    "\n",
    "            plot_array = np.copy(img_array)\n",
    "            cv2.rectangle(plot_array, (label[0], label[1]), (label[2], label[3]),color=(255, 0, 0), thickness=2)\n",
    "            cv2.imwrite(\"D:/Project2022/res/Datasets/mask_data/output/\"+img, plot_array)\n",
    "\n",
    "\n",
    "\n",
    "            # Flip the ct scan (axis = 1 ) and its Bbox\n",
    "            img_flip = np.copy(img_array)\n",
    "            img_flip = cv2.flip(img_flip, 1)\n",
    "\n",
    "            data, label = getBbox(img_flip, x, y, width, height, med_width, med_height)\n",
    "            #data, label = getBbox(img_flip, x, y, med_width, med_height)\n",
    "\n",
    "            #plt.figure(figsize=(5, 5), dpi=100)\n",
    "            \n",
    "            bbox_flip = [512-label[2], label[1], 512-label[0], label[3]]\n",
    "\n",
    "            raw_images.append(img_flip)\n",
    "            conacat_image.append(data)\n",
    "            bb_cordinates.append(bbox_flip)\n",
    "\n",
    "            plot_array = np.copy(img_flip)\n",
    "            cv2.rectangle(plot_array, (bbox_flip[0], bbox_flip[1]), (bbox_flip[2], bbox_flip[3]),color=(255, 0, 0), thickness=2)\n",
    "            cv2.imwrite(\"D:/Project2022/res/Datasets/mask_data/output/\"+\"flip_\"+img, plot_array)\n",
    "\n",
    "                #plt.imshow(img_array)\n",
    "\n",
    "                #print(data.shape)\n",
    "                #print(label)\n",
    "\n",
    "    \n",
    "    "
   ]
  },
  {
   "cell_type": "code",
   "execution_count": 13,
   "metadata": {},
   "outputs": [],
   "source": [
    "mask_df = pd.DataFrame()\n",
    "mask_df[\"raw data\"] = raw_images\n",
    "mask_df[\"concat data\"] = conacat_image\n",
    "mask_df[\"bbox\"] = bb_cordinates"
   ]
  },
  {
   "cell_type": "code",
   "execution_count": 14,
   "metadata": {},
   "outputs": [
    {
     "name": "stdout",
     "output_type": "stream",
     "text": [
      "No of samles: 1870\n"
     ]
    }
   ],
   "source": [
    "print(\"No of samles:\", mask_df.shape[0])"
   ]
  },
  {
   "cell_type": "code",
   "execution_count": 15,
   "metadata": {},
   "outputs": [
    {
     "data": {
      "text/html": [
       "<div>\n",
       "<style scoped>\n",
       "    .dataframe tbody tr th:only-of-type {\n",
       "        vertical-align: middle;\n",
       "    }\n",
       "\n",
       "    .dataframe tbody tr th {\n",
       "        vertical-align: top;\n",
       "    }\n",
       "\n",
       "    .dataframe thead th {\n",
       "        text-align: right;\n",
       "    }\n",
       "</style>\n",
       "<table border=\"1\" class=\"dataframe\">\n",
       "  <thead>\n",
       "    <tr style=\"text-align: right;\">\n",
       "      <th></th>\n",
       "      <th>raw data</th>\n",
       "      <th>concat data</th>\n",
       "      <th>bbox</th>\n",
       "    </tr>\n",
       "  </thead>\n",
       "  <tbody>\n",
       "    <tr>\n",
       "      <th>0</th>\n",
       "      <td>[[2, 3, 2, 0, 2, 4, 1, 1, 2, 5, 4, 0, 0, 4, 3,...</td>\n",
       "      <td>[18381, 18619, 18847, 19111, 19284, 19356, 194...</td>\n",
       "      <td>[75, 137, 418, 369]</td>\n",
       "    </tr>\n",
       "    <tr>\n",
       "      <th>1</th>\n",
       "      <td>[[0, 0, 0, 0, 0, 0, 0, 2, 4, 3, 1, 1, 2, 4, 3,...</td>\n",
       "      <td>[10820, 11123, 11498, 11846, 12171, 12608, 131...</td>\n",
       "      <td>[94, 137, 437, 369]</td>\n",
       "    </tr>\n",
       "    <tr>\n",
       "      <th>2</th>\n",
       "      <td>[[2, 2, 0, 0, 2, 3, 3, 1, 1, 3, 5, 3, 3, 1, 0,...</td>\n",
       "      <td>[18420, 18699, 18940, 19216, 19474, 19567, 196...</td>\n",
       "      <td>[75, 139, 419, 372]</td>\n",
       "    </tr>\n",
       "    <tr>\n",
       "      <th>3</th>\n",
       "      <td>[[0, 0, 0, 0, 0, 0, 0, 2, 1, 2, 3, 4, 2, 1, 2,...</td>\n",
       "      <td>[10764, 11061, 11419, 11766, 12157, 12639, 132...</td>\n",
       "      <td>[93, 139, 437, 372]</td>\n",
       "    </tr>\n",
       "    <tr>\n",
       "      <th>4</th>\n",
       "      <td>[[0, 5, 6, 2, 0, 2, 5, 4, 0, 0, 4, 3, 0, 4, 5,...</td>\n",
       "      <td>[18244, 18490, 18691, 18850, 18979, 19150, 193...</td>\n",
       "      <td>[77, 140, 417, 368]</td>\n",
       "    </tr>\n",
       "  </tbody>\n",
       "</table>\n",
       "</div>"
      ],
      "text/plain": [
       "                                            raw data  \\\n",
       "0  [[2, 3, 2, 0, 2, 4, 1, 1, 2, 5, 4, 0, 0, 4, 3,...   \n",
       "1  [[0, 0, 0, 0, 0, 0, 0, 2, 4, 3, 1, 1, 2, 4, 3,...   \n",
       "2  [[2, 2, 0, 0, 2, 3, 3, 1, 1, 3, 5, 3, 3, 1, 0,...   \n",
       "3  [[0, 0, 0, 0, 0, 0, 0, 2, 1, 2, 3, 4, 2, 1, 2,...   \n",
       "4  [[0, 5, 6, 2, 0, 2, 5, 4, 0, 0, 4, 3, 0, 4, 5,...   \n",
       "\n",
       "                                         concat data                 bbox  \n",
       "0  [18381, 18619, 18847, 19111, 19284, 19356, 194...  [75, 137, 418, 369]  \n",
       "1  [10820, 11123, 11498, 11846, 12171, 12608, 131...  [94, 137, 437, 369]  \n",
       "2  [18420, 18699, 18940, 19216, 19474, 19567, 196...  [75, 139, 419, 372]  \n",
       "3  [10764, 11061, 11419, 11766, 12157, 12639, 132...  [93, 139, 437, 372]  \n",
       "4  [18244, 18490, 18691, 18850, 18979, 19150, 193...  [77, 140, 417, 368]  "
      ]
     },
     "execution_count": 15,
     "metadata": {},
     "output_type": "execute_result"
    }
   ],
   "source": [
    "mask_df.head()\n"
   ]
  },
  {
   "cell_type": "code",
   "execution_count": 40,
   "metadata": {},
   "outputs": [],
   "source": [
    "#save data\n",
    "mask_df.to_pickle(\"D:/Project2022/res/Datasets/mask_bbox_large_dataset.pickle\")"
   ]
  },
  {
   "cell_type": "code",
   "execution_count": 16,
   "metadata": {},
   "outputs": [],
   "source": [
    "#-----------------    0                1\n",
    "#combine_X -----> [[\"raw data\"], [\"concat data\"]]\n",
    "combine_df = pd.DataFrame()\n",
    "combine_df[\"raw data\"] = raw_images\n",
    "combine_df[\"concat data\"] = conacat_image"
   ]
  },
  {
   "cell_type": "code",
   "execution_count": 17,
   "metadata": {},
   "outputs": [
    {
     "name": "stdout",
     "output_type": "stream",
     "text": [
      "X shape: (1870, 1024) \n",
      "y shape: (1870, 4)\n"
     ]
    }
   ],
   "source": [
    "# Dataset shape\n",
    "print(\"X shape:\", np.array(conacat_image).shape, \"\\ny shape:\", np.array(bb_cordinates).shape)"
   ]
  },
  {
   "cell_type": "code",
   "execution_count": 46,
   "metadata": {},
   "outputs": [],
   "source": [
    "def data_reshape(array):\n",
    "    data = []\n",
    "    for sample in tqdm(array):\n",
    "        data.append(list(sample))\n",
    "    return np.array(data)"
   ]
  },
  {
   "cell_type": "code",
   "execution_count": 27,
   "metadata": {},
   "outputs": [],
   "source": [
    "from sklearn.model_selection import train_test_split\n",
    "X_train, X_test, y_train, y_test = train_test_split(combine_df, bb_cordinates, test_size = 0.2, random_state = 42)\n",
    "#X_train, X_test, y_train, y_test = train_test_split(conacat_image, bb_cordinates, test_size = 0.2, random_state = 42)"
   ]
  },
  {
   "cell_type": "code",
   "execution_count": 28,
   "metadata": {},
   "outputs": [
    {
     "data": {
      "application/vnd.jupyter.widget-view+json": {
       "model_id": "c7844133e3c249988bc90c895cef5ad6",
       "version_major": 2,
       "version_minor": 0
      },
      "text/plain": [
       "HBox(children=(HTML(value=''), FloatProgress(value=0.0, max=1496.0), HTML(value='')))"
      ]
     },
     "metadata": {},
     "output_type": "display_data"
    },
    {
     "name": "stdout",
     "output_type": "stream",
     "text": [
      "\n"
     ]
    },
    {
     "data": {
      "application/vnd.jupyter.widget-view+json": {
       "model_id": "564695f726194e5b9441ecad009592f4",
       "version_major": 2,
       "version_minor": 0
      },
      "text/plain": [
       "HBox(children=(HTML(value=''), FloatProgress(value=0.0, max=374.0), HTML(value='')))"
      ]
     },
     "metadata": {},
     "output_type": "display_data"
    },
    {
     "name": "stdout",
     "output_type": "stream",
     "text": [
      "\n"
     ]
    }
   ],
   "source": [
    "#normalize the train data\n",
    "from sklearn import preprocessing\n",
    "norm_x = preprocessing.normalize(data_reshape(X_train[\"concat data\"]))\n",
    "norm_x_test = preprocessing.normalize(data_reshape(X_test[\"concat data\"]))\n",
    "norm_y = np.array(y_train)/512\n",
    "norm_y_test = np.array(y_test)/512\n"
   ]
  },
  {
   "cell_type": "code",
   "execution_count": 29,
   "metadata": {},
   "outputs": [],
   "source": [
    "# Define model\n",
    "model = Sequential()\n",
    "model.add(Dense(512, input_dim=1024, activation= \"relu\"))\n",
    "model.add(Dense(256, activation= \"relu\"))\n",
    "model.add(Dense(128, activation= \"relu\"))\n",
    "model.add(Dense(64, activation= \"relu\"))\n",
    "model.add(Dense(4))\n",
    "#model.summary() #Print model Summary"
   ]
  },
  {
   "cell_type": "code",
   "execution_count": 30,
   "metadata": {},
   "outputs": [
    {
     "name": "stdout",
     "output_type": "stream",
     "text": [
      "Epoch 1/15\n",
      "47/47 [==============================] - 0s 5ms/step - loss: 0.0350 - mean_squared_error: 0.0350\n",
      "Epoch 2/15\n",
      "47/47 [==============================] - 0s 5ms/step - loss: 0.0031 - mean_squared_error: 0.0031\n",
      "Epoch 3/15\n",
      "47/47 [==============================] - 0s 5ms/step - loss: 0.0020 - mean_squared_error: 0.0020\n",
      "Epoch 4/15\n",
      "47/47 [==============================] - 0s 5ms/step - loss: 0.0017 - mean_squared_error: 0.0017\n",
      "Epoch 5/15\n",
      "47/47 [==============================] - 0s 6ms/step - loss: 0.0015 - mean_squared_error: 0.0015\n",
      "Epoch 6/15\n",
      "47/47 [==============================] - 0s 5ms/step - loss: 0.0015 - mean_squared_error: 0.0015\n",
      "Epoch 7/15\n",
      "47/47 [==============================] - 0s 5ms/step - loss: 0.0014 - mean_squared_error: 0.0014\n",
      "Epoch 8/15\n",
      "47/47 [==============================] - 0s 5ms/step - loss: 0.0013 - mean_squared_error: 0.0013\n",
      "Epoch 9/15\n",
      "47/47 [==============================] - 0s 5ms/step - loss: 0.0013 - mean_squared_error: 0.0013\n",
      "Epoch 10/15\n",
      "47/47 [==============================] - 0s 5ms/step - loss: 0.0012 - mean_squared_error: 0.0012\n",
      "Epoch 11/15\n",
      "47/47 [==============================] - 0s 5ms/step - loss: 0.0011 - mean_squared_error: 0.0011\n",
      "Epoch 12/15\n",
      "47/47 [==============================] - 0s 5ms/step - loss: 0.0011 - mean_squared_error: 0.0011\n",
      "Epoch 13/15\n",
      "47/47 [==============================] - 0s 5ms/step - loss: 0.0011 - mean_squared_error: 0.0011\n",
      "Epoch 14/15\n",
      "47/47 [==============================] - 0s 5ms/step - loss: 0.0011 - mean_squared_error: 0.0011\n",
      "Epoch 15/15\n",
      "47/47 [==============================] - 0s 5ms/step - loss: 0.0010 - mean_squared_error: 0.0010\n"
     ]
    }
   ],
   "source": [
    "model.compile(loss= \"mean_squared_error\" , optimizer=\"adam\", metrics=[\"mean_squared_error\"])\n",
    "history = model.fit(norm_x, norm_y, epochs=15)"
   ]
  },
  {
   "cell_type": "code",
   "execution_count": 31,
   "metadata": {},
   "outputs": [],
   "source": [
    "pred = model.predict(norm_x_test)"
   ]
  },
  {
   "cell_type": "code",
   "execution_count": 45,
   "metadata": {},
   "outputs": [
    {
     "data": {
      "text/plain": [
       "(1024,)"
      ]
     },
     "execution_count": 45,
     "metadata": {},
     "output_type": "execute_result"
    }
   ],
   "source": []
  },
  {
   "cell_type": "code",
   "execution_count": 32,
   "metadata": {},
   "outputs": [],
   "source": [
    "# de normalize the coordinates\n",
    "y_actual = np.array(y_test)\n",
    "y_pred = pred*512"
   ]
  },
  {
   "cell_type": "code",
   "execution_count": 33,
   "metadata": {},
   "outputs": [
    {
     "name": "stdout",
     "output_type": "stream",
     "text": [
      "No of test samples: 374\n"
     ]
    }
   ],
   "source": [
    "print(\"No of test samples:\", len(y_pred))"
   ]
  },
  {
   "cell_type": "markdown",
   "metadata": {},
   "source": [
    "## plot the predicted co-ordinates on the test data"
   ]
  },
  {
   "cell_type": "code",
   "execution_count": 34,
   "metadata": {},
   "outputs": [
    {
     "data": {
      "application/vnd.jupyter.widget-view+json": {
       "model_id": "a287f79640c2460282098f3eedbf8dee",
       "version_major": 2,
       "version_minor": 0
      },
      "text/plain": [
       "HBox(children=(HTML(value=''), FloatProgress(value=0.0, max=374.0), HTML(value='')))"
      ]
     },
     "metadata": {},
     "output_type": "display_data"
    },
    {
     "name": "stdout",
     "output_type": "stream",
     "text": [
      "\n"
     ]
    }
   ],
   "source": [
    "path = \"D:/Project2022/res/Datasets/mask/test\"\n",
    "test_samples = data_reshape(X_test[\"raw data\"])\n",
    "no = 1\n",
    "for img_array, tcoor, coor  in zip(test_samples, y_actual, y_pred):\n",
    "    file = \"sample\"+str(no)+\".png\"\n",
    "    #plt.imshow(img_array, cmap=\"gray\")\n",
    "    #plt.show()\n",
    "    #print(coor)\n",
    "\n",
    "    cv2.putText(img_array, 'true', (int(tcoor[0]), int(tcoor[1])), cv2.FONT_HERSHEY_SIMPLEX, 0.9, (36,255,12), 2)\n",
    "    cv2.rectangle(img_array, \n",
    "        (int(tcoor[0]), int(tcoor[1])), \n",
    "        (int(tcoor[2]), int(tcoor[3])),\n",
    "        color=(36, 255, 12), \n",
    "        thickness=3)\n",
    "\n",
    "    \n",
    "    cv2.putText(img_array, 'pred', (int(coor[0]), int(coor[1])), cv2.FONT_HERSHEY_SIMPLEX, 0.9, (255,0,0), 1)\n",
    "    cv2.rectangle(img_array, \n",
    "        (int(coor[0]), int(coor[1])), \n",
    "        (int(coor[2]), int(coor[3])),\n",
    "        color=(255, 0, 0), \n",
    "        thickness=1)\n",
    "    \n",
    "\n",
    "    cv2.imwrite(\"D:/Project2022/Code/mask_keras/\"+file,img_array)\n",
    "    no += 1\n",
    "    "
   ]
  },
  {
   "cell_type": "markdown",
   "metadata": {},
   "source": [
    "# Testing on large dataset"
   ]
  },
  {
   "cell_type": "code",
   "execution_count": 35,
   "metadata": {},
   "outputs": [],
   "source": [
    "# returns an image and bb coordinates\n",
    "def img_to_arr(img_array ):\n",
    "    coordinates = []\n",
    "    row = img_array.sum(axis=0)\n",
    "    coloumn = img_array.sum(axis=1)\n",
    "\n",
    "    #concat rows and coloumn\n",
    "    concat_data = np.concatenate((row, coloumn))\n",
    "\n",
    "    return concat_data"
   ]
  },
  {
   "cell_type": "code",
   "execution_count": 39,
   "metadata": {},
   "outputs": [],
   "source": []
  },
  {
   "cell_type": "code",
   "execution_count": 47,
   "metadata": {},
   "outputs": [
    {
     "data": {
      "application/vnd.jupyter.widget-view+json": {
       "model_id": "2f5d931fd86847ae92fd8ee23f15911b",
       "version_major": 2,
       "version_minor": 0
      },
      "text/plain": [
       "HBox(children=(HTML(value=''), FloatProgress(value=0.0, max=7149.0), HTML(value='')))"
      ]
     },
     "metadata": {},
     "output_type": "display_data"
    },
    {
     "name": "stdout",
     "output_type": "stream",
     "text": [
      "\n"
     ]
    }
   ],
   "source": [
    "dataset_path = \"D:/Project2022/res/Datasets/CT1/resized\"\n",
    "raw_data = []\n",
    "concat_data =[]\n",
    "for img in tqdm(os.listdir(dataset_path)):\n",
    "    #print(img)\n",
    "\n",
    "    img_array = cv2.imread(os.path.join(dataset_path,img), cv2.IMREAD_GRAYSCALE)\n",
    "    img_array = cv2.resize(img_array, (512,512), interpolation= cv2.INTER_LINEAR)\n",
    "\n",
    "    data  = img_to_arr(img_array)\n",
    "    #data, label = getBbox(img_array, x, y, med_width, med_height)\n",
    "\n",
    "    raw_data.append(img_array)\n",
    "    concat_data.append(data)\n",
    "    "
   ]
  },
  {
   "cell_type": "code",
   "execution_count": 51,
   "metadata": {},
   "outputs": [
    {
     "data": {
      "application/vnd.jupyter.widget-view+json": {
       "model_id": "a4037b91fcfb4252bc256cfc027f1c3f",
       "version_major": 2,
       "version_minor": 0
      },
      "text/plain": [
       "HBox(children=(HTML(value=''), FloatProgress(value=0.0, max=7149.0), HTML(value='')))"
      ]
     },
     "metadata": {},
     "output_type": "display_data"
    },
    {
     "name": "stdout",
     "output_type": "stream",
     "text": [
      "\n"
     ]
    }
   ],
   "source": [
    "#normalize the train data\n",
    "from sklearn import preprocessing\n",
    "x_large = preprocessing.normalize(data_reshape(concat_data))"
   ]
  },
  {
   "cell_type": "code",
   "execution_count": 57,
   "metadata": {},
   "outputs": [],
   "source": [
    "pred_bbox_large = model.predict(x_large)\n",
    "\n",
    "#de-normalize\n",
    "pred_bbox_large = pred_bbox_large*512"
   ]
  },
  {
   "cell_type": "code",
   "execution_count": 67,
   "metadata": {},
   "outputs": [
    {
     "name": "stdout",
     "output_type": "stream",
     "text": [
      "BBox shape: (7149, 4)\n"
     ]
    }
   ],
   "source": [
    "print(\"BBox shape:\",pred_bbox_large.shape)\n"
   ]
  },
  {
   "cell_type": "markdown",
   "metadata": {},
   "source": [
    "# plot un-scaled predicted bboxes"
   ]
  },
  {
   "cell_type": "code",
   "execution_count": 68,
   "metadata": {},
   "outputs": [
    {
     "data": {
      "application/vnd.jupyter.widget-view+json": {
       "model_id": "36de6a70eab645139f6786b0a3158113",
       "version_major": 2,
       "version_minor": 0
      },
      "text/plain": [
       "HBox(children=(HTML(value=''), FloatProgress(value=0.0, max=7149.0), HTML(value='')))"
      ]
     },
     "metadata": {},
     "output_type": "display_data"
    },
    {
     "name": "stdout",
     "output_type": "stream",
     "text": [
      "\n"
     ]
    },
    {
     "data": {
      "application/vnd.jupyter.widget-view+json": {
       "model_id": "83902afe835c4ca988f9bc89930b6e0f",
       "version_major": 2,
       "version_minor": 0
      },
      "text/plain": [
       "HBox(children=(HTML(value=''), FloatProgress(value=0.0, max=7149.0), HTML(value='')))"
      ]
     },
     "metadata": {},
     "output_type": "display_data"
    },
    {
     "name": "stdout",
     "output_type": "stream",
     "text": [
      "\n"
     ]
    }
   ],
   "source": [
    "samples = data_reshape(raw_data)\n",
    "no = 1\n",
    "for img_array, coor  in tqdm(zip(samples, pred_bbox_large), total = len(raw_data)):\n",
    "    file = \"sample\"+str(no)+\".png\"\n",
    "    #plt.imshow(img_array, cmap=\"gray\")\n",
    "    #plt.show()\n",
    "    #print(coor)\n",
    "    \n",
    "    cv2.putText(img_array, 'pred', (int(coor[0]), int(coor[1])), cv2.FONT_HERSHEY_SIMPLEX, 0.9, (255,0,0), 1)\n",
    "    cv2.rectangle(img_array, \n",
    "        (int(coor[0]), int(coor[1])), \n",
    "        (int(coor[2]), int(coor[3])),\n",
    "        color=(255, 0, 0), \n",
    "        thickness=1)\n",
    "    \n",
    "\n",
    "    cv2.imwrite(\"D:/Project2022/Code/predicted_bbox/unscaled/\"+file,img_array)\n",
    "    no += 1"
   ]
  },
  {
   "cell_type": "markdown",
   "metadata": {},
   "source": [
    "# find the median bbox"
   ]
  },
  {
   "cell_type": "code",
   "execution_count": 70,
   "metadata": {},
   "outputs": [
    {
     "data": {
      "application/vnd.jupyter.widget-view+json": {
       "model_id": "7d660c99ce1e4290847b3e6052141709",
       "version_major": 2,
       "version_minor": 0
      },
      "text/plain": [
       "HBox(children=(HTML(value=''), FloatProgress(value=0.0, max=7149.0), HTML(value='')))"
      ]
     },
     "metadata": {},
     "output_type": "display_data"
    },
    {
     "name": "stdout",
     "output_type": "stream",
     "text": [
      "\n",
      "median_width: 396.27106\n",
      "median_height: 263.01627\n"
     ]
    }
   ],
   "source": [
    "median_width = []\n",
    "median_height = []\n",
    "for bbox in tqdm(pred_bbox_large):\n",
    "    median_width.append(bbox[2] - bbox[0])\n",
    "    median_height.append(bbox[3] - bbox[1])\n",
    "\n",
    "\n",
    "med_width = np.median(median_width)\n",
    "med_height = np.median(median_height)\n",
    "\n",
    "\n",
    "print(\"median_width:\", med_width)\n",
    "print(\"median_height:\", med_height)\n",
    "    \n",
    "\n"
   ]
  },
  {
   "cell_type": "code",
   "execution_count": 118,
   "metadata": {},
   "outputs": [],
   "source": [
    "\n",
    "\n",
    "def scale_bbox(pred_bbox):\n",
    "\n",
    "    coordinates = []\n",
    "    mid_x = (pred_bbox[0]+pred_bbox[2])/2\n",
    "    mid_y = (pred_bbox[1]+pred_bbox[3])/2\n",
    "\n",
    "    width = pred_bbox[2] - pred_bbox[0]\n",
    "    height = pred_bbox[3] - pred_bbox[1]\n",
    "\n",
    "    #print(\"med_width\", med_width)\n",
    "    #print(\"med_height\", med_height)\n",
    "\n",
    "    #print(\"width\",width)\n",
    "    #print(\"height\",height)\n",
    "    #width_diff = med_width - width\n",
    "    #height_diff = med_height - height\n",
    "\n",
    "    vert_scale = med_width/width\n",
    "    horzi_scale = med_height/height\n",
    "\n",
    "    scale_factor = min(vert_scale,horzi_scale)\n",
    "\n",
    "\n",
    "    #print(\"width_diff\",vert_scale)\n",
    "    #print(\"height_diff\",horzi_scale)\n",
    "\n",
    "    #scale_factor = width_diff / height_diff\n",
    "    \n",
    "\n",
    "    #print(\"scale_factor\",scale_factor)\n",
    "\n",
    "    scaled_width = width * scale_factor\n",
    "    scaled_height = height * scale_factor\n",
    "\n",
    "    #print(\"scaled_width\", scaled_width)\n",
    "    #print(\"scaled_height\", scaled_height)\n",
    "\n",
    "\n",
    "    x1 = mid_x - (scaled_width/2)\n",
    "    y1 = mid_y - (scaled_height/2)\n",
    "\n",
    "    x2 = mid_x + (scaled_width/2) \n",
    "    y2 = mid_y + (scaled_height/2)\n",
    "\n",
    "    coordinates.append(x1)\n",
    "    coordinates.append(y1)\n",
    "    coordinates.append(x2)\n",
    "    coordinates.append(y2)\n",
    "    return coordinates\n",
    "\n"
   ]
  },
  {
   "cell_type": "code",
   "execution_count": 117,
   "metadata": {},
   "outputs": [
    {
     "name": "stdout",
     "output_type": "stream",
     "text": [
      "med_width 396.27106\n",
      "med_height 263.01627\n",
      "width 231\n",
      "height 130\n",
      "width_diff 1.715459121770157\n",
      "height_diff 2.0232020451472357\n",
      "scale_factor 1.715459121770157\n",
      "scaled_width 396.27105712890625\n",
      "scaled_height 223.0096858301204\n"
     ]
    },
    {
     "data": {
      "text/plain": [
       "[-13.635528564453125,\n",
       " 23.495157084939805,\n",
       " 382.6355285644531,\n",
       " 246.50484291506018]"
      ]
     },
     "execution_count": 117,
     "metadata": {},
     "output_type": "execute_result"
    }
   ],
   "source": [
    "scale_bbox([69,70,300,200])\n"
   ]
  },
  {
   "cell_type": "markdown",
   "metadata": {},
   "source": [
    "# plot un-scaled predicted bboxes"
   ]
  },
  {
   "cell_type": "code",
   "execution_count": 119,
   "metadata": {},
   "outputs": [
    {
     "data": {
      "application/vnd.jupyter.widget-view+json": {
       "model_id": "c12b862128ea4bbebc8f3e35473b3cb1",
       "version_major": 2,
       "version_minor": 0
      },
      "text/plain": [
       "HBox(children=(HTML(value=''), FloatProgress(value=0.0, max=7149.0), HTML(value='')))"
      ]
     },
     "metadata": {},
     "output_type": "display_data"
    },
    {
     "name": "stdout",
     "output_type": "stream",
     "text": [
      "\n"
     ]
    },
    {
     "data": {
      "application/vnd.jupyter.widget-view+json": {
       "model_id": "ccd7a968c2b04370922284f598806403",
       "version_major": 2,
       "version_minor": 0
      },
      "text/plain": [
       "HBox(children=(HTML(value=''), FloatProgress(value=0.0, max=7149.0), HTML(value='')))"
      ]
     },
     "metadata": {},
     "output_type": "display_data"
    },
    {
     "name": "stdout",
     "output_type": "stream",
     "text": [
      "\n"
     ]
    }
   ],
   "source": [
    "samples = data_reshape(raw_data)\n",
    "no = 1\n",
    "for img_array, pred_bbox  in tqdm(zip(samples, pred_bbox_large), total = len(raw_data)):\n",
    "    file = \"sample\"+str(no)+\".png\"\n",
    "    #plt.imshow(img_array, cmap=\"gray\")\n",
    "    #plt.show()\n",
    "    #print(coor)\n",
    "\n",
    "    coor = scale_bbox(pred_bbox)\n",
    "    \n",
    "    cv2.putText(img_array, 'pred', (int(coor[0]), int(coor[1])), cv2.FONT_HERSHEY_SIMPLEX, 0.9, (255,0,0), 1)\n",
    "    cv2.rectangle(img_array, \n",
    "        (int(coor[0]), int(coor[1])), \n",
    "        (int(coor[2]), int(coor[3])),\n",
    "        color=(255, 0, 0), \n",
    "        thickness=1)\n",
    "    \n",
    "\n",
    "    cv2.imwrite(\"D:/Project2022/Code/predicted_bbox/scaled/\"+file,img_array)\n",
    "    no += 1"
   ]
  },
  {
   "cell_type": "code",
   "execution_count": null,
   "metadata": {},
   "outputs": [],
   "source": []
  },
  {
   "cell_type": "code",
   "execution_count": null,
   "metadata": {},
   "outputs": [],
   "source": []
  },
  {
   "cell_type": "code",
   "execution_count": 22,
   "metadata": {},
   "outputs": [],
   "source": [
    "conacat_image = np.array(conacat_image)\n",
    "bb_cordinates = np.array(bb_cordinates)"
   ]
  },
  {
   "cell_type": "code",
   "execution_count": 27,
   "metadata": {},
   "outputs": [
    {
     "data": {
      "text/plain": [
       "array([[  2223,   3732,   4834, ...,  11848,   8679,   4208],\n",
       "       [122215, 104347, 104330, ..., 102302, 101909, 101555],\n",
       "       [ 60762,  61542,  61730, ...,  21574,  19069,  18695],\n",
       "       ...,\n",
       "       [  2874,   2797,   2871, ...,   1213,   1218,   1245],\n",
       "       [  3072,   3163,   3377, ...,   1407,   1354,   1335],\n",
       "       [  3025,   3191,   3128, ...,   1434,   1349,   1302]],\n",
       "      dtype=uint32)"
      ]
     },
     "execution_count": 27,
     "metadata": {},
     "output_type": "execute_result"
    }
   ],
   "source": [
    "conacat_image"
   ]
  },
  {
   "cell_type": "code",
   "execution_count": 28,
   "metadata": {},
   "outputs": [
    {
     "data": {
      "text/plain": [
       "array([[ 82, 138, 408, 401],\n",
       "       [ 11,  63, 483, 472],\n",
       "       [ 18,  56, 464, 456],\n",
       "       ...,\n",
       "       [ 94, 152, 366, 380],\n",
       "       [ 90, 160, 365, 379],\n",
       "       [ 95, 156, 366, 386]])"
      ]
     },
     "execution_count": 28,
     "metadata": {},
     "output_type": "execute_result"
    }
   ],
   "source": [
    "bb_cordinates"
   ]
  },
  {
   "cell_type": "code",
   "execution_count": 23,
   "metadata": {},
   "outputs": [
    {
     "name": "stdout",
     "output_type": "stream",
     "text": [
      "X shape: (576, 1024) \n",
      "y shape: (576, 4)\n"
     ]
    }
   ],
   "source": []
  },
  {
   "cell_type": "code",
   "execution_count": 29,
   "metadata": {},
   "outputs": [],
   "source": [
    "#normalize the data\n",
    "from sklearn import preprocessing\n",
    "norm_x = preprocessing.normalize(conacat_image)\n",
    "norm_y = bb_cordinates/512"
   ]
  },
  {
   "cell_type": "code",
   "execution_count": 31,
   "metadata": {},
   "outputs": [
    {
     "name": "stdout",
     "output_type": "stream",
     "text": [
      "X shape: (576, 1024) \n",
      "y shape: (576, 4)\n"
     ]
    }
   ],
   "source": [
    "#shape after normalizing the input\n",
    "print(\"X shape:\", norm_x.shape, \"\\ny shape:\", norm_y.shape)"
   ]
  },
  {
   "cell_type": "code",
   "execution_count": 36,
   "metadata": {},
   "outputs": [],
   "source": [
    "#dataset_X = np.expand_dims(conacat_image, axis=-1)\n",
    "#dataset_y = np.expand_dims(bb_cordinates, axis=-1)"
   ]
  },
  {
   "cell_type": "code",
   "execution_count": 163,
   "metadata": {},
   "outputs": [],
   "source": [
    "# after reshape\n",
    "#print(\"X shape:\", dataset_X.shape, \"\\ny shape:\", dataset_y.shape)"
   ]
  },
  {
   "cell_type": "code",
   "execution_count": 51,
   "metadata": {},
   "outputs": [
    {
     "data": {
      "text/html": [
       "<div>\n",
       "<style scoped>\n",
       "    .dataframe tbody tr th:only-of-type {\n",
       "        vertical-align: middle;\n",
       "    }\n",
       "\n",
       "    .dataframe tbody tr th {\n",
       "        vertical-align: top;\n",
       "    }\n",
       "\n",
       "    .dataframe thead th {\n",
       "        text-align: right;\n",
       "    }\n",
       "</style>\n",
       "<table border=\"1\" class=\"dataframe\">\n",
       "  <thead>\n",
       "    <tr style=\"text-align: right;\">\n",
       "      <th></th>\n",
       "      <th>raw data</th>\n",
       "      <th>concat data</th>\n",
       "      <th>bbox</th>\n",
       "    </tr>\n",
       "  </thead>\n",
       "  <tbody>\n",
       "    <tr>\n",
       "      <th>0</th>\n",
       "      <td>[[2, 3, 2, 0, 2, 4, 1, 1, 2, 5, 4, 0, 0, 4, 3,...</td>\n",
       "      <td>[18381, 18619, 18847, 19111, 19284, 19356, 194...</td>\n",
       "      <td>[75, 137, 418, 369]</td>\n",
       "    </tr>\n",
       "    <tr>\n",
       "      <th>1</th>\n",
       "      <td>[[2, 2, 0, 0, 2, 3, 3, 1, 1, 3, 5, 3, 3, 1, 0,...</td>\n",
       "      <td>[18420, 18699, 18940, 19216, 19474, 19567, 196...</td>\n",
       "      <td>[75, 139, 419, 372]</td>\n",
       "    </tr>\n",
       "    <tr>\n",
       "      <th>2</th>\n",
       "      <td>[[0, 5, 6, 2, 0, 2, 5, 4, 0, 0, 4, 3, 0, 4, 5,...</td>\n",
       "      <td>[18244, 18490, 18691, 18850, 18979, 19150, 193...</td>\n",
       "      <td>[77, 140, 417, 368]</td>\n",
       "    </tr>\n",
       "    <tr>\n",
       "      <th>3</th>\n",
       "      <td>[[4, 3, 0, 2, 4, 1, 1, 1, 4, 3, 2, 2, 2, 3, 2,...</td>\n",
       "      <td>[18616, 18843, 19174, 19483, 19711, 19896, 201...</td>\n",
       "      <td>[72, 134, 421, 373]</td>\n",
       "    </tr>\n",
       "    <tr>\n",
       "      <th>4</th>\n",
       "      <td>[[2, 3, 0, 1, 3, 3, 4, 3, 3, 0, 1, 4, 2, 2, 2,...</td>\n",
       "      <td>[17932, 18136, 18369, 18557, 18712, 18818, 189...</td>\n",
       "      <td>[96, 168, 404, 355]</td>\n",
       "    </tr>\n",
       "  </tbody>\n",
       "</table>\n",
       "</div>"
      ],
      "text/plain": [
       "                                            raw data  \\\n",
       "0  [[2, 3, 2, 0, 2, 4, 1, 1, 2, 5, 4, 0, 0, 4, 3,...   \n",
       "1  [[2, 2, 0, 0, 2, 3, 3, 1, 1, 3, 5, 3, 3, 1, 0,...   \n",
       "2  [[0, 5, 6, 2, 0, 2, 5, 4, 0, 0, 4, 3, 0, 4, 5,...   \n",
       "3  [[4, 3, 0, 2, 4, 1, 1, 1, 4, 3, 2, 2, 2, 3, 2,...   \n",
       "4  [[2, 3, 0, 1, 3, 3, 4, 3, 3, 0, 1, 4, 2, 2, 2,...   \n",
       "\n",
       "                                         concat data                 bbox  \n",
       "0  [18381, 18619, 18847, 19111, 19284, 19356, 194...  [75, 137, 418, 369]  \n",
       "1  [18420, 18699, 18940, 19216, 19474, 19567, 196...  [75, 139, 419, 372]  \n",
       "2  [18244, 18490, 18691, 18850, 18979, 19150, 193...  [77, 140, 417, 368]  \n",
       "3  [18616, 18843, 19174, 19483, 19711, 19896, 201...  [72, 134, 421, 373]  \n",
       "4  [17932, 18136, 18369, 18557, 18712, 18818, 189...  [96, 168, 404, 355]  "
      ]
     },
     "execution_count": 51,
     "metadata": {},
     "output_type": "execute_result"
    }
   ],
   "source": [
    "mask_df.head()"
   ]
  },
  {
   "cell_type": "code",
   "execution_count": null,
   "metadata": {},
   "outputs": [],
   "source": [
    "mask_df.head(1)"
   ]
  },
  {
   "cell_type": "markdown",
   "metadata": {},
   "source": []
  },
  {
   "cell_type": "code",
   "execution_count": 14,
   "metadata": {},
   "outputs": [
    {
     "data": {
      "text/plain": [
       "int"
      ]
     },
     "execution_count": 14,
     "metadata": {},
     "output_type": "execute_result"
    }
   ],
   "source": [
    "len(mask_df[\"raw data\"])"
   ]
  },
  {
   "cell_type": "markdown",
   "metadata": {},
   "source": [
    "### Generate flipped dataset with bbox co-ordinates"
   ]
  },
  {
   "cell_type": "code",
   "execution_count": 15,
   "metadata": {},
   "outputs": [
    {
     "name": "stderr",
     "output_type": "stream",
     "text": [
      "Exception ignored in: <function tqdm.__del__ at 0x000001B259C7A550>\n",
      "Traceback (most recent call last):\n",
      "  File \"c:\\Users\\ranji\\anaconda3\\lib\\site-packages\\tqdm\\std.py\", line 1122, in __del__\n",
      "    self.close()\n",
      "  File \"c:\\Users\\ranji\\anaconda3\\lib\\site-packages\\tqdm\\notebook.py\", line 264, in close\n",
      "    self.sp(bar_style='success')\n",
      "AttributeError: 'tqdm_notebook' object has no attribute 'sp'\n"
     ]
    },
    {
     "data": {
      "application/vnd.jupyter.widget-view+json": {
       "model_id": "3cd9dfe04ea348bab1e9166f65645623",
       "version_major": 2,
       "version_minor": 0
      },
      "text/plain": [
       "HBox(children=(HTML(value=''), FloatProgress(value=0.0, max=1003.0), HTML(value='')))"
      ]
     },
     "metadata": {},
     "output_type": "display_data"
    },
    {
     "name": "stdout",
     "output_type": "stream",
     "text": [
      "\n"
     ]
    }
   ],
   "source": [
    "concat_data_filp = []\n",
    "bbox__data_flip = []\n",
    "\n",
    "for data, bbox in tqdm(zip(mask_df[\"raw data\"], mask_df[\"bbox\"]), total = len(mask_df[\"raw data\"])):\n",
    "    #plt.figure(figsize=(5, 5), dpi=100)\n",
    "\n",
    "    #img = np.copy(data)\n",
    "    #cv2.rectangle(img, (bbox[0], bbox[1]), (bbox[2], bbox[3]),color=(255, 0, 0), thickness=2)\n",
    "    #plt.imshow(img)\n",
    "    #plt.show()\n",
    "    #print(bbox)\n",
    "\n",
    "    \n",
    "    #print(bbox_flip)\n",
    "\n",
    "    # Flip the ct scan horizontally and its Bbox\n",
    "    img_flip = np.copy(data)\n",
    "    #plt.figure(figsize=(5, 5), dpi=100)\n",
    "    img_flip = cv2.flip(img_flip, 1)\n",
    "    bbox_flip = [512-bbox[2], bbox[1], 512-bbox[0], bbox[3]]\n",
    "\n",
    "    concat_data_filp.append(img_flip)\n",
    "    bbox__data_flip.append(bbox_flip)\n",
    "   \n",
    "\n",
    "    # flipped bbox co-ordinates\n",
    "    # x1 = 512-x2, y1\n",
    "    # x2 = 512-x1, y2\n",
    "    #cv2.rectangle(img_flip, (bbox_flip[0], bbox_flip[1]), (bbox_flip[2], bbox[3]),color=(255, 0, 0), thickness=2)\n",
    "    #plt.imshow(img_flip)\n",
    "    #plt.show()\n"
   ]
  },
  {
   "cell_type": "code",
   "execution_count": 17,
   "metadata": {},
   "outputs": [
    {
     "data": {
      "text/plain": [
       "1003"
      ]
     },
     "execution_count": 17,
     "metadata": {},
     "output_type": "execute_result"
    }
   ],
   "source": [
    "bbox__data_flip"
   ]
  },
  {
   "cell_type": "code",
   "execution_count": 185,
   "metadata": {},
   "outputs": [],
   "source": [
    "\n",
    "# training data:\n",
    "#    data_reshape(X_test[\"concat data\"])"
   ]
  },
  {
   "cell_type": "code",
   "execution_count": 221,
   "metadata": {},
   "outputs": [],
   "source": [
    "from sklearn.linear_model import LinearRegression\n",
    "regressor = LinearRegression()"
   ]
  },
  {
   "cell_type": "code",
   "execution_count": 250,
   "metadata": {},
   "outputs": [
    {
     "data": {
      "application/vnd.jupyter.widget-view+json": {
       "model_id": "8872866b25a84469bd2a903f5ee14a4c",
       "version_major": 2,
       "version_minor": 0
      },
      "text/plain": [
       "HBox(children=(HTML(value=''), FloatProgress(value=0.0, max=460.0), HTML(value='')))"
      ]
     },
     "metadata": {},
     "output_type": "display_data"
    },
    {
     "name": "stdout",
     "output_type": "stream",
     "text": [
      "\n"
     ]
    },
    {
     "data": {
      "text/plain": [
       "LinearRegression()"
      ]
     },
     "execution_count": 250,
     "metadata": {},
     "output_type": "execute_result"
    }
   ],
   "source": [
    "#normalize the train data\n",
    "from sklearn import preprocessing\n",
    "norm_x = preprocessing.normalize(data_reshape(X_train[\"concat data\"]))\n",
    "\n",
    "regressor.fit(norm_x, y_train)\n",
    "#regressor.fit(X_train, y_train)\n"
   ]
  },
  {
   "cell_type": "code",
   "execution_count": 251,
   "metadata": {},
   "outputs": [
    {
     "name": "stdout",
     "output_type": "stream",
     "text": [
      "[864.52114503 795.95790327 282.48744579 424.66961949]\n"
     ]
    }
   ],
   "source": [
    "print(regressor.intercept_)"
   ]
  },
  {
   "cell_type": "code",
   "execution_count": 252,
   "metadata": {},
   "outputs": [
    {
     "name": "stdout",
     "output_type": "stream",
     "text": [
      "[[ 2530.68717038 -2393.96337298 -1765.15211206 ...  5954.60611869\n",
      "    479.16311216  1083.39700722]\n",
      " [ 4416.91859153 -3371.93363168  -724.1136707  ...  8079.56078772\n",
      "   -247.95600011  1283.29846406]\n",
      " [-2861.89986405   413.45878417 -1757.39441706 ... -2494.55632258\n",
      "   1309.59438898   660.83931707]\n",
      " [-1103.19282436 -1831.00892795  4793.15421157 ... -3043.11170336\n",
      "   -551.99515991   435.85550833]]\n"
     ]
    }
   ],
   "source": [
    "print(regressor.coef_)"
   ]
  },
  {
   "cell_type": "code",
   "execution_count": 253,
   "metadata": {},
   "outputs": [
    {
     "data": {
      "application/vnd.jupyter.widget-view+json": {
       "model_id": "d0165aa38e364b3ab1323a290e3cd984",
       "version_major": 2,
       "version_minor": 0
      },
      "text/plain": [
       "HBox(children=(HTML(value=''), FloatProgress(value=0.0, max=116.0), HTML(value='')))"
      ]
     },
     "metadata": {},
     "output_type": "display_data"
    },
    {
     "name": "stdout",
     "output_type": "stream",
     "text": [
      "\n"
     ]
    }
   ],
   "source": [
    "#normalize the test data\n",
    "from sklearn import preprocessing\n",
    "norm_test_x = preprocessing.normalize(data_reshape(X_test[\"concat data\"]))\n",
    "\n",
    "y_pred = regressor.predict(norm_test_x)\n",
    "#y_pred = regressor.predict(X_test)"
   ]
  },
  {
   "cell_type": "code",
   "execution_count": 225,
   "metadata": {},
   "outputs": [],
   "source": [
    "y_pred = y_pred.astype(int)"
   ]
  },
  {
   "cell_type": "code",
   "execution_count": 260,
   "metadata": {},
   "outputs": [
    {
     "data": {
      "text/plain": [
       "(116, 4)"
      ]
     },
     "execution_count": 260,
     "metadata": {},
     "output_type": "execute_result"
    }
   ],
   "source": [
    "y_pred.shape"
   ]
  },
  {
   "cell_type": "code",
   "execution_count": 255,
   "metadata": {},
   "outputs": [
    {
     "data": {
      "application/vnd.jupyter.widget-view+json": {
       "model_id": "64e92ada33c64ec8b7d76eda162fad88",
       "version_major": 2,
       "version_minor": 0
      },
      "text/plain": [
       "HBox(children=(HTML(value=''), FloatProgress(value=0.0, max=116.0), HTML(value='')))"
      ]
     },
     "metadata": {},
     "output_type": "display_data"
    },
    {
     "name": "stdout",
     "output_type": "stream",
     "text": [
      "\n"
     ]
    }
   ],
   "source": [
    "\n",
    "    \n",
    "\n"
   ]
  },
  {
   "cell_type": "code",
   "execution_count": 258,
   "metadata": {},
   "outputs": [],
   "source": [
    "from sklearn.metrics import mean_absolute_error\n",
    "mae = mean_absolute_error(y_test, y_pred)\n"
   ]
  },
  {
   "cell_type": "code",
   "execution_count": 259,
   "metadata": {},
   "outputs": [
    {
     "name": "stdout",
     "output_type": "stream",
     "text": [
      "Mean absolute error: 40.43\n"
     ]
    }
   ],
   "source": [
    "print(f'Mean absolute error: {mae:.2f}')\n"
   ]
  },
  {
   "cell_type": "code",
   "execution_count": 79,
   "metadata": {},
   "outputs": [],
   "source": [
    "\n",
    "# reshape for individual sample\n",
    "y_pred = regressor.predict(X_test[1].reshape(1, -1) )\n",
    "sample = X_test[1].reshape(1, -1)\n",
    "sample.shape"
   ]
  },
  {
   "cell_type": "code",
   "execution_count": 105,
   "metadata": {},
   "outputs": [
    {
     "data": {
      "text/plain": [
       "80"
      ]
     },
     "execution_count": 105,
     "metadata": {},
     "output_type": "execute_result"
    }
   ],
   "source": []
  },
  {
   "cell_type": "code",
   "execution_count": null,
   "metadata": {},
   "outputs": [],
   "source": []
  }
 ],
 "metadata": {
  "kernelspec": {
   "display_name": "Python 3.8.5 ('base')",
   "language": "python",
   "name": "python3"
  },
  "language_info": {
   "codemirror_mode": {
    "name": "ipython",
    "version": 3
   },
   "file_extension": ".py",
   "mimetype": "text/x-python",
   "name": "python",
   "nbconvert_exporter": "python",
   "pygments_lexer": "ipython3",
   "version": "3.8.5"
  },
  "orig_nbformat": 4,
  "vscode": {
   "interpreter": {
    "hash": "ae9226d693027601aceae575eedf350f61d5dcad848992823f4124ba0f6253a8"
   }
  }
 },
 "nbformat": 4,
 "nbformat_minor": 2
}
