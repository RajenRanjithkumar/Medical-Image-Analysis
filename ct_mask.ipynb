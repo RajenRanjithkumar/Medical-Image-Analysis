{
 "cells": [
  {
   "cell_type": "code",
   "execution_count": 3,
   "metadata": {},
   "outputs": [],
   "source": [
    "#mask\n",
    "import json\n",
    "import cv2\n",
    "import os\n",
    "import pandas as pd \n",
    "import matplotlib.pyplot as plt\n",
    "from tqdm.notebook import tqdm\n",
    "import numpy as np\n",
    "\n",
    "import tensorflow as tf\n",
    "from sklearn.model_selection import train_test_split\n",
    "from tensorflow.keras import datasets, layers, models\n",
    "from keras.models import Sequential\n",
    "from keras.layers import Dense\n",
    "from keras.layers import Flatten \n",
    "from keras.layers import Dropout\n",
    "from keras.layers.convolutional import Conv1D\n",
    "from keras.layers.convolutional import MaxPooling1D\n",
    "from keras.utils import to_categorical\n",
    "import xml.etree.ElementTree as ET"
   ]
  },
  {
   "cell_type": "code",
   "execution_count": 2,
   "metadata": {},
   "outputs": [],
   "source": [
    "#export format CoCo \n",
    "# open json file\n",
    "path = \"D:/Project2022/res/Datasets/mask_data/parse.json\"\n",
    "\n",
    "with open(path, ) as file:\n",
    "    mask_data = json.load(file)"
   ]
  },
  {
   "cell_type": "markdown",
   "metadata": {},
   "source": [
    "# Json structure"
   ]
  },
  {
   "cell_type": "code",
   "execution_count": 3,
   "metadata": {},
   "outputs": [
    {
     "data": {
      "text/plain": [
       "'/47c54299-P104_98.png'"
      ]
     },
     "execution_count": 3,
     "metadata": {},
     "output_type": "execute_result"
    }
   ],
   "source": [
    "mask_data[0][\"data\"][\"image\"][14:]\n"
   ]
  },
  {
   "cell_type": "code",
   "execution_count": 4,
   "metadata": {},
   "outputs": [
    {
     "data": {
      "text/plain": [
       "[{'original_width': 512,\n",
       "  'original_height': 512,\n",
       "  'image_rotation': 0,\n",
       "  'value': {'x': 14.84374999999998,\n",
       "   'y': 26.95312499999996,\n",
       "   'width': 66.99218749999996,\n",
       "   'height': 45.31249999999997,\n",
       "   'rotation': 0,\n",
       "   'rectanglelabels': ['Open lungs']},\n",
       "  'id': 'VMZnXhZ4-0',\n",
       "  'from_name': 'label',\n",
       "  'to_name': 'image',\n",
       "  'type': 'rectanglelabels',\n",
       "  'origin': 'manual'}]"
      ]
     },
     "execution_count": 4,
     "metadata": {},
     "output_type": "execute_result"
    }
   ],
   "source": [
    "mask_data[0][\"annotations\"][0][\"result\"]"
   ]
  },
  {
   "cell_type": "code",
   "execution_count": 4,
   "metadata": {},
   "outputs": [],
   "source": [
    "# returns an image and bb coordinates\n",
    "def getBbox(img_array, x, y, width, height):\n",
    "    coordinates = []\n",
    "    \n",
    "    #print(img)\n",
    "    #img_array = cv2.imread(os.path.join(path,img), cv2.IMREAD_GRAYSCALE)\n",
    "    #img_array = cv2.resize(img_array, (512,512), interpolation= cv2.INTER_LINEAR)\n",
    "    #print(img_array.shape)\n",
    "    #bbox co ordinated -----> x1,y1   x2,y2\n",
    "    #print(annatation[\"bbox\"])\n",
    "    #plt.imshow(img_array, cmap=\"gray\")\n",
    "\n",
    "    row = img_array.sum(axis=0)\n",
    "    coloumn = img_array.sum(axis=1)\n",
    "\n",
    "    #concat rows and coloumn\n",
    "    concat_data = np.concatenate((row, coloumn))\n",
    "\n",
    "    x1 = x/100*512\n",
    "    y1 = y/100*512\n",
    "\n",
    "    x2_temp = width/100*512\n",
    "    y2_temp = height/100*512\n",
    "\n",
    "    x2 = x1+x2_temp\n",
    "    y2 = y1+y2_temp\n",
    "\n",
    "    \n",
    "    '''mid_x = (x1+x2)/2\n",
    "    mid_y = (y1+y2)/2\n",
    "    x1 = mid_x - (med_width/2)\n",
    "    y1 = mid_y - (med_height/2)\n",
    "\n",
    "    x2 = mid_x + (med_width/2) \n",
    "    y2 = mid_y + (med_height/2)'''\n",
    "    \n",
    "    coordinates.append(int(x1))\n",
    "    coordinates.append(int(y1))\n",
    "    coordinates.append(int(x2))\n",
    "    coordinates.append(int(y2))\n",
    "    return concat_data, coordinates\n"
   ]
  },
  {
   "cell_type": "markdown",
   "metadata": {},
   "source": [
    "## Find the medians for the bbox"
   ]
  },
  {
   "cell_type": "code",
   "execution_count": 7,
   "metadata": {},
   "outputs": [
    {
     "data": {
      "application/vnd.jupyter.widget-view+json": {
       "model_id": "b88f534fcb0345bd92cc749a23990fdb",
       "version_major": 2,
       "version_minor": 0
      },
      "text/plain": [
       "HBox(children=(HTML(value=''), FloatProgress(value=0.0, max=1004.0), HTML(value='')))"
      ]
     },
     "metadata": {},
     "output_type": "display_data"
    },
    {
     "name": "stdout",
     "output_type": "stream",
     "text": [
      "\n",
      "median_width: 361.00000000000017\n",
      "median_height: 269.9999999999999\n"
     ]
    }
   ],
   "source": [
    "median_width = []\n",
    "median_height = []\n",
    "for data in tqdm(mask_data):\n",
    "    if(len(data[\"annotations\"][0][\"result\"]) != 0):\n",
    "\n",
    "        x = data[\"annotations\"][0][\"result\"][0][\"value\"][\"x\"]\n",
    "        y = data[\"annotations\"][0][\"result\"][0][\"value\"][\"y\"]\n",
    "        \n",
    "        width = data[\"annotations\"][0][\"result\"][0][\"value\"][\"width\"]\n",
    "        height = data[\"annotations\"][0][\"result\"][0][\"value\"][\"height\"]\n",
    "\n",
    "        x1 = x/100*512\n",
    "        y1 = y/100*512\n",
    "        x2_temp = width/100*512\n",
    "        y2_temp = height/100*512\n",
    "\n",
    "        x2 = x1+x2_temp\n",
    "        y2 = y1+y2_temp\n",
    "\n",
    "\n",
    "        median_width.append(x2-x1)\n",
    "        median_height.append(y2-y1)\n",
    "\n",
    "\n",
    "med_width = np.median(median_width)\n",
    "med_height = np.median(median_height)\n",
    "\n",
    "\n",
    "\n",
    "\n",
    "print(\"median_width:\", med_width)\n",
    "print(\"median_height:\", med_height)\n"
   ]
  },
  {
   "cell_type": "markdown",
   "metadata": {},
   "source": [
    "## Fetch Dataset "
   ]
  },
  {
   "cell_type": "code",
   "execution_count": 9,
   "metadata": {},
   "outputs": [
    {
     "data": {
      "application/vnd.jupyter.widget-view+json": {
       "model_id": "d2732f8905c74aa5804755aec9099339",
       "version_major": 2,
       "version_minor": 0
      },
      "text/plain": [
       "HBox(children=(HTML(value=''), FloatProgress(value=0.0, max=1004.0), HTML(value='')))"
      ]
     },
     "metadata": {},
     "output_type": "display_data"
    },
    {
     "name": "stdout",
     "output_type": "stream",
     "text": [
      "\n"
     ]
    }
   ],
   "source": [
    "path = \"D:/Project2022/res/Datasets/mask_data/images/\"\n",
    "\n",
    "raw_images= []\n",
    "conacat_image = []\n",
    "bb_cordinates = []\n",
    "\n",
    "for data in tqdm(mask_data):\n",
    "#for data, bb_data in zip(mask_data[\"image\"], mask_data[\"label\"]):\n",
    "    #print(data[\"annotations\"][0][\"result\"][0][\"value\"])\n",
    "\n",
    "    if(len(data[\"annotations\"][0][\"result\"]) != 0):\n",
    "        x = data[\"annotations\"][0][\"result\"][0][\"value\"][\"x\"]\n",
    "        y = data[\"annotations\"][0][\"result\"][0][\"value\"][\"y\"]\n",
    "        width = data[\"annotations\"][0][\"result\"][0][\"value\"][\"width\"]\n",
    "        height = data[\"annotations\"][0][\"result\"][0][\"value\"][\"height\"]\n",
    "\n",
    "    \n",
    "\n",
    "        #print(data[\"data\"][\"image\"][15:])\n",
    "        img = data[\"data\"][\"image\"][15:]\n",
    "\n",
    "    \n",
    "        if(os.path.isfile(os.path.join(path,img))):\n",
    "\n",
    "            img_array = cv2.imread(os.path.join(path,img), cv2.IMREAD_GRAYSCALE)\n",
    "            img_array = cv2.resize(img_array, (512,512), interpolation= cv2.INTER_LINEAR)\n",
    "\n",
    "            data, label = getBbox(img_array, x, y, width, height)\n",
    "            #data, label = getBbox(img_array, x, y, med_width, med_height)\n",
    "\n",
    "            raw_images.append(img_array)\n",
    "            conacat_image.append(data)\n",
    "            bb_cordinates.append(label)\n",
    "\n",
    "            plot_array = np.copy(img_array)\n",
    "            cv2.rectangle(plot_array, (label[0], label[1]), (label[2], label[3]),color=(255, 0, 0), thickness=2)\n",
    "            cv2.imwrite(\"D:/Project2022/res/Datasets/mask_data/output/\"+img, plot_array)\n",
    "\n",
    "\n",
    "\n",
    "            # Flip the ct scan (axis = 1 ) and its Bbox\n",
    "            img_flip = np.copy(img_array)\n",
    "            img_flip = cv2.flip(img_flip, 1)\n",
    "\n",
    "            data, label = getBbox(img_flip, x, y, width, height)\n",
    "            #data, label = getBbox(img_flip, x, y, med_width, med_height)\n",
    "\n",
    "            #plt.figure(figsize=(5, 5), dpi=100)\n",
    "            \n",
    "            bbox_flip = [512-label[2], label[1], 512-label[0], label[3]]\n",
    "\n",
    "            raw_images.append(img_flip)\n",
    "            conacat_image.append(data)\n",
    "            bb_cordinates.append(bbox_flip)\n",
    "\n",
    "            plot_array = np.copy(img_flip)\n",
    "            cv2.rectangle(plot_array, (bbox_flip[0], bbox_flip[1]), (bbox_flip[2], bbox_flip[3]),color=(255, 0, 0), thickness=2)\n",
    "            cv2.imwrite(\"D:/Project2022/res/Datasets/mask_data/output/\"+\"flip_\"+img, plot_array)\n",
    "\n",
    "                #plt.imshow(img_array)\n",
    "\n",
    "                #print(data.shape)\n",
    "                #print(label)\n",
    "\n",
    "    \n",
    "    "
   ]
  },
  {
   "cell_type": "code",
   "execution_count": 9,
   "metadata": {},
   "outputs": [],
   "source": [
    "mask_df = pd.DataFrame()\n",
    "mask_df[\"raw data\"] = raw_images\n",
    "mask_df[\"concat data\"] = conacat_image\n",
    "mask_df[\"bbox\"] = bb_cordinates"
   ]
  },
  {
   "cell_type": "code",
   "execution_count": 10,
   "metadata": {},
   "outputs": [
    {
     "name": "stdout",
     "output_type": "stream",
     "text": [
      "No of samles: 1870\n"
     ]
    }
   ],
   "source": [
    "print(\"No of samles:\", mask_df.shape[0])"
   ]
  },
  {
   "cell_type": "code",
   "execution_count": 11,
   "metadata": {},
   "outputs": [
    {
     "data": {
      "text/html": [
       "<div>\n",
       "<style scoped>\n",
       "    .dataframe tbody tr th:only-of-type {\n",
       "        vertical-align: middle;\n",
       "    }\n",
       "\n",
       "    .dataframe tbody tr th {\n",
       "        vertical-align: top;\n",
       "    }\n",
       "\n",
       "    .dataframe thead th {\n",
       "        text-align: right;\n",
       "    }\n",
       "</style>\n",
       "<table border=\"1\" class=\"dataframe\">\n",
       "  <thead>\n",
       "    <tr style=\"text-align: right;\">\n",
       "      <th></th>\n",
       "      <th>raw data</th>\n",
       "      <th>concat data</th>\n",
       "      <th>bbox</th>\n",
       "    </tr>\n",
       "  </thead>\n",
       "  <tbody>\n",
       "    <tr>\n",
       "      <th>0</th>\n",
       "      <td>[[2, 3, 2, 0, 2, 4, 1, 1, 2, 5, 4, 0, 0, 4, 3,...</td>\n",
       "      <td>[18381, 18619, 18847, 19111, 19284, 19356, 194...</td>\n",
       "      <td>[75, 137, 418, 369]</td>\n",
       "    </tr>\n",
       "    <tr>\n",
       "      <th>1</th>\n",
       "      <td>[[0, 0, 0, 0, 0, 0, 0, 2, 4, 3, 1, 1, 2, 4, 3,...</td>\n",
       "      <td>[10820, 11123, 11498, 11846, 12171, 12608, 131...</td>\n",
       "      <td>[94, 137, 437, 369]</td>\n",
       "    </tr>\n",
       "    <tr>\n",
       "      <th>2</th>\n",
       "      <td>[[2, 2, 0, 0, 2, 3, 3, 1, 1, 3, 5, 3, 3, 1, 0,...</td>\n",
       "      <td>[18420, 18699, 18940, 19216, 19474, 19567, 196...</td>\n",
       "      <td>[75, 139, 419, 372]</td>\n",
       "    </tr>\n",
       "    <tr>\n",
       "      <th>3</th>\n",
       "      <td>[[0, 0, 0, 0, 0, 0, 0, 2, 1, 2, 3, 4, 2, 1, 2,...</td>\n",
       "      <td>[10764, 11061, 11419, 11766, 12157, 12639, 132...</td>\n",
       "      <td>[93, 139, 437, 372]</td>\n",
       "    </tr>\n",
       "    <tr>\n",
       "      <th>4</th>\n",
       "      <td>[[0, 5, 6, 2, 0, 2, 5, 4, 0, 0, 4, 3, 0, 4, 5,...</td>\n",
       "      <td>[18244, 18490, 18691, 18850, 18979, 19150, 193...</td>\n",
       "      <td>[77, 140, 417, 368]</td>\n",
       "    </tr>\n",
       "  </tbody>\n",
       "</table>\n",
       "</div>"
      ],
      "text/plain": [
       "                                            raw data  \\\n",
       "0  [[2, 3, 2, 0, 2, 4, 1, 1, 2, 5, 4, 0, 0, 4, 3,...   \n",
       "1  [[0, 0, 0, 0, 0, 0, 0, 2, 4, 3, 1, 1, 2, 4, 3,...   \n",
       "2  [[2, 2, 0, 0, 2, 3, 3, 1, 1, 3, 5, 3, 3, 1, 0,...   \n",
       "3  [[0, 0, 0, 0, 0, 0, 0, 2, 1, 2, 3, 4, 2, 1, 2,...   \n",
       "4  [[0, 5, 6, 2, 0, 2, 5, 4, 0, 0, 4, 3, 0, 4, 5,...   \n",
       "\n",
       "                                         concat data                 bbox  \n",
       "0  [18381, 18619, 18847, 19111, 19284, 19356, 194...  [75, 137, 418, 369]  \n",
       "1  [10820, 11123, 11498, 11846, 12171, 12608, 131...  [94, 137, 437, 369]  \n",
       "2  [18420, 18699, 18940, 19216, 19474, 19567, 196...  [75, 139, 419, 372]  \n",
       "3  [10764, 11061, 11419, 11766, 12157, 12639, 132...  [93, 139, 437, 372]  \n",
       "4  [18244, 18490, 18691, 18850, 18979, 19150, 193...  [77, 140, 417, 368]  "
      ]
     },
     "execution_count": 11,
     "metadata": {},
     "output_type": "execute_result"
    }
   ],
   "source": [
    "mask_df.head()\n"
   ]
  },
  {
   "cell_type": "code",
   "execution_count": 40,
   "metadata": {},
   "outputs": [],
   "source": [
    "#save data\n",
    "mask_df.to_pickle(\"D:/Project2022/res/Datasets/mask_bbox_large_dataset.pickle\")"
   ]
  },
  {
   "cell_type": "code",
   "execution_count": 12,
   "metadata": {},
   "outputs": [],
   "source": [
    "#-----------------    0                1\n",
    "#combine_X -----> [[\"raw data\"], [\"concat data\"]]\n",
    "combine_df = pd.DataFrame()\n",
    "combine_df[\"raw data\"] = raw_images\n",
    "combine_df[\"concat data\"] = conacat_image"
   ]
  },
  {
   "cell_type": "code",
   "execution_count": 13,
   "metadata": {},
   "outputs": [
    {
     "name": "stdout",
     "output_type": "stream",
     "text": [
      "X shape: (1870, 1024) \n",
      "y shape: (1870, 4)\n"
     ]
    }
   ],
   "source": [
    "# Dataset shape\n",
    "print(\"X shape:\", np.array(conacat_image).shape, \"\\ny shape:\", np.array(bb_cordinates).shape)"
   ]
  },
  {
   "cell_type": "code",
   "execution_count": 5,
   "metadata": {},
   "outputs": [],
   "source": [
    "def data_reshape(array):\n",
    "    data = []\n",
    "    for sample in tqdm(array):\n",
    "        data.append(list(sample))\n",
    "    return np.array(data)"
   ]
  },
  {
   "cell_type": "code",
   "execution_count": 15,
   "metadata": {},
   "outputs": [],
   "source": [
    "from sklearn.model_selection import train_test_split\n",
    "X_train, X_test, y_train, y_test = train_test_split(combine_df, bb_cordinates, test_size = 0.2, random_state = 42)\n",
    "#X_train, X_test, y_train, y_test = train_test_split(conacat_image, bb_cordinates, test_size = 0.2, random_state = 42)"
   ]
  },
  {
   "cell_type": "code",
   "execution_count": 16,
   "metadata": {},
   "outputs": [
    {
     "data": {
      "application/vnd.jupyter.widget-view+json": {
       "model_id": "af947c2edd124b9ebfb7252ca1b1fb84",
       "version_major": 2,
       "version_minor": 0
      },
      "text/plain": [
       "HBox(children=(HTML(value=''), FloatProgress(value=0.0, max=1496.0), HTML(value='')))"
      ]
     },
     "metadata": {},
     "output_type": "display_data"
    },
    {
     "name": "stdout",
     "output_type": "stream",
     "text": [
      "\n"
     ]
    },
    {
     "data": {
      "application/vnd.jupyter.widget-view+json": {
       "model_id": "024b286b70254818b45a632423c66259",
       "version_major": 2,
       "version_minor": 0
      },
      "text/plain": [
       "HBox(children=(HTML(value=''), FloatProgress(value=0.0, max=374.0), HTML(value='')))"
      ]
     },
     "metadata": {},
     "output_type": "display_data"
    },
    {
     "name": "stdout",
     "output_type": "stream",
     "text": [
      "\n"
     ]
    }
   ],
   "source": [
    "#normalize the train data\n",
    "from sklearn import preprocessing\n",
    "norm_x = preprocessing.normalize(data_reshape(X_train[\"concat data\"]))\n",
    "norm_x_test = preprocessing.normalize(data_reshape(X_test[\"concat data\"]))\n",
    "norm_y = np.array(y_train)/512\n",
    "norm_y_test = np.array(y_test)/512\n"
   ]
  },
  {
   "cell_type": "code",
   "execution_count": 17,
   "metadata": {},
   "outputs": [],
   "source": [
    "# Define model\n",
    "model = Sequential()\n",
    "model.add(Dense(512, input_dim=1024, activation= \"relu\"))\n",
    "model.add(Dense(256, activation= \"relu\"))\n",
    "model.add(Dense(128, activation= \"relu\"))\n",
    "model.add(Dense(64, activation= \"relu\"))\n",
    "model.add(Dense(4))\n",
    "#model.summary() #Print model Summary"
   ]
  },
  {
   "cell_type": "code",
   "execution_count": 18,
   "metadata": {},
   "outputs": [
    {
     "name": "stdout",
     "output_type": "stream",
     "text": [
      "Epoch 1/15\n",
      "47/47 [==============================] - 0s 4ms/step - loss: 0.0331 - mean_squared_error: 0.0331\n",
      "Epoch 2/15\n",
      "47/47 [==============================] - 0s 4ms/step - loss: 0.0039 - mean_squared_error: 0.0039\n",
      "Epoch 3/15\n",
      "47/47 [==============================] - 0s 4ms/step - loss: 0.0022 - mean_squared_error: 0.0022\n",
      "Epoch 4/15\n",
      "47/47 [==============================] - 0s 4ms/step - loss: 0.0018 - mean_squared_error: 0.0018\n",
      "Epoch 5/15\n",
      "47/47 [==============================] - 0s 4ms/step - loss: 0.0016 - mean_squared_error: 0.0016\n",
      "Epoch 6/15\n",
      "47/47 [==============================] - 0s 4ms/step - loss: 0.0015 - mean_squared_error: 0.0015\n",
      "Epoch 7/15\n",
      "47/47 [==============================] - 0s 4ms/step - loss: 0.0014 - mean_squared_error: 0.0014\n",
      "Epoch 8/15\n",
      "47/47 [==============================] - 0s 4ms/step - loss: 0.0013 - mean_squared_error: 0.0013\n",
      "Epoch 9/15\n",
      "47/47 [==============================] - 0s 4ms/step - loss: 0.0013 - mean_squared_error: 0.0013\n",
      "Epoch 10/15\n",
      "47/47 [==============================] - 0s 4ms/step - loss: 0.0012 - mean_squared_error: 0.0012\n",
      "Epoch 11/15\n",
      "47/47 [==============================] - 0s 4ms/step - loss: 0.0012 - mean_squared_error: 0.0012\n",
      "Epoch 12/15\n",
      "47/47 [==============================] - 0s 4ms/step - loss: 0.0012 - mean_squared_error: 0.0012\n",
      "Epoch 13/15\n",
      "47/47 [==============================] - 0s 4ms/step - loss: 0.0011 - mean_squared_error: 0.0011\n",
      "Epoch 14/15\n",
      "47/47 [==============================] - 0s 4ms/step - loss: 0.0011 - mean_squared_error: 0.0011\n",
      "Epoch 15/15\n",
      "47/47 [==============================] - 0s 4ms/step - loss: 9.9514e-04 - mean_squared_error: 9.9514e-04\n"
     ]
    }
   ],
   "source": [
    "model.compile(loss= \"mean_squared_error\" , optimizer=\"adam\", metrics=[\"mean_squared_error\"])\n",
    "history = model.fit(norm_x, norm_y, epochs=15)"
   ]
  },
  {
   "cell_type": "code",
   "execution_count": 25,
   "metadata": {},
   "outputs": [],
   "source": [
    "model.save(\"D:/Project2022/Code/bbox_estimator.h5\")"
   ]
  },
  {
   "cell_type": "code",
   "execution_count": 19,
   "metadata": {},
   "outputs": [],
   "source": [
    "pred = model.predict(norm_x_test)"
   ]
  },
  {
   "cell_type": "code",
   "execution_count": 21,
   "metadata": {},
   "outputs": [],
   "source": [
    "# de normalize the coordinates\n",
    "y_actual = np.array(y_test)\n",
    "y_pred = pred*512"
   ]
  },
  {
   "cell_type": "code",
   "execution_count": 22,
   "metadata": {},
   "outputs": [
    {
     "name": "stdout",
     "output_type": "stream",
     "text": [
      "No of test samples: 374\n"
     ]
    }
   ],
   "source": [
    "print(\"No of test samples:\", len(y_pred))"
   ]
  },
  {
   "cell_type": "markdown",
   "metadata": {},
   "source": [
    "## plot the predicted co-ordinates on the test data"
   ]
  },
  {
   "cell_type": "code",
   "execution_count": 23,
   "metadata": {},
   "outputs": [
    {
     "data": {
      "application/vnd.jupyter.widget-view+json": {
       "model_id": "aaf149d19c694094bb10eb2e12390e86",
       "version_major": 2,
       "version_minor": 0
      },
      "text/plain": [
       "HBox(children=(HTML(value=''), FloatProgress(value=0.0, max=374.0), HTML(value='')))"
      ]
     },
     "metadata": {},
     "output_type": "display_data"
    },
    {
     "name": "stdout",
     "output_type": "stream",
     "text": [
      "\n"
     ]
    }
   ],
   "source": [
    "path = \"D:/Project2022/res/Datasets/mask/test\"\n",
    "test_samples = data_reshape(X_test[\"raw data\"])\n",
    "no = 1\n",
    "for img_array, tcoor, coor  in zip(test_samples, y_actual, y_pred):\n",
    "    file = \"sample\"+str(no)+\".png\"\n",
    "    #plt.imshow(img_array, cmap=\"gray\")\n",
    "    #plt.show()\n",
    "    #print(coor)\n",
    "\n",
    "    cv2.putText(img_array, 'true', (int(tcoor[0]), int(tcoor[1])), cv2.FONT_HERSHEY_SIMPLEX, 0.9, (36,255,12), 2)\n",
    "    cv2.rectangle(img_array, \n",
    "        (int(tcoor[0]), int(tcoor[1])), \n",
    "        (int(tcoor[2]), int(tcoor[3])),\n",
    "        color=(36, 255, 12), \n",
    "        thickness=3)\n",
    "\n",
    "    \n",
    "    cv2.putText(img_array, 'pred', (int(coor[0]), int(coor[1])), cv2.FONT_HERSHEY_SIMPLEX, 0.9, (255,0,0), 1)\n",
    "    cv2.rectangle(img_array, \n",
    "        (int(coor[0]), int(coor[1])), \n",
    "        (int(coor[2]), int(coor[3])),\n",
    "        color=(255, 0, 0), \n",
    "        thickness=1)\n",
    "    \n",
    "\n",
    "    cv2.imwrite(\"D:/Project2022/Code/mask_keras/\"+file,img_array)\n",
    "    no += 1\n",
    "    "
   ]
  },
  {
   "cell_type": "markdown",
   "metadata": {},
   "source": [
    "# Testing on large dataset"
   ]
  },
  {
   "cell_type": "code",
   "execution_count": 6,
   "metadata": {},
   "outputs": [],
   "source": [
    "# Load the model\n",
    "from keras.models import load_model\n",
    "model = load_model('D:/Project2022/Code/bbox_estimator.h5')"
   ]
  },
  {
   "cell_type": "code",
   "execution_count": 7,
   "metadata": {},
   "outputs": [],
   "source": [
    "# returns an image and bb coordinates\n",
    "def img_to_arr(img_array ):\n",
    "    coordinates = []\n",
    "    row = img_array.sum(axis=0)\n",
    "    coloumn = img_array.sum(axis=1)\n",
    "\n",
    "    #concat rows and coloumn\n",
    "    concat_data = np.concatenate((row, coloumn))\n",
    "\n",
    "    return concat_data"
   ]
  },
  {
   "cell_type": "code",
   "execution_count": 8,
   "metadata": {},
   "outputs": [
    {
     "data": {
      "application/vnd.jupyter.widget-view+json": {
       "model_id": "91147d30cde24d5387f044be9e10ef59",
       "version_major": 2,
       "version_minor": 0
      },
      "text/plain": [
       "HBox(children=(HTML(value=''), FloatProgress(value=0.0, max=6893.0), HTML(value='')))"
      ]
     },
     "metadata": {},
     "output_type": "display_data"
    },
    {
     "name": "stdout",
     "output_type": "stream",
     "text": [
      "\n"
     ]
    }
   ],
   "source": [
    "dataset_path = \"D:/Project2022/res/final dataset/original/normal\"\n",
    "raw_data = []\n",
    "concat_data =[]\n",
    "for img in tqdm(os.listdir(dataset_path)):\n",
    "    #print(img)\n",
    "\n",
    "    img_array = cv2.imread(os.path.join(dataset_path,img), cv2.IMREAD_GRAYSCALE)\n",
    "    img_array = cv2.resize(img_array, (512,512), interpolation= cv2.INTER_LINEAR)\n",
    "\n",
    "    data  = img_to_arr(img_array)\n",
    "    #data, label = getBbox(img_array, x, y, med_width, med_height)\n",
    "\n",
    "    raw_data.append(img_array)\n",
    "    concat_data.append(data)\n",
    "    "
   ]
  },
  {
   "cell_type": "code",
   "execution_count": 9,
   "metadata": {},
   "outputs": [
    {
     "data": {
      "application/vnd.jupyter.widget-view+json": {
       "model_id": "db0b1070a5264da0b91f9bde1513bef6",
       "version_major": 2,
       "version_minor": 0
      },
      "text/plain": [
       "HBox(children=(HTML(value=''), FloatProgress(value=0.0, max=6893.0), HTML(value='')))"
      ]
     },
     "metadata": {},
     "output_type": "display_data"
    },
    {
     "name": "stdout",
     "output_type": "stream",
     "text": [
      "\n"
     ]
    }
   ],
   "source": [
    "#normalize the train data\n",
    "from sklearn import preprocessing\n",
    "x_large = preprocessing.normalize(data_reshape(concat_data))"
   ]
  },
  {
   "cell_type": "code",
   "execution_count": 10,
   "metadata": {},
   "outputs": [],
   "source": [
    "pred_bbox_large = model.predict(x_large)\n",
    "\n",
    "#de-normalize\n",
    "pred_bbox_large = pred_bbox_large*512"
   ]
  },
  {
   "cell_type": "code",
   "execution_count": 11,
   "metadata": {},
   "outputs": [
    {
     "name": "stdout",
     "output_type": "stream",
     "text": [
      "BBox shape: (6893, 4)\n"
     ]
    }
   ],
   "source": [
    "print(\"BBox shape:\",pred_bbox_large.shape)\n"
   ]
  },
  {
   "cell_type": "markdown",
   "metadata": {},
   "source": [
    "# plot un-scaled predicted bboxes"
   ]
  },
  {
   "cell_type": "code",
   "execution_count": 68,
   "metadata": {},
   "outputs": [
    {
     "data": {
      "application/vnd.jupyter.widget-view+json": {
       "model_id": "36de6a70eab645139f6786b0a3158113",
       "version_major": 2,
       "version_minor": 0
      },
      "text/plain": [
       "HBox(children=(HTML(value=''), FloatProgress(value=0.0, max=7149.0), HTML(value='')))"
      ]
     },
     "metadata": {},
     "output_type": "display_data"
    },
    {
     "name": "stdout",
     "output_type": "stream",
     "text": [
      "\n"
     ]
    },
    {
     "data": {
      "application/vnd.jupyter.widget-view+json": {
       "model_id": "83902afe835c4ca988f9bc89930b6e0f",
       "version_major": 2,
       "version_minor": 0
      },
      "text/plain": [
       "HBox(children=(HTML(value=''), FloatProgress(value=0.0, max=7149.0), HTML(value='')))"
      ]
     },
     "metadata": {},
     "output_type": "display_data"
    },
    {
     "name": "stdout",
     "output_type": "stream",
     "text": [
      "\n"
     ]
    }
   ],
   "source": [
    "samples = data_reshape(raw_data)\n",
    "no = 1\n",
    "for img_array, coor  in tqdm(zip(samples, pred_bbox_large), total = len(raw_data)):\n",
    "    file = \"sample\"+str(no)+\".png\"\n",
    "    #plt.imshow(img_array, cmap=\"gray\")\n",
    "    #plt.show()\n",
    "    #print(coor)\n",
    "    \n",
    "    cv2.putText(img_array, 'pred', (int(coor[0]), int(coor[1])), cv2.FONT_HERSHEY_SIMPLEX, 0.9, (255,0,0), 1)\n",
    "    cv2.rectangle(img_array, \n",
    "        (int(coor[0]), int(coor[1])), \n",
    "        (int(coor[2]), int(coor[3])),\n",
    "        color=(255, 0, 0), \n",
    "        thickness=1)\n",
    "    \n",
    "\n",
    "    cv2.imwrite(\"D:/Project2022/Code/predicted_bbox/unscaled/\"+file,img_array)\n",
    "    no += 1"
   ]
  },
  {
   "cell_type": "markdown",
   "metadata": {},
   "source": [
    "# find the median bbox"
   ]
  },
  {
   "cell_type": "code",
   "execution_count": 39,
   "metadata": {},
   "outputs": [
    {
     "data": {
      "application/vnd.jupyter.widget-view+json": {
       "model_id": "cb941ec4d5b5415ca4570d94353ee4d6",
       "version_major": 2,
       "version_minor": 0
      },
      "text/plain": [
       "HBox(children=(HTML(value=''), FloatProgress(value=0.0, max=7149.0), HTML(value='')))"
      ]
     },
     "metadata": {},
     "output_type": "display_data"
    },
    {
     "name": "stdout",
     "output_type": "stream",
     "text": [
      "\n",
      "median_width: 358.34094\n",
      "median_height: 246.3305\n"
     ]
    }
   ],
   "source": [
    "median_width = []\n",
    "median_height = []\n",
    "for bbox in tqdm(pred_bbox_large):\n",
    "    median_width.append(bbox[2] - bbox[0])\n",
    "    median_height.append(bbox[3] - bbox[1])\n",
    "\n",
    "\n",
    "med_width = np.median(median_width)\n",
    "med_height = np.median(median_height)\n",
    "\n",
    "\n",
    "print(\"median_width:\", med_width)\n",
    "print(\"median_height:\", med_height)\n",
    "    \n",
    "\n"
   ]
  },
  {
   "cell_type": "code",
   "execution_count": 20,
   "metadata": {},
   "outputs": [],
   "source": [
    "\n",
    "\n",
    "def scale_bbox(pred_bbox):\n",
    "\n",
    "    coordinates = []\n",
    "    mid_x = (pred_bbox[0]+pred_bbox[2])/2\n",
    "    mid_y = (pred_bbox[1]+pred_bbox[3])/2\n",
    "\n",
    "    width = pred_bbox[2] - pred_bbox[0]\n",
    "    height = pred_bbox[3] - pred_bbox[1]\n",
    "\n",
    "    #print(\"med_width\", med_width)\n",
    "    #print(\"med_height\", med_height)\n",
    "\n",
    "    #print(\"width\",width)\n",
    "    #print(\"height\",height)\n",
    "    #width_diff = med_width - width\n",
    "    #height_diff = med_height - height\n",
    "\n",
    "    vert_scale = width/med_width\n",
    "    horzi_scale = height/med_height\n",
    "\n",
    "    #vert_scale = med_width/width\n",
    "    #horzi_scale = med_height/height\n",
    "\n",
    "    scale_factor = max(vert_scale,horzi_scale)\n",
    "\n",
    "\n",
    "    #print(\"width_diff\",vert_scale)\n",
    "    #print(\"height_diff\",horzi_scale)\n",
    "\n",
    "    #scale_factor = width_diff / height_diff\n",
    "    \n",
    "\n",
    "    #print(\"scale_factor\",scale_factor)\n",
    "\n",
    "    scaled_width = med_width * scale_factor\n",
    "    scaled_height = med_height * scale_factor\n",
    "\n",
    "    #print(\"scaled_width\", scaled_width)\n",
    "    #print(\"scaled_height\", scaled_height)\n",
    "\n",
    "\n",
    "    x1 = mid_x - (scaled_width/2)\n",
    "    y1 = mid_y - (scaled_height/2)\n",
    "\n",
    "    x2 = mid_x + (scaled_width/2) \n",
    "    y2 = mid_y + (scaled_height/2)\n",
    "\n",
    "\n",
    "    if(x1<0):\n",
    "        x1 = 0\n",
    "    \n",
    "    if(y1<0):\n",
    "        y1 = 0\n",
    "\n",
    "    if(x2>512):\n",
    "        x2 = 512\n",
    "\n",
    "    if(y2>512):\n",
    "        y2 = 512\n",
    "\n",
    "    coordinates.append(x1)\n",
    "    coordinates.append(y1)\n",
    "    coordinates.append(x2)\n",
    "    coordinates.append(y2)\n",
    "    return coordinates\n",
    "\n"
   ]
  },
  {
   "cell_type": "markdown",
   "metadata": {},
   "source": [
    "# plot scaled predicted bboxes"
   ]
  },
  {
   "cell_type": "code",
   "execution_count": null,
   "metadata": {},
   "outputs": [],
   "source": [
    "samples = data_reshape(raw_data)\n",
    "no = 1\n",
    "for img_array, pred_bbox  in tqdm(zip(samples, pred_bbox_large), total = len(raw_data)):\n",
    "    file = \"sample\"+str(no)+\".png\"\n",
    "    #plt.imshow(img_array, cmap=\"gray\")\n",
    "    #plt.show()\n",
    "    #print(coor)\n",
    "\n",
    "\n",
    "    cv2.putText(img_array, 'predicted', (int(pred_bbox[2]-100), int(pred_bbox[3])), cv2.FONT_HERSHEY_SIMPLEX, 0.9, (255,0,0), 2)\n",
    "    cv2.rectangle(img_array, \n",
    "        (int(pred_bbox[0]), int(pred_bbox[1])), \n",
    "        (int(pred_bbox[2]), int(pred_bbox[3])),\n",
    "        color=(255, 0, 0), \n",
    "        thickness=2)\n",
    "\n",
    "\n",
    "    coor = scale_bbox(pred_bbox)\n",
    "    \n",
    "    cv2.putText(img_array, 'Scaled', (int(coor[0]), int(coor[1])), cv2.FONT_HERSHEY_SIMPLEX, 0.9, (255,0,0), 1)\n",
    "    cv2.rectangle(img_array, \n",
    "        (int(coor[0]), int(coor[1])), \n",
    "        (int(coor[2]), int(coor[3])),\n",
    "        color=(255, 0, 0), \n",
    "        thickness=1)\n",
    "    \n",
    "\n",
    "    cv2.imwrite(\"D:/Project2022/Code/predicted_bbox/scaled/\"+file,img_array)\n",
    "    no += 1"
   ]
  },
  {
   "cell_type": "code",
   "execution_count": 12,
   "metadata": {},
   "outputs": [
    {
     "data": {
      "application/vnd.jupyter.widget-view+json": {
       "model_id": "841d8616020f42ffb4f1c129bbabf04b",
       "version_major": 2,
       "version_minor": 0
      },
      "text/plain": [
       "HBox(children=(HTML(value=''), FloatProgress(value=0.0, max=6893.0), HTML(value='')))"
      ]
     },
     "metadata": {},
     "output_type": "display_data"
    },
    {
     "name": "stdout",
     "output_type": "stream",
     "text": [
      "\n"
     ]
    }
   ],
   "source": [
    "samples = data_reshape(raw_data)"
   ]
  },
  {
   "cell_type": "markdown",
   "metadata": {},
   "source": [
    "## crop images w.r.t predicted BBox"
   ]
  },
  {
   "cell_type": "code",
   "execution_count": 28,
   "metadata": {},
   "outputs": [
    {
     "data": {
      "application/vnd.jupyter.widget-view+json": {
       "model_id": "954d1f6e83774119881375548a8a58fe",
       "version_major": 2,
       "version_minor": 0
      },
      "text/plain": [
       "HBox(children=(HTML(value=''), FloatProgress(value=0.0, max=6893.0), HTML(value='')))"
      ]
     },
     "metadata": {},
     "output_type": "display_data"
    },
    {
     "name": "stdout",
     "output_type": "stream",
     "text": [
      "\n"
     ]
    }
   ],
   "source": [
    "scaledBbox = [] \n",
    "no = 1\n",
    "for img_array, pred_bbox in tqdm(zip(samples, pred_bbox_large), total=(len(samples))):\n",
    "    file = \"sample_normal\"+str(no)+\".png\"\n",
    "    \n",
    "    #predicted bbox\n",
    "    #bbox = [int(pred_bbox[0]), int(pred_bbox[1]), int(pred_bbox[2]), int(pred_bbox[3])]\n",
    "\n",
    "    #scaled bbox\n",
    "    coor = scale_bbox(pred_bbox)\n",
    "    bbox = [int(coor[0]), int(coor[1]), int(coor[2]), int(coor[3])]\n",
    "    #scaledBbox.append(bbox)\n",
    "\n",
    "    #plt.figure(figsize=(8, 6), dpi=80)\n",
    "    '''cv2.rectangle(img_array, \n",
    "        (bbox[0], bbox[1]), \n",
    "        (bbox[2], bbox[3]),\n",
    "        color=(255, 0, 0), \n",
    "        thickness=2)'''\n",
    "    \n",
    "    #[y1,y2    x1,x2]\n",
    "    cropped_image = img_array[ bbox[1]:bbox[3], bbox[0]:bbox[2]]\n",
    "\n",
    "    cv2.imwrite(\"D:/Project2022/res/final dataset/scaled/normal/\"+file,cropped_image)\n",
    "    no += 1\n",
    "\n",
    "    #plt.imshow(cropped_image, cmap=\"gray\")\n",
    "    #print(bbox)\n",
    "    \n",
    "    "
   ]
  },
  {
   "cell_type": "code",
   "execution_count": 53,
   "metadata": {},
   "outputs": [],
   "source": [
    "def find_median(pred_bbox_large):\n",
    "    median_width = []\n",
    "    median_height = []\n",
    "    for bbox in tqdm(pred_bbox_large):\n",
    "        median_width.append(bbox[2] - bbox[0])\n",
    "        median_height.append(bbox[3] - bbox[1])\n",
    "\n",
    "\n",
    "    med_width = int(np.median(median_width))\n",
    "    med_height = int(np.median(median_height))\n",
    "    return med_width, med_height\n",
    "\n",
    "\n"
   ]
  },
  {
   "cell_type": "code",
   "execution_count": 22,
   "metadata": {},
   "outputs": [],
   "source": [
    "width_resize =  int(367)\n",
    "height_resize = int(252)"
   ]
  },
  {
   "cell_type": "code",
   "execution_count": 54,
   "metadata": {},
   "outputs": [
    {
     "data": {
      "application/vnd.jupyter.widget-view+json": {
       "model_id": "ccb6bee507564ad488277d676c8616ef",
       "version_major": 2,
       "version_minor": 0
      },
      "text/plain": [
       "HBox(children=(HTML(value=''), FloatProgress(value=0.0, max=7149.0), HTML(value='')))"
      ]
     },
     "metadata": {},
     "output_type": "display_data"
    },
    {
     "name": "stdout",
     "output_type": "stream",
     "text": [
      "\n",
      "scaled median_width: 367\n",
      "scaled median_height: 252\n"
     ]
    }
   ],
   "source": [
    "width_resize, height_resize = find_median(scaledBbox)\n",
    "print(\"scaled median_width:\", width_resize)\n",
    "print(\"scaled median_height:\", height_resize)"
   ]
  },
  {
   "cell_type": "markdown",
   "metadata": {},
   "source": [
    "### Resize the scaled images to a median width and height"
   ]
  },
  {
   "cell_type": "code",
   "execution_count": 26,
   "metadata": {},
   "outputs": [
    {
     "data": {
      "application/vnd.jupyter.widget-view+json": {
       "model_id": "fb7590ed127d46a9ba7d471285c14dd3",
       "version_major": 2,
       "version_minor": 0
      },
      "text/plain": [
       "HBox(children=(HTML(value=''), FloatProgress(value=0.0, max=6893.0), HTML(value='')))"
      ]
     },
     "metadata": {},
     "output_type": "display_data"
    },
    {
     "name": "stdout",
     "output_type": "stream",
     "text": [
      "\n"
     ]
    }
   ],
   "source": [
    "dim = (width_resize, height_resize)\n",
    "no = 1\n",
    "for img_array, pred_bbox in tqdm(zip(samples, pred_bbox_large), total=(len(samples))):\n",
    "    file = \"sample_normal\"+str(no)+\".png\"\n",
    "\n",
    "\n",
    "    #scaled bbox\n",
    "    coor = scale_bbox(pred_bbox)\n",
    "    bbox = [int(coor[0]), int(coor[1]), int(coor[2]), int(coor[3])]\n",
    "\n",
    "\n",
    "    #plt.figure(figsize=(8, 6), dpi=80)\n",
    "    '''cv2.rectangle(img_array, \n",
    "        (bbox[0], bbox[1]), \n",
    "        (bbox[2], bbox[3]),\n",
    "        color=(255, 0, 0), \n",
    "        thickness=2)'''\n",
    "    \n",
    "    #[y1,y2    x1,x2]\n",
    "    cropped_image = img_array[ bbox[1]:bbox[3], bbox[0]:bbox[2]]\n",
    "\n",
    "    resized_cropped_image = cv2.resize(cropped_image, dim, interpolation= cv2.INTER_LINEAR)\n",
    "\n",
    "\n",
    "\n",
    "    cv2.imwrite(\"D:/Project2022/res/final dataset/scaled_resized/normal/\"+file,resized_cropped_image)\n",
    "    no += 1\n",
    "\n",
    "    #plt.imshow(resized_cropped_image, cmap=\"gray\")\n",
    "    #print(bbox)\n",
    "    \n",
    "    \n",
    "    \n",
    "\n"
   ]
  },
  {
   "cell_type": "code",
   "execution_count": null,
   "metadata": {},
   "outputs": [],
   "source": []
  }
 ],
 "metadata": {
  "kernelspec": {
   "display_name": "Python 3.8.5 ('base')",
   "language": "python",
   "name": "python3"
  },
  "language_info": {
   "codemirror_mode": {
    "name": "ipython",
    "version": 3
   },
   "file_extension": ".py",
   "mimetype": "text/x-python",
   "name": "python",
   "nbconvert_exporter": "python",
   "pygments_lexer": "ipython3",
   "version": "3.8.5"
  },
  "orig_nbformat": 4,
  "vscode": {
   "interpreter": {
    "hash": "ae9226d693027601aceae575eedf350f61d5dcad848992823f4124ba0f6253a8"
   }
  }
 },
 "nbformat": 4,
 "nbformat_minor": 2
}
