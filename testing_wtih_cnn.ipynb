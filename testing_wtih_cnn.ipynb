{
 "cells": [
  {
   "cell_type": "code",
   "execution_count": 2,
   "metadata": {},
   "outputs": [],
   "source": [
    "#mask\n",
    "import json\n",
    "import cv2\n",
    "import os\n",
    "import pandas as pd \n",
    "import matplotlib.pyplot as plt\n",
    "from tqdm.notebook import tqdm\n",
    "import numpy as np\n",
    "\n",
    "import tensorflow as tf\n",
    "from sklearn.model_selection import train_test_split\n",
    "from tensorflow.keras import datasets, layers, models\n",
    "from keras.models import Sequential\n",
    "from keras.layers import Dense\n",
    "from keras.layers import Flatten \n",
    "from keras.layers import Dropout\n",
    "from keras.layers.convolutional import Conv1D\n",
    "from keras.layers.convolutional import MaxPooling1D\n",
    "from keras.utils import to_categorical\n",
    "import xml.etree.ElementTree as ET"
   ]
  },
  {
   "cell_type": "code",
   "execution_count": 5,
   "metadata": {},
   "outputs": [],
   "source": [
    "CATEGORIES = [\"covid\", \"normal\"]"
   ]
  },
  {
   "cell_type": "code",
   "execution_count": 6,
   "metadata": {},
   "outputs": [],
   "source": [
    "dataset_path = \"D:/Project2022/res/final dataset/original/\""
   ]
  },
  {
   "cell_type": "code",
   "execution_count": 7,
   "metadata": {},
   "outputs": [
    {
     "data": {
      "text/plain": [
       "'\\n0 - covid\\n1 - non covid\\n\\n'"
      ]
     },
     "execution_count": 7,
     "metadata": {},
     "output_type": "execute_result"
    }
   ],
   "source": [
    "#Label\n",
    "'''\n",
    "0 - covid\n",
    "1 - non covid\n",
    "\n",
    "'''"
   ]
  },
  {
   "cell_type": "code",
   "execution_count": 8,
   "metadata": {},
   "outputs": [],
   "source": [
    "def pre_process_dataset(dataset_path):\n",
    "\n",
    "    df_data = pd.DataFrame()\n",
    "    raw_image = []\n",
    "    concat_data = []\n",
    "    label = []\n",
    "\n",
    "    for categoty in CATEGORIES:\n",
    "        path = os.path.join(dataset_path, categoty)  \n",
    "        \n",
    "        class_num = CATEGORIES.index(categoty)\n",
    "        \n",
    "\n",
    "        print(\"Loading dataset: class\",categoty)\n",
    "        for img in tqdm(os.listdir(path)):\n",
    "            try:\n",
    "                img_array = cv2.imread(os.path.join(path,img), cv2.IMREAD_GRAYSCALE)\n",
    "                img_array = cv2.resize(img_array, (512,512), interpolation= cv2.INTER_LINEAR)\n",
    "                row = img_array.sum(axis=0)\n",
    "                coloumn = img_array.sum(axis=1)\n",
    "                concat = np.concatenate((row, coloumn))\n",
    "                raw_image.append(img_array)\n",
    "                concat_data.append(concat)\n",
    "                label.append(class_num)\n",
    "                \n",
    "            except Exception as e:\n",
    "                pass\n",
    "    \n",
    "    df_data[\"raw data\"] = raw_image\n",
    "    df_data[\"concat data\"] = concat_data\n",
    "    df_data[\"label\"] = label\n",
    "    \n",
    "\n",
    "    return df_data"
   ]
  },
  {
   "cell_type": "code",
   "execution_count": 9,
   "metadata": {},
   "outputs": [
    {
     "name": "stdout",
     "output_type": "stream",
     "text": [
      "Loading dataset: class covid\n"
     ]
    },
    {
     "data": {
      "application/vnd.jupyter.widget-view+json": {
       "model_id": "f92a4bc1370f49abbddc0b1340f7d54a",
       "version_major": 2,
       "version_minor": 0
      },
      "text/plain": [
       "HBox(children=(HTML(value=''), FloatProgress(value=0.0, max=7149.0), HTML(value='')))"
      ]
     },
     "metadata": {},
     "output_type": "display_data"
    },
    {
     "name": "stdout",
     "output_type": "stream",
     "text": [
      "\n",
      "Loading dataset: class normal\n"
     ]
    },
    {
     "data": {
      "application/vnd.jupyter.widget-view+json": {
       "model_id": "ddf05f69702f4ab9969affcc6f504f1c",
       "version_major": 2,
       "version_minor": 0
      },
      "text/plain": [
       "HBox(children=(HTML(value=''), FloatProgress(value=0.0, max=6893.0), HTML(value='')))"
      ]
     },
     "metadata": {},
     "output_type": "display_data"
    },
    {
     "name": "stdout",
     "output_type": "stream",
     "text": [
      "\n"
     ]
    }
   ],
   "source": [
    "dataset_df = pre_process_dataset(dataset_path)"
   ]
  },
  {
   "cell_type": "code",
   "execution_count": 10,
   "metadata": {},
   "outputs": [
    {
     "data": {
      "text/html": [
       "<div>\n",
       "<style scoped>\n",
       "    .dataframe tbody tr th:only-of-type {\n",
       "        vertical-align: middle;\n",
       "    }\n",
       "\n",
       "    .dataframe tbody tr th {\n",
       "        vertical-align: top;\n",
       "    }\n",
       "\n",
       "    .dataframe thead th {\n",
       "        text-align: right;\n",
       "    }\n",
       "</style>\n",
       "<table border=\"1\" class=\"dataframe\">\n",
       "  <thead>\n",
       "    <tr style=\"text-align: right;\">\n",
       "      <th></th>\n",
       "      <th>raw data</th>\n",
       "      <th>concat data</th>\n",
       "      <th>label</th>\n",
       "    </tr>\n",
       "  </thead>\n",
       "  <tbody>\n",
       "    <tr>\n",
       "      <th>0</th>\n",
       "      <td>[[1, 1, 1, 1, 1, 1, 1, 1, 1, 1, 1, 1, 1, 1, 1,...</td>\n",
       "      <td>[3253, 5121, 6537, 8271, 8782, 10041, 11186, 1...</td>\n",
       "      <td>0</td>\n",
       "    </tr>\n",
       "    <tr>\n",
       "      <th>1</th>\n",
       "      <td>[[14, 1, 11, 26, 26, 26, 20, 1, 1, 0, 0, 0, 1,...</td>\n",
       "      <td>[53180, 50823, 54628, 55282, 53668, 54442, 582...</td>\n",
       "      <td>0</td>\n",
       "    </tr>\n",
       "    <tr>\n",
       "      <th>2</th>\n",
       "      <td>[[129, 14, 13, 13, 13, 13, 13, 13, 13, 12, 13,...</td>\n",
       "      <td>[79437, 33163, 33529, 34619, 36261, 37860, 389...</td>\n",
       "      <td>0</td>\n",
       "    </tr>\n",
       "    <tr>\n",
       "      <th>3</th>\n",
       "      <td>[[15, 15, 15, 15, 15, 15, 15, 15, 15, 15, 15, ...</td>\n",
       "      <td>[26869, 27386, 28602, 29237, 29745, 31416, 320...</td>\n",
       "      <td>0</td>\n",
       "    </tr>\n",
       "    <tr>\n",
       "      <th>4</th>\n",
       "      <td>[[0, 0, 0, 0, 0, 0, 0, 0, 0, 0, 0, 0, 0, 0, 0,...</td>\n",
       "      <td>[2149, 3771, 4729, 6188, 11697, 8295, 9805, 10...</td>\n",
       "      <td>0</td>\n",
       "    </tr>\n",
       "    <tr>\n",
       "      <th>...</th>\n",
       "      <td>...</td>\n",
       "      <td>...</td>\n",
       "      <td>...</td>\n",
       "    </tr>\n",
       "    <tr>\n",
       "      <th>14036</th>\n",
       "      <td>[[0, 0, 0, 3, 2, 3, 4, 3, 1, 1, 2, 1, 4, 3, 2,...</td>\n",
       "      <td>[4104, 5064, 6566, 8076, 9126, 9944, 10602, 11...</td>\n",
       "      <td>1</td>\n",
       "    </tr>\n",
       "    <tr>\n",
       "      <th>14037</th>\n",
       "      <td>[[0, 0, 0, 4, 4, 4, 4, 3, 2, 1, 3, 1, 0, 3, 4,...</td>\n",
       "      <td>[3486, 3605, 4073, 5177, 6819, 8141, 8967, 966...</td>\n",
       "      <td>1</td>\n",
       "    </tr>\n",
       "    <tr>\n",
       "      <th>14038</th>\n",
       "      <td>[[0, 0, 0, 0, 2, 2, 3, 2, 0, 3, 4, 3, 2, 0, 2,...</td>\n",
       "      <td>[3281, 3280, 3323, 3510, 4005, 5172, 6740, 802...</td>\n",
       "      <td>1</td>\n",
       "    </tr>\n",
       "    <tr>\n",
       "      <th>14039</th>\n",
       "      <td>[[0, 0, 0, 4, 0, 0, 2, 3, 0, 3, 3, 5, 4, 1, 0,...</td>\n",
       "      <td>[3538, 3531, 3559, 3602, 3667, 3812, 4282, 545...</td>\n",
       "      <td>1</td>\n",
       "    </tr>\n",
       "    <tr>\n",
       "      <th>14040</th>\n",
       "      <td>[[0, 0, 0, 0, 0, 1, 3, 3, 3, 1, 0, 1, 6, 6, 1,...</td>\n",
       "      <td>[3261, 3258, 3248, 3268, 3373, 3490, 3618, 375...</td>\n",
       "      <td>1</td>\n",
       "    </tr>\n",
       "  </tbody>\n",
       "</table>\n",
       "<p>14041 rows × 3 columns</p>\n",
       "</div>"
      ],
      "text/plain": [
       "                                                raw data  \\\n",
       "0      [[1, 1, 1, 1, 1, 1, 1, 1, 1, 1, 1, 1, 1, 1, 1,...   \n",
       "1      [[14, 1, 11, 26, 26, 26, 20, 1, 1, 0, 0, 0, 1,...   \n",
       "2      [[129, 14, 13, 13, 13, 13, 13, 13, 13, 12, 13,...   \n",
       "3      [[15, 15, 15, 15, 15, 15, 15, 15, 15, 15, 15, ...   \n",
       "4      [[0, 0, 0, 0, 0, 0, 0, 0, 0, 0, 0, 0, 0, 0, 0,...   \n",
       "...                                                  ...   \n",
       "14036  [[0, 0, 0, 3, 2, 3, 4, 3, 1, 1, 2, 1, 4, 3, 2,...   \n",
       "14037  [[0, 0, 0, 4, 4, 4, 4, 3, 2, 1, 3, 1, 0, 3, 4,...   \n",
       "14038  [[0, 0, 0, 0, 2, 2, 3, 2, 0, 3, 4, 3, 2, 0, 2,...   \n",
       "14039  [[0, 0, 0, 4, 0, 0, 2, 3, 0, 3, 3, 5, 4, 1, 0,...   \n",
       "14040  [[0, 0, 0, 0, 0, 1, 3, 3, 3, 1, 0, 1, 6, 6, 1,...   \n",
       "\n",
       "                                             concat data  label  \n",
       "0      [3253, 5121, 6537, 8271, 8782, 10041, 11186, 1...      0  \n",
       "1      [53180, 50823, 54628, 55282, 53668, 54442, 582...      0  \n",
       "2      [79437, 33163, 33529, 34619, 36261, 37860, 389...      0  \n",
       "3      [26869, 27386, 28602, 29237, 29745, 31416, 320...      0  \n",
       "4      [2149, 3771, 4729, 6188, 11697, 8295, 9805, 10...      0  \n",
       "...                                                  ...    ...  \n",
       "14036  [4104, 5064, 6566, 8076, 9126, 9944, 10602, 11...      1  \n",
       "14037  [3486, 3605, 4073, 5177, 6819, 8141, 8967, 966...      1  \n",
       "14038  [3281, 3280, 3323, 3510, 4005, 5172, 6740, 802...      1  \n",
       "14039  [3538, 3531, 3559, 3602, 3667, 3812, 4282, 545...      1  \n",
       "14040  [3261, 3258, 3248, 3268, 3373, 3490, 3618, 375...      1  \n",
       "\n",
       "[14041 rows x 3 columns]"
      ]
     },
     "execution_count": 10,
     "metadata": {},
     "output_type": "execute_result"
    }
   ],
   "source": [
    "dataset_df.head(-1)"
   ]
  },
  {
   "cell_type": "code",
   "execution_count": 11,
   "metadata": {},
   "outputs": [
    {
     "data": {
      "text/plain": [
       "0    7149\n",
       "1    6893\n",
       "Name: label, dtype: int64"
      ]
     },
     "execution_count": 11,
     "metadata": {},
     "output_type": "execute_result"
    }
   ],
   "source": [
    "dataset_df[\"label\"].value_counts()"
   ]
  },
  {
   "cell_type": "code",
   "execution_count": 12,
   "metadata": {},
   "outputs": [
    {
     "name": "stdout",
     "output_type": "stream",
     "text": [
      "X shape (14042, 1024)\n",
      "y shape (14042,)\n"
     ]
    }
   ],
   "source": [
    "dataset = dataset_df[\"concat data\"].values\n",
    "X = []\n",
    "for img in dataset:\n",
    "    X.append(img.tolist())\n",
    "X = np.array(X)\n",
    "y = np.array(dataset_df[\"label\"].values)\n",
    "print(\"X shape\", X.shape)\n",
    "print(\"y shape\", y.shape)\n"
   ]
  },
  {
   "cell_type": "code",
   "execution_count": 13,
   "metadata": {},
   "outputs": [],
   "source": [
    "from sklearn import preprocessing\n",
    "X_norm = preprocessing.normalize(X)"
   ]
  },
  {
   "cell_type": "code",
   "execution_count": 14,
   "metadata": {},
   "outputs": [],
   "source": [
    "# change dimensions for training \n",
    "dataset_X = np.expand_dims(X_norm, axis=-1)\n",
    "dataset_y = np.expand_dims(y, axis=-1)"
   ]
  },
  {
   "cell_type": "code",
   "execution_count": 15,
   "metadata": {},
   "outputs": [
    {
     "name": "stdout",
     "output_type": "stream",
     "text": [
      " shape of the dataset after changing the dimension\n",
      "X :  (14042, 1024, 1)\n",
      "y :  (14042, 1)\n"
     ]
    }
   ],
   "source": [
    "print(\" shape of the dataset after changing the dimension\")\n",
    "print(\"X : \", dataset_X.shape)\n",
    "print(\"y : \", dataset_y.shape)"
   ]
  },
  {
   "cell_type": "code",
   "execution_count": 16,
   "metadata": {},
   "outputs": [],
   "source": [
    "X_train, X_test, y_train, y_test = train_test_split(dataset_X, dataset_y, shuffle=True, test_size=0.20, random_state=0)"
   ]
  },
  {
   "cell_type": "code",
   "execution_count": 17,
   "metadata": {},
   "outputs": [],
   "source": [
    "model = Sequential()\n",
    "model.add(Conv1D(filters=64, kernel_size=3, activation='relu', input_shape=(1024, 1)))\n",
    "model.add(Conv1D(filters=64, kernel_size=3, activation='relu'))\n",
    "model.add(Dropout(0.5))\n",
    "model.add(MaxPooling1D(pool_size=2))\n",
    "\n",
    "model.add(Flatten())\n",
    "model.add(Dense(100, activation='relu'))\n",
    "model.add(Dense(1, activation='sigmoid'))\n",
    "model.compile(loss='binary_crossentropy', optimizer='adam', metrics=['accuracy'])"
   ]
  },
  {
   "cell_type": "code",
   "execution_count": 18,
   "metadata": {},
   "outputs": [
    {
     "name": "stdout",
     "output_type": "stream",
     "text": [
      "Epoch 1/5\n",
      "1124/1124 [==============================] - 31s 27ms/step - loss: 0.4975 - accuracy: 0.7588\n",
      "Epoch 2/5\n",
      "1124/1124 [==============================] - 31s 28ms/step - loss: 0.3994 - accuracy: 0.8214\n",
      "Epoch 3/5\n",
      "1124/1124 [==============================] - 33s 29ms/step - loss: 0.3751 - accuracy: 0.8333\n",
      "Epoch 4/5\n",
      "1124/1124 [==============================] - 32s 29ms/step - loss: 0.3550 - accuracy: 0.8471\n",
      "Epoch 5/5\n",
      "1124/1124 [==============================] - 31s 28ms/step - loss: 0.3402 - accuracy: 0.8545\n"
     ]
    }
   ],
   "source": [
    "history = model.fit(X_train, y_train,10,5)"
   ]
  },
  {
   "cell_type": "code",
   "execution_count": 40,
   "metadata": {},
   "outputs": [],
   "source": [
    "model.save(\"D:/Project2022/models/original.h5\")"
   ]
  },
  {
   "cell_type": "code",
   "execution_count": 43,
   "metadata": {},
   "outputs": [],
   "source": [
    "# test loss, test accuracy\n",
    "accuracy = model.evaluate(X_test, y_test, batch_size=100, verbose=0)"
   ]
  },
  {
   "cell_type": "code",
   "execution_count": 44,
   "metadata": {},
   "outputs": [
    {
     "name": "stdout",
     "output_type": "stream",
     "text": [
      "Test acuuracy 0.860804557800293\n",
      "Test loss 0.33816176652908325\n"
     ]
    }
   ],
   "source": [
    "print(\"Test acuuracy\", accuracy[1])\n",
    "print(\"Test loss\", accuracy[0])"
   ]
  },
  {
   "cell_type": "code",
   "execution_count": 3,
   "metadata": {},
   "outputs": [],
   "source": [
    "from tensorflow import keras\n",
    "model = keras.models.load_model('D:/Project2022/models/original.h5')"
   ]
  },
  {
   "cell_type": "code",
   "execution_count": 19,
   "metadata": {},
   "outputs": [],
   "source": [
    "#y_pred = model.predict_classes(X_test)\n",
    "y_pred = (model.predict(X_test) > 0.5).astype(\"int32\")"
   ]
  },
  {
   "cell_type": "code",
   "execution_count": 23,
   "metadata": {},
   "outputs": [
    {
     "name": "stdout",
     "output_type": "stream",
     "text": [
      "              precision    recall  f1-score   support\n",
      "\n",
      "       covid       0.84      0.88      0.86      1395\n",
      "      Normal       0.88      0.84      0.86      1414\n",
      "\n",
      "    accuracy                           0.86      2809\n",
      "   macro avg       0.86      0.86      0.86      2809\n",
      "weighted avg       0.86      0.86      0.86      2809\n",
      "\n"
     ]
    }
   ],
   "source": [
    "from sklearn.metrics import classification_report \n",
    "print(classification_report(y_test, y_pred, target_names=[\"covid\", \"Normal\"]))"
   ]
  },
  {
   "cell_type": "code",
   "execution_count": 22,
   "metadata": {},
   "outputs": [
    {
     "data": {
      "image/png": "[encoded data removed]",
      "text/plain": [
       "<Figure size 432x288 with 2 Axes>"
      ]
     },
     "metadata": {
      "needs_background": "light"
     },
     "output_type": "display_data"
    }
   ],
   "source": [
    "from sklearn.metrics import confusion_matrix, ConfusionMatrixDisplay\n",
    "\n",
    "cm = confusion_matrix(y_test, y_pred, labels=[0,1])\n",
    "disp = ConfusionMatrixDisplay(confusion_matrix=cm,\n",
    "                               display_labels=[\"Covid\",\"Normal\"])\n",
    "disp.plot()\n",
    "plt.show()\n"
   ]
  }
 ],
 "metadata": {
  "kernelspec": {
   "display_name": "Python 3.8.5 ('base')",
   "language": "python",
   "name": "python3"
  },
  "language_info": {
   "codemirror_mode": {
    "name": "ipython",
    "version": 3
   },
   "file_extension": ".py",
   "mimetype": "text/x-python",
   "name": "python",
   "nbconvert_exporter": "python",
   "pygments_lexer": "ipython3",
   "version": "3.8.5"
  },
  "orig_nbformat": 4,
  "vscode": {
   "interpreter": {
    "hash": "ae9226d693027601aceae575eedf350f61d5dcad848992823f4124ba0f6253a8"
   }
  }
 },
 "nbformat": 4,
 "nbformat_minor": 2
}
