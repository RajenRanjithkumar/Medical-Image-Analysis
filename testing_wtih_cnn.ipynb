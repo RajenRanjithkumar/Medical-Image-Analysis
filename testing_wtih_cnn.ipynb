{
 "cells": [
  {
   "cell_type": "code",
   "execution_count": 23,
   "metadata": {},
   "outputs": [],
   "source": [
    "#mask\n",
    "import json\n",
    "import cv2\n",
    "import os\n",
    "import pandas as pd \n",
    "import matplotlib.pyplot as plt\n",
    "from tqdm.notebook import tqdm\n",
    "import numpy as np\n",
    "\n",
    "import tensorflow as tf\n",
    "from sklearn.model_selection import train_test_split\n",
    "from tensorflow.keras import datasets, layers, models\n",
    "from keras.models import Sequential\n",
    "from keras.layers import Dense\n",
    "from keras.layers import Flatten \n",
    "from keras.layers import Dropout\n",
    "from keras.layers.convolutional import Conv1D\n",
    "from keras.layers.convolutional import MaxPooling1D\n",
    "from keras.utils import to_categorical\n",
    "import xml.etree.ElementTree as ET\n",
    "from tensorflow.keras.callbacks import TensorBoard\n",
    "from sklearn.metrics import classification_report \n",
    "from sklearn.metrics import confusion_matrix, ConfusionMatrixDisplay\n",
    "import time"
   ]
  },
  {
   "cell_type": "code",
   "execution_count": 2,
   "metadata": {},
   "outputs": [],
   "source": [
    "CATEGORIES = [\"covid\", \"normal\"]\n",
    "DATADIR = \"D:/Project2022/res/final dataset/original/\""
   ]
  },
  {
   "cell_type": "code",
   "execution_count": 3,
   "metadata": {},
   "outputs": [
    {
     "data": {
      "text/plain": [
       "'\\n0 - covid\\n1 - non covid\\n\\n'"
      ]
     },
     "execution_count": 3,
     "metadata": {},
     "output_type": "execute_result"
    }
   ],
   "source": [
    "#Label\n",
    "'''\n",
    "0 - covid\n",
    "1 - non covid\n",
    "\n",
    "'''"
   ]
  },
  {
   "cell_type": "code",
   "execution_count": 4,
   "metadata": {},
   "outputs": [],
   "source": [
    "def pre_process_dataset(dataset_path):\n",
    "\n",
    "    df_data = pd.DataFrame()\n",
    "    raw_image = []\n",
    "    concat_data = []\n",
    "    label = []\n",
    "\n",
    "    for categoty in CATEGORIES:\n",
    "        path = os.path.join(dataset_path, categoty)  \n",
    "        \n",
    "        class_num = CATEGORIES.index(categoty)\n",
    "        \n",
    "\n",
    "        print(\"Loading dataset: class\",categoty)\n",
    "        for img in tqdm(os.listdir(path)):\n",
    "            try:\n",
    "                img_array = cv2.imread(os.path.join(path,img), cv2.IMREAD_GRAYSCALE)\n",
    "                img_array = cv2.resize(img_array, (512,512), interpolation= cv2.INTER_LINEAR)\n",
    "                row = img_array.sum(axis=0)\n",
    "                coloumn = img_array.sum(axis=1)\n",
    "                concat = np.concatenate((row, coloumn))\n",
    "                \n",
    "                raw_image.append(img_array)\n",
    "                concat_data.append(concat)\n",
    "                label.append(class_num)\n",
    "                \n",
    "            except Exception as e:\n",
    "                pass\n",
    "    \n",
    "    df_data[\"raw data\"] = raw_image\n",
    "    df_data[\"concat data\"] = concat_data\n",
    "    df_data[\"label\"] = label\n",
    "    \n",
    "\n",
    "    return df_data"
   ]
  },
  {
   "cell_type": "code",
   "execution_count": 5,
   "metadata": {},
   "outputs": [
    {
     "name": "stdout",
     "output_type": "stream",
     "text": [
      "Loading dataset: class covid\n"
     ]
    },
    {
     "data": {
      "application/json": {
       "ascii": false,
       "bar_format": null,
       "colour": null,
       "elapsed": 0.023319005966186523,
       "initial": 0,
       "n": 0,
       "ncols": null,
       "nrows": null,
       "postfix": null,
       "prefix": "",
       "rate": null,
       "total": 7149,
       "unit": "it",
       "unit_divisor": 1000,
       "unit_scale": false
      },
      "application/vnd.jupyter.widget-view+json": {
       "model_id": "8e584904167a4707a6bc21ceefb7966a",
       "version_major": 2,
       "version_minor": 0
      },
      "text/plain": [
       "  0%|          | 0/7149 [00:00<?, ?it/s]"
      ]
     },
     "metadata": {},
     "output_type": "display_data"
    },
    {
     "name": "stdout",
     "output_type": "stream",
     "text": [
      "Loading dataset: class normal\n"
     ]
    },
    {
     "data": {
      "application/json": {
       "ascii": false,
       "bar_format": null,
       "colour": null,
       "elapsed": 0.021584510803222656,
       "initial": 0,
       "n": 0,
       "ncols": null,
       "nrows": null,
       "postfix": null,
       "prefix": "",
       "rate": null,
       "total": 6893,
       "unit": "it",
       "unit_divisor": 1000,
       "unit_scale": false
      },
      "application/vnd.jupyter.widget-view+json": {
       "model_id": "46a3c6728a1d4ae0a2c4c53d62f67a73",
       "version_major": 2,
       "version_minor": 0
      },
      "text/plain": [
       "  0%|          | 0/6893 [00:00<?, ?it/s]"
      ]
     },
     "metadata": {},
     "output_type": "display_data"
    }
   ],
   "source": [
    "dataset_df = pre_process_dataset(DATADIR)"
   ]
  },
  {
   "cell_type": "markdown",
   "metadata": {},
   "source": [
    "## Distribution of classes"
   ]
  },
  {
   "cell_type": "code",
   "execution_count": 6,
   "metadata": {},
   "outputs": [
    {
     "data": {
      "image/png": "[encoded data removed]",
      "text/plain": [
       "<Figure size 432x288 with 1 Axes>"
      ]
     },
     "metadata": {
      "needs_background": "light"
     },
     "output_type": "display_data"
    }
   ],
   "source": [
    "dataset_df[\"label\"].value_counts().plot(kind='bar')\n",
    "plt.xticks([0,1], [\"Covid\", \"Normal\"], rotation='horizontal')\n",
    "plt.ylabel('no of Samples')\n",
    "plt.title('Distribution of classes')\n",
    "plt.show()"
   ]
  },
  {
   "cell_type": "code",
   "execution_count": 7,
   "metadata": {},
   "outputs": [
    {
     "name": "stdout",
     "output_type": "stream",
     "text": [
      "X shape (14042, 1024)\n",
      "y shape (14042,)\n"
     ]
    }
   ],
   "source": [
    "dataset = dataset_df[\"concat data\"].values\n",
    "X = [img.tolist() for img in dataset]\n",
    "\n",
    "\n",
    "#for img in dataset:\n",
    "    #X.append(img.tolist())\n",
    "X = np.array(X)\n",
    "y = np.array(dataset_df[\"label\"].values)\n",
    "print(\"X shape\", X.shape)\n",
    "print(\"y shape\", y.shape)\n"
   ]
  },
  {
   "cell_type": "code",
   "execution_count": 8,
   "metadata": {},
   "outputs": [],
   "source": [
    "from sklearn import preprocessing\n",
    "X_norm = preprocessing.normalize(X)"
   ]
  },
  {
   "cell_type": "code",
   "execution_count": 9,
   "metadata": {},
   "outputs": [],
   "source": [
    "# change dimensions for training \n",
    "dataset_X = np.expand_dims(X_norm, axis=-1)\n",
    "dataset_y = np.expand_dims(y, axis=-1)"
   ]
  },
  {
   "cell_type": "code",
   "execution_count": 10,
   "metadata": {},
   "outputs": [
    {
     "name": "stdout",
     "output_type": "stream",
     "text": [
      " shape of the dataset after changing the dimension\n",
      "X :  (14042, 1024, 1)\n",
      "y :  (14042, 1)\n"
     ]
    }
   ],
   "source": [
    "print(\" shape of the dataset after changing the dimension\")\n",
    "print(\"X : \", dataset_X.shape)\n",
    "print(\"y : \", dataset_y.shape)"
   ]
  },
  {
   "cell_type": "code",
   "execution_count": 11,
   "metadata": {},
   "outputs": [],
   "source": [
    "X_train, X_test, y_train, y_test = train_test_split(dataset_X, dataset_y, shuffle=True, test_size=0.20, random_state=0)"
   ]
  },
  {
   "cell_type": "code",
   "execution_count": 12,
   "metadata": {},
   "outputs": [],
   "source": [
    "X_train, X_val, y_train, y_val = train_test_split(X_train, y_train, shuffle=True, test_size=0.20, random_state=0)"
   ]
  },
  {
   "cell_type": "code",
   "execution_count": 36,
   "metadata": {},
   "outputs": [],
   "source": [
    "model = Sequential()\n",
    "model.add(Conv1D(filters=64, kernel_size=3, activation='relu', input_shape=(1024, 1)))\n",
    "model.add(Conv1D(filters=64, kernel_size=3, activation='relu'))\n",
    "#model.add(Dropout(0.5))\n",
    "model.add(Dropout(0.25))\n",
    "model.add(MaxPooling1D(pool_size=2))\n",
    "\n",
    "model.add(Flatten())\n",
    "model.add(Dense(100, activation='relu'))\n",
    "model.add(Dense(1, activation='sigmoid'))\n",
    "model.compile(loss='binary_crossentropy', optimizer='adam', metrics=['accuracy'])"
   ]
  },
  {
   "cell_type": "code",
   "execution_count": 43,
   "metadata": {},
   "outputs": [],
   "source": [
    "model_name = \"Conv1D\"\n",
    "NAME = model_name+\"-{}\".format(int(time.time()))\n",
    "tensorboard = TensorBoard(log_dir = 'logs/{}'.format(NAME))\n",
    "    "
   ]
  },
  {
   "cell_type": "code",
   "execution_count": 44,
   "metadata": {},
   "outputs": [
    {
     "name": "stdout",
     "output_type": "stream",
     "text": [
      "Epoch 1/50\n",
      "WARNING:tensorflow:AutoGraph could not transform <function Model.make_train_function.<locals>.train_function at 0x00000266BB36CDC8> and will run it as-is.\n",
      "Please report this to the TensorFlow team. When filing the bug, set the verbosity to 10 (on Linux, `export AUTOGRAPH_VERBOSITY=10`) and attach the full output.\n",
      "Cause: 'arguments' object has no attribute 'posonlyargs'\n",
      "To silence this warning, decorate the function with @tf.autograph.experimental.do_not_convert\n",
      "WARNING: AutoGraph could not transform <function Model.make_train_function.<locals>.train_function at 0x00000266BB36CDC8> and will run it as-is.\n",
      "Please report this to the TensorFlow team. When filing the bug, set the verbosity to 10 (on Linux, `export AUTOGRAPH_VERBOSITY=10`) and attach the full output.\n",
      "Cause: 'arguments' object has no attribute 'posonlyargs'\n",
      "To silence this warning, decorate the function with @tf.autograph.experimental.do_not_convert\n",
      "899/899 [==============================] - ETA: 0s - loss: 0.5003 - accuracy: 0.7548WARNING:tensorflow:AutoGraph could not transform <function Model.make_test_function.<locals>.test_function at 0x00000266BB2DBAF8> and will run it as-is.\n",
      "Please report this to the TensorFlow team. When filing the bug, set the verbosity to 10 (on Linux, `export AUTOGRAPH_VERBOSITY=10`) and attach the full output.\n",
      "Cause: 'arguments' object has no attribute 'posonlyargs'\n",
      "To silence this warning, decorate the function with @tf.autograph.experimental.do_not_convert\n",
      "WARNING: AutoGraph could not transform <function Model.make_test_function.<locals>.test_function at 0x00000266BB2DBAF8> and will run it as-is.\n",
      "Please report this to the TensorFlow team. When filing the bug, set the verbosity to 10 (on Linux, `export AUTOGRAPH_VERBOSITY=10`) and attach the full output.\n",
      "Cause: 'arguments' object has no attribute 'posonlyargs'\n",
      "To silence this warning, decorate the function with @tf.autograph.experimental.do_not_convert\n",
      "899/899 [==============================] - 14s 14ms/step - loss: 0.5003 - accuracy: 0.7548 - val_loss: 0.5601 - val_accuracy: 0.6618\n",
      "Epoch 2/50\n",
      "899/899 [==============================] - 12s 13ms/step - loss: 0.3977 - accuracy: 0.8227 - val_loss: 0.3913 - val_accuracy: 0.8478\n",
      "Epoch 3/50\n",
      "899/899 [==============================] - 11s 12ms/step - loss: 0.3675 - accuracy: 0.8412 - val_loss: 0.3577 - val_accuracy: 0.8567\n",
      "Epoch 4/50\n",
      "899/899 [==============================] - 11s 12ms/step - loss: 0.3485 - accuracy: 0.8512 - val_loss: 0.3684 - val_accuracy: 0.8358\n",
      "Epoch 5/50\n",
      "899/899 [==============================] - 11s 13ms/step - loss: 0.3293 - accuracy: 0.8629 - val_loss: 0.3237 - val_accuracy: 0.8718\n",
      "Epoch 6/50\n",
      "899/899 [==============================] - 11s 13ms/step - loss: 0.3145 - accuracy: 0.8730 - val_loss: 0.3173 - val_accuracy: 0.8683\n",
      "Epoch 7/50\n",
      "899/899 [==============================] - 12s 13ms/step - loss: 0.2908 - accuracy: 0.8844 - val_loss: 0.3289 - val_accuracy: 0.8718\n",
      "Epoch 8/50\n",
      "899/899 [==============================] - 12s 13ms/step - loss: 0.2839 - accuracy: 0.8850 - val_loss: 0.2902 - val_accuracy: 0.8830\n",
      "Epoch 9/50\n",
      "899/899 [==============================] - 12s 13ms/step - loss: 0.2687 - accuracy: 0.8912 - val_loss: 0.2870 - val_accuracy: 0.8879\n",
      "Epoch 10/50\n",
      "899/899 [==============================] - 12s 13ms/step - loss: 0.2579 - accuracy: 0.8972 - val_loss: 0.2848 - val_accuracy: 0.8870\n",
      "Epoch 11/50\n",
      "899/899 [==============================] - 11s 12ms/step - loss: 0.2451 - accuracy: 0.9060 - val_loss: 0.2534 - val_accuracy: 0.8972\n",
      "Epoch 12/50\n",
      "899/899 [==============================] - 10s 11ms/step - loss: 0.2320 - accuracy: 0.9084 - val_loss: 0.2452 - val_accuracy: 0.9105\n",
      "Epoch 13/50\n",
      "899/899 [==============================] - 10s 11ms/step - loss: 0.2214 - accuracy: 0.9129 - val_loss: 0.2231 - val_accuracy: 0.9141\n",
      "Epoch 14/50\n",
      "899/899 [==============================] - 10s 11ms/step - loss: 0.2173 - accuracy: 0.9154 - val_loss: 0.2404 - val_accuracy: 0.9128\n",
      "Epoch 15/50\n",
      "899/899 [==============================] - 10s 11ms/step - loss: 0.2053 - accuracy: 0.9202 - val_loss: 0.2524 - val_accuracy: 0.9016\n",
      "Epoch 16/50\n",
      "899/899 [==============================] - 10s 11ms/step - loss: 0.1961 - accuracy: 0.9208 - val_loss: 0.2213 - val_accuracy: 0.9239\n",
      "Epoch 17/50\n",
      "899/899 [==============================] - 9s 10ms/step - loss: 0.1926 - accuracy: 0.9244 - val_loss: 0.2234 - val_accuracy: 0.9132\n",
      "Epoch 18/50\n",
      "899/899 [==============================] - 11s 12ms/step - loss: 0.1804 - accuracy: 0.9279 - val_loss: 0.2057 - val_accuracy: 0.9243\n",
      "Epoch 19/50\n",
      "899/899 [==============================] - 10s 11ms/step - loss: 0.1806 - accuracy: 0.9296 - val_loss: 0.1928 - val_accuracy: 0.9261\n",
      "Epoch 20/50\n",
      "899/899 [==============================] - 10s 11ms/step - loss: 0.1694 - accuracy: 0.9321 - val_loss: 0.1817 - val_accuracy: 0.9292\n",
      "Epoch 21/50\n",
      "899/899 [==============================] - 10s 11ms/step - loss: 0.1635 - accuracy: 0.9349 - val_loss: 0.1998 - val_accuracy: 0.9212\n",
      "Epoch 22/50\n",
      "899/899 [==============================] - 10s 11ms/step - loss: 0.1685 - accuracy: 0.9321 - val_loss: 0.1814 - val_accuracy: 0.9310\n",
      "Epoch 23/50\n",
      "899/899 [==============================] - 10s 11ms/step - loss: 0.1586 - accuracy: 0.9369 - val_loss: 0.1848 - val_accuracy: 0.9292\n",
      "Epoch 24/50\n",
      "899/899 [==============================] - 10s 11ms/step - loss: 0.1517 - accuracy: 0.9412 - val_loss: 0.1800 - val_accuracy: 0.9332\n",
      "Epoch 25/50\n",
      "899/899 [==============================] - 10s 11ms/step - loss: 0.1449 - accuracy: 0.9420 - val_loss: 0.1824 - val_accuracy: 0.9270\n",
      "Epoch 26/50\n",
      "899/899 [==============================] - 10s 11ms/step - loss: 0.1389 - accuracy: 0.9437 - val_loss: 0.1693 - val_accuracy: 0.9359\n",
      "Epoch 27/50\n",
      "899/899 [==============================] - 10s 11ms/step - loss: 0.1445 - accuracy: 0.9429 - val_loss: 0.1783 - val_accuracy: 0.9355\n",
      "Epoch 28/50\n",
      "899/899 [==============================] - 10s 11ms/step - loss: 0.1416 - accuracy: 0.9440 - val_loss: 0.2004 - val_accuracy: 0.9279\n",
      "Epoch 29/50\n",
      "899/899 [==============================] - 10s 11ms/step - loss: 0.1319 - accuracy: 0.9470 - val_loss: 0.1641 - val_accuracy: 0.9408\n",
      "Epoch 30/50\n",
      "899/899 [==============================] - 11s 12ms/step - loss: 0.1268 - accuracy: 0.9488 - val_loss: 0.1964 - val_accuracy: 0.9217\n",
      "Epoch 31/50\n",
      "899/899 [==============================] - 11s 12ms/step - loss: 0.1263 - accuracy: 0.9520 - val_loss: 0.1532 - val_accuracy: 0.9457\n",
      "Epoch 32/50\n",
      "899/899 [==============================] - 11s 12ms/step - loss: 0.1351 - accuracy: 0.9476 - val_loss: 0.1527 - val_accuracy: 0.9417\n",
      "Epoch 33/50\n",
      "899/899 [==============================] - 11s 12ms/step - loss: 0.1192 - accuracy: 0.9555 - val_loss: 0.1455 - val_accuracy: 0.9466\n",
      "Epoch 34/50\n",
      "899/899 [==============================] - 10s 11ms/step - loss: 0.1142 - accuracy: 0.9546 - val_loss: 0.1542 - val_accuracy: 0.9435\n",
      "Epoch 35/50\n",
      "899/899 [==============================] - 10s 11ms/step - loss: 0.1190 - accuracy: 0.9509 - val_loss: 0.1527 - val_accuracy: 0.9417\n",
      "Epoch 36/50\n",
      "899/899 [==============================] - 10s 12ms/step - loss: 0.1112 - accuracy: 0.9566 - val_loss: 0.1390 - val_accuracy: 0.9488\n",
      "Epoch 37/50\n",
      "899/899 [==============================] - 10s 11ms/step - loss: 0.1131 - accuracy: 0.9538 - val_loss: 0.1594 - val_accuracy: 0.9426\n",
      "Epoch 38/50\n",
      "899/899 [==============================] - 10s 12ms/step - loss: 0.1086 - accuracy: 0.9557 - val_loss: 0.1599 - val_accuracy: 0.9408\n",
      "Epoch 39/50\n",
      "899/899 [==============================] - 10s 12ms/step - loss: 0.1055 - accuracy: 0.9574 - val_loss: 0.1628 - val_accuracy: 0.9381\n",
      "Epoch 40/50\n",
      "899/899 [==============================] - 11s 12ms/step - loss: 0.1019 - accuracy: 0.9604 - val_loss: 0.1513 - val_accuracy: 0.9390\n",
      "Epoch 41/50\n",
      "899/899 [==============================] - 11s 12ms/step - loss: 0.0952 - accuracy: 0.9619 - val_loss: 0.1518 - val_accuracy: 0.9457\n",
      "Epoch 42/50\n",
      "899/899 [==============================] - 10s 12ms/step - loss: 0.1001 - accuracy: 0.9608 - val_loss: 0.1910 - val_accuracy: 0.9270\n",
      "Epoch 43/50\n",
      "899/899 [==============================] - 11s 12ms/step - loss: 0.0946 - accuracy: 0.9622 - val_loss: 0.1592 - val_accuracy: 0.9413\n",
      "Epoch 44/50\n",
      "899/899 [==============================] - 10s 11ms/step - loss: 0.1022 - accuracy: 0.9603 - val_loss: 0.1815 - val_accuracy: 0.9426\n",
      "Epoch 45/50\n",
      "899/899 [==============================] - 10s 11ms/step - loss: 0.0978 - accuracy: 0.9616 - val_loss: 0.1432 - val_accuracy: 0.9506\n",
      "Epoch 46/50\n",
      "899/899 [==============================] - 10s 11ms/step - loss: 0.0902 - accuracy: 0.9651 - val_loss: 0.1523 - val_accuracy: 0.9462\n",
      "Epoch 47/50\n",
      "899/899 [==============================] - 10s 11ms/step - loss: 0.0988 - accuracy: 0.9619 - val_loss: 0.1389 - val_accuracy: 0.9510\n",
      "Epoch 48/50\n",
      "899/899 [==============================] - 10s 11ms/step - loss: 0.0886 - accuracy: 0.9652 - val_loss: 0.1707 - val_accuracy: 0.9390\n",
      "Epoch 49/50\n",
      "899/899 [==============================] - 10s 11ms/step - loss: 0.0886 - accuracy: 0.9657 - val_loss: 0.1456 - val_accuracy: 0.9448\n",
      "Epoch 50/50\n",
      "899/899 [==============================] - 10s 11ms/step - loss: 0.0876 - accuracy: 0.9654 - val_loss: 0.1712 - val_accuracy: 0.9417\n"
     ]
    }
   ],
   "source": [
    "BATCH_SIZE = 10\n",
    "EPOCHS = 50\n",
    "history = model.fit(\n",
    "    X_train, y_train, \n",
    "    BATCH_SIZE, \n",
    "    EPOCHS, \n",
    "    validation_data=(X_val, y_val),\n",
    "    callbacks=[tensorboard])"
   ]
  },
  {
   "cell_type": "code",
   "execution_count": 40,
   "metadata": {},
   "outputs": [],
   "source": [
    "model.save(\"D:/Project2022/models/\"+model_name+\".h5\")"
   ]
  },
  {
   "cell_type": "code",
   "execution_count": 45,
   "metadata": {},
   "outputs": [],
   "source": [
    "# test loss, test accuracy\n",
    "accuracy = model.evaluate(X_test, y_test, batch_size=100, verbose=0)"
   ]
  },
  {
   "cell_type": "code",
   "execution_count": 46,
   "metadata": {},
   "outputs": [
    {
     "name": "stdout",
     "output_type": "stream",
     "text": [
      "Test acuuracy 0.9490922093391418\n",
      "Test loss 0.16925279796123505\n"
     ]
    }
   ],
   "source": [
    "print(\"Test acuuracy\", accuracy[1])\n",
    "print(\"Test loss\", accuracy[0])"
   ]
  },
  {
   "cell_type": "code",
   "execution_count": 3,
   "metadata": {},
   "outputs": [],
   "source": [
    "from tensorflow import keras\n",
    "model = keras.models.load_model(\"D:/Project2022/models/\"+model_name+\".h5\")"
   ]
  },
  {
   "cell_type": "code",
   "execution_count": 57,
   "metadata": {},
   "outputs": [
    {
     "name": "stdout",
     "output_type": "stream",
     "text": [
      "88/88 [==============================] - 0s 5ms/step\n"
     ]
    }
   ],
   "source": [
    "#y_pred = model.predict_classes(X_test)\n",
    "y_pred = (model.predict(X_test) > 0.5).astype(\"int32\")"
   ]
  },
  {
   "cell_type": "code",
   "execution_count": 58,
   "metadata": {},
   "outputs": [
    {
     "name": "stdout",
     "output_type": "stream",
     "text": [
      "              precision    recall  f1-score   support\n",
      "\n",
      "       covid       0.98      0.91      0.95      1395\n",
      "      Normal       0.92      0.98      0.95      1414\n",
      "\n",
      "    accuracy                           0.95      2809\n",
      "   macro avg       0.95      0.95      0.95      2809\n",
      "weighted avg       0.95      0.95      0.95      2809\n",
      "\n"
     ]
    }
   ],
   "source": [
    "\n",
    "print(classification_report(y_test, y_pred, target_names=[\"covid\", \"Normal\"]))"
   ]
  },
  {
   "cell_type": "code",
   "execution_count": 59,
   "metadata": {},
   "outputs": [
    {
     "data": {
      "image/png": "[encoded data removed]",
      "text/plain": [
       "<Figure size 432x288 with 2 Axes>"
      ]
     },
     "metadata": {
      "needs_background": "light"
     },
     "output_type": "display_data"
    }
   ],
   "source": [
    "\n",
    "\n",
    "cm = confusion_matrix(y_test, y_pred, labels=[0,1])\n",
    "disp = ConfusionMatrixDisplay(confusion_matrix=cm,\n",
    "                               display_labels=[\"Covid\",\"Normal\"])\n",
    "disp.plot()\n",
    "plt.show()\n"
   ]
  },
  {
   "cell_type": "markdown",
   "metadata": {},
   "source": [
    "## Model using just the Dense layers"
   ]
  },
  {
   "cell_type": "code",
   "execution_count": 16,
   "metadata": {},
   "outputs": [],
   "source": [
    "model = Sequential()\n",
    "model.add(Dense( 64, activation='relu', input_shape=(1024, 1)))\n",
    "model.add(Dense(128, activation='relu'))\n",
    "model.add(Dropout(0.25))\n",
    "model.add(MaxPooling1D(pool_size=2))\n",
    "\n",
    "model.add(Flatten())\n",
    "model.add(Dense(128, activation='relu'))\n",
    "model.add(Dense(1, activation='sigmoid'))\n",
    "model.compile(loss='binary_crossentropy', optimizer='adam', metrics=['accuracy'])"
   ]
  },
  {
   "cell_type": "code",
   "execution_count": 17,
   "metadata": {},
   "outputs": [],
   "source": [
    "model_name = \"dense_64\"\n",
    "NAME = model_name+\"-{}\".format(int(time.time()))\n",
    "tensorboard = TensorBoard(log_dir = 'logs/{}'.format(NAME))\n",
    "    "
   ]
  },
  {
   "cell_type": "code",
   "execution_count": 18,
   "metadata": {},
   "outputs": [
    {
     "name": "stdout",
     "output_type": "stream",
     "text": [
      "Epoch 1/50\n",
      "WARNING:tensorflow:AutoGraph could not transform <function Model.make_train_function.<locals>.train_function at 0x0000029090594E58> and will run it as-is.\n",
      "Please report this to the TensorFlow team. When filing the bug, set the verbosity to 10 (on Linux, `export AUTOGRAPH_VERBOSITY=10`) and attach the full output.\n",
      "Cause: 'arguments' object has no attribute 'posonlyargs'\n",
      "To silence this warning, decorate the function with @tf.autograph.experimental.do_not_convert\n",
      "WARNING: AutoGraph could not transform <function Model.make_train_function.<locals>.train_function at 0x0000029090594E58> and will run it as-is.\n",
      "Please report this to the TensorFlow team. When filing the bug, set the verbosity to 10 (on Linux, `export AUTOGRAPH_VERBOSITY=10`) and attach the full output.\n",
      "Cause: 'arguments' object has no attribute 'posonlyargs'\n",
      "To silence this warning, decorate the function with @tf.autograph.experimental.do_not_convert\n",
      "898/899 [============================>.] - ETA: 0s - loss: 0.5372 - accuracy: 0.7331WARNING:tensorflow:AutoGraph could not transform <function Model.make_test_function.<locals>.test_function at 0x0000029099F979D8> and will run it as-is.\n",
      "Please report this to the TensorFlow team. When filing the bug, set the verbosity to 10 (on Linux, `export AUTOGRAPH_VERBOSITY=10`) and attach the full output.\n",
      "Cause: 'arguments' object has no attribute 'posonlyargs'\n",
      "To silence this warning, decorate the function with @tf.autograph.experimental.do_not_convert\n",
      "WARNING: AutoGraph could not transform <function Model.make_test_function.<locals>.test_function at 0x0000029099F979D8> and will run it as-is.\n",
      "Please report this to the TensorFlow team. When filing the bug, set the verbosity to 10 (on Linux, `export AUTOGRAPH_VERBOSITY=10`) and attach the full output.\n",
      "Cause: 'arguments' object has no attribute 'posonlyargs'\n",
      "To silence this warning, decorate the function with @tf.autograph.experimental.do_not_convert\n",
      "899/899 [==============================] - 15s 16ms/step - loss: 0.5372 - accuracy: 0.7331 - val_loss: 0.4455 - val_accuracy: 0.8117\n",
      "Epoch 2/50\n",
      "899/899 [==============================] - 13s 15ms/step - loss: 0.4283 - accuracy: 0.8055 - val_loss: 0.3952 - val_accuracy: 0.8175\n",
      "Epoch 3/50\n",
      "899/899 [==============================] - 12s 14ms/step - loss: 0.3988 - accuracy: 0.8185 - val_loss: 0.3888 - val_accuracy: 0.8198\n",
      "Epoch 4/50\n",
      "899/899 [==============================] - 12s 14ms/step - loss: 0.3827 - accuracy: 0.8354 - val_loss: 0.3650 - val_accuracy: 0.8447\n",
      "Epoch 5/50\n",
      "899/899 [==============================] - 13s 14ms/step - loss: 0.3666 - accuracy: 0.8435 - val_loss: 0.3855 - val_accuracy: 0.8273\n",
      "Epoch 6/50\n",
      "899/899 [==============================] - 13s 14ms/step - loss: 0.3520 - accuracy: 0.8501 - val_loss: 0.3357 - val_accuracy: 0.8647\n",
      "Epoch 7/50\n",
      "899/899 [==============================] - 12s 14ms/step - loss: 0.3422 - accuracy: 0.8574 - val_loss: 0.3424 - val_accuracy: 0.8683\n",
      "Epoch 8/50\n",
      "899/899 [==============================] - 13s 15ms/step - loss: 0.3286 - accuracy: 0.8639 - val_loss: 0.3747 - val_accuracy: 0.8487\n",
      "Epoch 9/50\n",
      "899/899 [==============================] - 14s 16ms/step - loss: 0.3179 - accuracy: 0.8704 - val_loss: 0.3126 - val_accuracy: 0.8798\n",
      "Epoch 10/50\n",
      "899/899 [==============================] - 14s 16ms/step - loss: 0.3050 - accuracy: 0.8766 - val_loss: 0.3091 - val_accuracy: 0.8781\n",
      "Epoch 11/50\n",
      "899/899 [==============================] - 14s 16ms/step - loss: 0.2901 - accuracy: 0.8823 - val_loss: 0.2985 - val_accuracy: 0.8847\n",
      "Epoch 12/50\n",
      "899/899 [==============================] - 14s 16ms/step - loss: 0.2768 - accuracy: 0.8898 - val_loss: 0.2805 - val_accuracy: 0.8950\n",
      "Epoch 13/50\n",
      "899/899 [==============================] - 14s 16ms/step - loss: 0.2644 - accuracy: 0.8964 - val_loss: 0.3215 - val_accuracy: 0.8656\n",
      "Epoch 14/50\n",
      "899/899 [==============================] - 14s 16ms/step - loss: 0.2527 - accuracy: 0.9010 - val_loss: 0.2574 - val_accuracy: 0.8963\n",
      "Epoch 15/50\n",
      "899/899 [==============================] - 14s 15ms/step - loss: 0.2415 - accuracy: 0.9075 - val_loss: 0.2709 - val_accuracy: 0.9034\n",
      "Epoch 16/50\n",
      "899/899 [==============================] - 13s 14ms/step - loss: 0.2319 - accuracy: 0.9096 - val_loss: 0.2447 - val_accuracy: 0.9092\n",
      "Epoch 17/50\n",
      "899/899 [==============================] - 13s 14ms/step - loss: 0.2209 - accuracy: 0.9161 - val_loss: 0.2292 - val_accuracy: 0.9146\n",
      "Epoch 18/50\n",
      "899/899 [==============================] - 12s 14ms/step - loss: 0.2110 - accuracy: 0.9198 - val_loss: 0.2369 - val_accuracy: 0.9074\n",
      "Epoch 19/50\n",
      "899/899 [==============================] - 12s 14ms/step - loss: 0.2054 - accuracy: 0.9189 - val_loss: 0.2194 - val_accuracy: 0.9203\n",
      "Epoch 20/50\n",
      "899/899 [==============================] - 12s 14ms/step - loss: 0.1970 - accuracy: 0.9242 - val_loss: 0.2048 - val_accuracy: 0.9230\n",
      "Epoch 21/50\n",
      "899/899 [==============================] - 13s 14ms/step - loss: 0.1924 - accuracy: 0.9258 - val_loss: 0.2159 - val_accuracy: 0.9226\n",
      "Epoch 22/50\n",
      "899/899 [==============================] - 13s 14ms/step - loss: 0.1870 - accuracy: 0.9271 - val_loss: 0.2288 - val_accuracy: 0.9119\n",
      "Epoch 23/50\n",
      "899/899 [==============================] - 14s 16ms/step - loss: 0.1784 - accuracy: 0.9320 - val_loss: 0.2123 - val_accuracy: 0.9243\n",
      "Epoch 24/50\n",
      "899/899 [==============================] - 14s 16ms/step - loss: 0.1755 - accuracy: 0.9343 - val_loss: 0.2312 - val_accuracy: 0.9141\n",
      "Epoch 25/50\n",
      "899/899 [==============================] - 14s 16ms/step - loss: 0.1682 - accuracy: 0.9362 - val_loss: 0.1952 - val_accuracy: 0.9301\n",
      "Epoch 26/50\n",
      "899/899 [==============================] - 14s 16ms/step - loss: 0.1668 - accuracy: 0.9360 - val_loss: 0.2055 - val_accuracy: 0.9266\n",
      "Epoch 27/50\n",
      "899/899 [==============================] - 14s 16ms/step - loss: 0.1556 - accuracy: 0.9410 - val_loss: 0.1846 - val_accuracy: 0.9315\n",
      "Epoch 28/50\n",
      "899/899 [==============================] - 14s 16ms/step - loss: 0.1609 - accuracy: 0.9381 - val_loss: 0.2240 - val_accuracy: 0.9074\n",
      "Epoch 29/50\n",
      "899/899 [==============================] - 14s 16ms/step - loss: 0.1504 - accuracy: 0.9411 - val_loss: 0.1747 - val_accuracy: 0.9364\n",
      "Epoch 30/50\n",
      "899/899 [==============================] - 14s 16ms/step - loss: 0.1467 - accuracy: 0.9450 - val_loss: 0.1802 - val_accuracy: 0.9355\n",
      "Epoch 31/50\n",
      "899/899 [==============================] - 14s 16ms/step - loss: 0.1415 - accuracy: 0.9446 - val_loss: 0.1810 - val_accuracy: 0.9337\n",
      "Epoch 32/50\n",
      "899/899 [==============================] - 14s 16ms/step - loss: 0.1424 - accuracy: 0.9446 - val_loss: 0.2278 - val_accuracy: 0.9061\n",
      "Epoch 33/50\n",
      "899/899 [==============================] - 14s 16ms/step - loss: 0.1406 - accuracy: 0.9430 - val_loss: 0.1740 - val_accuracy: 0.9408\n",
      "Epoch 34/50\n",
      "899/899 [==============================] - 14s 16ms/step - loss: 0.1349 - accuracy: 0.9457 - val_loss: 0.1642 - val_accuracy: 0.9381\n",
      "Epoch 35/50\n",
      "899/899 [==============================] - 14s 16ms/step - loss: 0.1330 - accuracy: 0.9479 - val_loss: 0.1677 - val_accuracy: 0.9426\n",
      "Epoch 36/50\n",
      "899/899 [==============================] - 14s 16ms/step - loss: 0.1308 - accuracy: 0.9504 - val_loss: 0.1641 - val_accuracy: 0.9430\n",
      "Epoch 37/50\n",
      "899/899 [==============================] - 14s 16ms/step - loss: 0.1293 - accuracy: 0.9507 - val_loss: 0.1722 - val_accuracy: 0.9377\n",
      "Epoch 38/50\n",
      "899/899 [==============================] - 14s 16ms/step - loss: 0.1211 - accuracy: 0.9534 - val_loss: 0.1733 - val_accuracy: 0.9368\n",
      "Epoch 39/50\n",
      "899/899 [==============================] - 14s 16ms/step - loss: 0.1255 - accuracy: 0.9513 - val_loss: 0.1650 - val_accuracy: 0.9372\n",
      "Epoch 40/50\n",
      "899/899 [==============================] - 13s 15ms/step - loss: 0.1211 - accuracy: 0.9536 - val_loss: 0.1468 - val_accuracy: 0.9506\n",
      "Epoch 41/50\n",
      "899/899 [==============================] - 13s 15ms/step - loss: 0.1201 - accuracy: 0.9534 - val_loss: 0.1633 - val_accuracy: 0.9408\n",
      "Epoch 42/50\n",
      "899/899 [==============================] - 14s 15ms/step - loss: 0.1185 - accuracy: 0.9527 - val_loss: 0.1569 - val_accuracy: 0.9462\n",
      "Epoch 43/50\n",
      "899/899 [==============================] - 13s 14ms/step - loss: 0.1135 - accuracy: 0.9564 - val_loss: 0.1650 - val_accuracy: 0.9413\n",
      "Epoch 44/50\n",
      "899/899 [==============================] - 13s 15ms/step - loss: 0.1081 - accuracy: 0.9557 - val_loss: 0.1504 - val_accuracy: 0.9488\n",
      "Epoch 45/50\n",
      "899/899 [==============================] - 13s 15ms/step - loss: 0.1085 - accuracy: 0.9578 - val_loss: 0.1640 - val_accuracy: 0.9399\n",
      "Epoch 46/50\n",
      "899/899 [==============================] - 13s 14ms/step - loss: 0.1076 - accuracy: 0.9575 - val_loss: 0.1414 - val_accuracy: 0.9502\n",
      "Epoch 47/50\n",
      "899/899 [==============================] - 13s 14ms/step - loss: 0.1155 - accuracy: 0.9542 - val_loss: 0.1513 - val_accuracy: 0.9497\n",
      "Epoch 48/50\n",
      "899/899 [==============================] - 13s 15ms/step - loss: 0.1018 - accuracy: 0.9597 - val_loss: 0.1498 - val_accuracy: 0.9466\n",
      "Epoch 49/50\n",
      "899/899 [==============================] - 13s 15ms/step - loss: 0.1019 - accuracy: 0.9599 - val_loss: 0.1533 - val_accuracy: 0.9453\n",
      "Epoch 50/50\n",
      "899/899 [==============================] - 13s 15ms/step - loss: 0.1009 - accuracy: 0.9606 - val_loss: 0.1655 - val_accuracy: 0.9408\n"
     ]
    }
   ],
   "source": [
    "BATCH_SIZE = 10\n",
    "EPOCHS = 50\n",
    "history = model.fit(\n",
    "    X_train, y_train, \n",
    "    BATCH_SIZE, \n",
    "    EPOCHS, \n",
    "    validation_data=(X_val, y_val),\n",
    "    callbacks=[tensorboard])"
   ]
  },
  {
   "cell_type": "code",
   "execution_count": 19,
   "metadata": {},
   "outputs": [],
   "source": [
    "model.save(\"D:/Project2022/models/\"+model_name+\".h5\")"
   ]
  },
  {
   "cell_type": "code",
   "execution_count": 20,
   "metadata": {},
   "outputs": [
    {
     "name": "stdout",
     "output_type": "stream",
     "text": [
      "Test acuuracy 0.946956217288971\n",
      "Test loss 0.16163736581802368\n"
     ]
    }
   ],
   "source": [
    "# test loss, test accuracy\n",
    "accuracy = model.evaluate(X_test, y_test, batch_size=100, verbose=0)\n",
    "print(\"Test acuuracy\", accuracy[1])\n",
    "print(\"Test loss\", accuracy[0])"
   ]
  },
  {
   "cell_type": "code",
   "execution_count": 24,
   "metadata": {},
   "outputs": [
    {
     "name": "stdout",
     "output_type": "stream",
     "text": [
      "WARNING:tensorflow:AutoGraph could not transform <function Model.make_predict_function.<locals>.predict_function at 0x00000291CB138DC8> and will run it as-is.\n",
      "Please report this to the TensorFlow team. When filing the bug, set the verbosity to 10 (on Linux, `export AUTOGRAPH_VERBOSITY=10`) and attach the full output.\n",
      "Cause: 'arguments' object has no attribute 'posonlyargs'\n",
      "To silence this warning, decorate the function with @tf.autograph.experimental.do_not_convert\n",
      "WARNING: AutoGraph could not transform <function Model.make_predict_function.<locals>.predict_function at 0x00000291CB138DC8> and will run it as-is.\n",
      "Please report this to the TensorFlow team. When filing the bug, set the verbosity to 10 (on Linux, `export AUTOGRAPH_VERBOSITY=10`) and attach the full output.\n",
      "Cause: 'arguments' object has no attribute 'posonlyargs'\n",
      "To silence this warning, decorate the function with @tf.autograph.experimental.do_not_convert\n",
      "88/88 [==============================] - 1s 7ms/step\n",
      "              precision    recall  f1-score   support\n",
      "\n",
      "       covid       0.94      0.96      0.95      1395\n",
      "      Normal       0.96      0.94      0.95      1414\n",
      "\n",
      "    accuracy                           0.95      2809\n",
      "   macro avg       0.95      0.95      0.95      2809\n",
      "weighted avg       0.95      0.95      0.95      2809\n",
      "\n"
     ]
    }
   ],
   "source": [
    "#y_pred = model.predict_classes(X_test)\n",
    "y_pred = (model.predict(X_test) > 0.5).astype(\"int32\")\n",
    "print(classification_report(y_test, y_pred, target_names=[\"covid\", \"Normal\"]))"
   ]
  },
  {
   "cell_type": "code",
   "execution_count": 25,
   "metadata": {},
   "outputs": [
    {
     "data": {
      "image/png": "[encoded data removed]",
      "text/plain": [
       "<Figure size 432x288 with 2 Axes>"
      ]
     },
     "metadata": {
      "needs_background": "light"
     },
     "output_type": "display_data"
    }
   ],
   "source": [
    "cm = confusion_matrix(y_test, y_pred, labels=[0,1])\n",
    "disp = ConfusionMatrixDisplay(confusion_matrix=cm,\n",
    "                               display_labels=[\"Covid\",\"Normal\"])\n",
    "disp.plot()\n",
    "plt.show()\n"
   ]
  }
 ],
 "metadata": {
  "kernelspec": {
   "display_name": "Python 3.7.10 ('tensorflow')",
   "language": "python",
   "name": "python3"
  },
  "language_info": {
   "codemirror_mode": {
    "name": "ipython",
    "version": 3
   },
   "file_extension": ".py",
   "mimetype": "text/x-python",
   "name": "python",
   "nbconvert_exporter": "python",
   "pygments_lexer": "ipython3",
   "version": "3.7.10"
  },
  "orig_nbformat": 4,
  "vscode": {
   "interpreter": {
    "hash": "8c50830f626f547e043f1157b775d5349ebf6934572c5315bc4ad9efe15cebdc"
   }
  }
 },
 "nbformat": 4,
 "nbformat_minor": 2
}
