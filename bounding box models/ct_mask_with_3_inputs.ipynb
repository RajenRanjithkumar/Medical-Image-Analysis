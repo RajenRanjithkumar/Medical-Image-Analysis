{
 "cells": [
  {
   "cell_type": "code",
   "execution_count": 1,
   "metadata": {},
   "outputs": [],
   "source": [
    "#mask\n",
    "import json\n",
    "import cv2\n",
    "import os\n",
    "import pandas as pd \n",
    "import matplotlib.pyplot as plt\n",
    "from tqdm.notebook import tqdm\n",
    "import numpy as np\n",
    "\n",
    "import tensorflow as tf\n",
    "from sklearn.model_selection import train_test_split\n",
    "from tensorflow.keras import datasets, layers, models\n",
    "from keras.models import Sequential\n",
    "from keras.layers import Dense\n",
    "from keras.layers import Flatten \n",
    "from keras.layers import Dropout\n",
    "from keras.layers.convolutional import Conv1D\n",
    "from keras.layers.convolutional import MaxPooling1D\n",
    "from keras.utils import to_categorical\n",
    "import xml.etree.ElementTree as ET\n",
    "from keras.layers import Input\n",
    "from keras.models import Model\n",
    "from keras.layers import concatenate"
   ]
  },
  {
   "cell_type": "code",
   "execution_count": 2,
   "metadata": {},
   "outputs": [
    {
     "name": "stdout",
     "output_type": "stream",
     "text": [
      "WARNING:tensorflow:From C:\\Users\\ranji\\AppData\\Local\\Temp\\ipykernel_9384\\337460670.py:1: is_gpu_available (from tensorflow.python.framework.test_util) is deprecated and will be removed in a future version.\n",
      "Instructions for updating:\n",
      "Use `tf.config.list_physical_devices('GPU')` instead.\n"
     ]
    },
    {
     "data": {
      "text/plain": [
       "True"
      ]
     },
     "execution_count": 2,
     "metadata": {},
     "output_type": "execute_result"
    }
   ],
   "source": [
    "tf.test.is_gpu_available()"
   ]
  },
  {
   "cell_type": "code",
   "execution_count": 2,
   "metadata": {},
   "outputs": [],
   "source": [
    "#export format CoCo \n",
    "# open json file\n",
    "path = \"D:/Project2022/res/Datasets/mask_data_covid/parse.json\"\n",
    "\n",
    "with open(path, ) as file:\n",
    "    mask_data = json.load(file)"
   ]
  },
  {
   "cell_type": "markdown",
   "metadata": {},
   "source": [
    "# Json structure"
   ]
  },
  {
   "cell_type": "code",
   "execution_count": 3,
   "metadata": {},
   "outputs": [
    {
     "data": {
      "text/plain": [
       "'/47c54299-P104_98.png'"
      ]
     },
     "execution_count": 3,
     "metadata": {},
     "output_type": "execute_result"
    }
   ],
   "source": [
    "mask_data[0][\"data\"][\"image\"][14:]\n"
   ]
  },
  {
   "cell_type": "code",
   "execution_count": 4,
   "metadata": {},
   "outputs": [
    {
     "data": {
      "text/plain": [
       "[{'original_width': 512,\n",
       "  'original_height': 512,\n",
       "  'image_rotation': 0,\n",
       "  'value': {'x': 14.84374999999998,\n",
       "   'y': 26.95312499999996,\n",
       "   'width': 66.99218749999996,\n",
       "   'height': 45.31249999999997,\n",
       "   'rotation': 0,\n",
       "   'rectanglelabels': ['Open lungs']},\n",
       "  'id': 'VMZnXhZ4-0',\n",
       "  'from_name': 'label',\n",
       "  'to_name': 'image',\n",
       "  'type': 'rectanglelabels',\n",
       "  'origin': 'manual'}]"
      ]
     },
     "execution_count": 4,
     "metadata": {},
     "output_type": "execute_result"
    }
   ],
   "source": [
    "mask_data[0][\"annotations\"][0][\"result\"]"
   ]
  },
  {
   "cell_type": "code",
   "execution_count": 5,
   "metadata": {},
   "outputs": [],
   "source": [
    "# returns an image and bb coordinates\n",
    "def getBbox(img_array, x, y, width, height):\n",
    "    coordinates = []\n",
    "    \n",
    "    #print(img)\n",
    "    #img_array = cv2.imread(os.path.join(path,img), cv2.IMREAD_GRAYSCALE)\n",
    "    #img_array = cv2.resize(img_array, (512,512), interpolation= cv2.INTER_LINEAR)\n",
    "    #print(img_array.shape)\n",
    "    #bbox co ordinated -----> x1,y1   x2,y2\n",
    "    #print(annatation[\"bbox\"])\n",
    "    #plt.imshow(img_array, cmap=\"gray\")\n",
    "\n",
    "    row = img_array.sum(axis=0)\n",
    "    coloumn = img_array.sum(axis=1)\n",
    "\n",
    "    #concat rows and coloumn\n",
    "    concat_data = np.concatenate((row, coloumn))\n",
    "\n",
    "    x1 = x/100*512\n",
    "    y1 = y/100*512\n",
    "\n",
    "    x2_temp = width/100*512\n",
    "    y2_temp = height/100*512\n",
    "\n",
    "    x2 = x1+x2_temp\n",
    "    y2 = y1+y2_temp\n",
    "\n",
    "    \n",
    "    '''mid_x = (x1+x2)/2\n",
    "    mid_y = (y1+y2)/2\n",
    "    x1 = mid_x - (med_width/2)\n",
    "    y1 = mid_y - (med_height/2)\n",
    "\n",
    "    x2 = mid_x + (med_width/2) \n",
    "    y2 = mid_y + (med_height/2)'''\n",
    "    \n",
    "    coordinates.append(int(x1))\n",
    "    coordinates.append(int(y1))\n",
    "    coordinates.append(int(x2))\n",
    "    coordinates.append(int(y2))\n",
    "    return concat_data, row, coloumn, coordinates\n"
   ]
  },
  {
   "cell_type": "code",
   "execution_count": 8,
   "metadata": {},
   "outputs": [
    {
     "data": {
      "text/plain": [
       "1004"
      ]
     },
     "execution_count": 8,
     "metadata": {},
     "output_type": "execute_result"
    }
   ],
   "source": []
  },
  {
   "cell_type": "markdown",
   "metadata": {},
   "source": [
    "## Find the medians for the bbox"
   ]
  },
  {
   "cell_type": "code",
   "execution_count": 7,
   "metadata": {},
   "outputs": [
    {
     "data": {
      "application/vnd.jupyter.widget-view+json": {
       "model_id": "b88f534fcb0345bd92cc749a23990fdb",
       "version_major": 2,
       "version_minor": 0
      },
      "text/plain": [
       "HBox(children=(HTML(value=''), FloatProgress(value=0.0, max=1004.0), HTML(value='')))"
      ]
     },
     "metadata": {},
     "output_type": "display_data"
    },
    {
     "name": "stdout",
     "output_type": "stream",
     "text": [
      "\n",
      "median_width: 361.00000000000017\n",
      "median_height: 269.9999999999999\n"
     ]
    }
   ],
   "source": [
    "median_width = []\n",
    "median_height = []\n",
    "for data in tqdm(mask_data):\n",
    "    if(len(data[\"annotations\"][0][\"result\"]) != 0):\n",
    "\n",
    "        x = data[\"annotations\"][0][\"result\"][0][\"value\"][\"x\"]\n",
    "        y = data[\"annotations\"][0][\"result\"][0][\"value\"][\"y\"]\n",
    "        \n",
    "        width = data[\"annotations\"][0][\"result\"][0][\"value\"][\"width\"]\n",
    "        height = data[\"annotations\"][0][\"result\"][0][\"value\"][\"height\"]\n",
    "\n",
    "        x1 = x/100*512\n",
    "        y1 = y/100*512\n",
    "        x2_temp = width/100*512\n",
    "        y2_temp = height/100*512\n",
    "\n",
    "        x2 = x1+x2_temp\n",
    "        y2 = y1+y2_temp\n",
    "\n",
    "\n",
    "        median_width.append(x2-x1)\n",
    "        median_height.append(y2-y1)\n",
    "\n",
    "\n",
    "med_width = np.median(median_width)\n",
    "med_height = np.median(median_height)\n",
    "\n",
    "\n",
    "\n",
    "\n",
    "print(\"median_width:\", med_width)\n",
    "print(\"median_height:\", med_height)\n"
   ]
  },
  {
   "cell_type": "markdown",
   "metadata": {},
   "source": [
    "## Fetch Dataset "
   ]
  },
  {
   "cell_type": "code",
   "execution_count": 17,
   "metadata": {},
   "outputs": [
    {
     "data": {
      "application/json": {
       "ascii": false,
       "bar_format": null,
       "colour": null,
       "elapsed": 0.020000934600830078,
       "initial": 0,
       "n": 0,
       "ncols": null,
       "nrows": null,
       "postfix": null,
       "prefix": "",
       "rate": null,
       "total": 1004,
       "unit": "it",
       "unit_divisor": 1000,
       "unit_scale": false
      },
      "application/vnd.jupyter.widget-view+json": {
       "model_id": "7c75cb3fba45416c8b097dc0ea41898d",
       "version_major": 2,
       "version_minor": 0
      },
      "text/plain": [
       "  0%|          | 0/1004 [00:00<?, ?it/s]"
      ]
     },
     "metadata": {},
     "output_type": "display_data"
    }
   ],
   "source": [
    "path = \"D:/Project2022/res/Datasets/mask_data_covid/images/\"\n",
    "\n",
    "raw_images= []\n",
    "conacat_image = []\n",
    "row_sum = []\n",
    "coloumn_sum = []\n",
    "bb_cordinates = []\n",
    "\n",
    "for data in tqdm(mask_data):\n",
    "#for data, bb_data in zip(mask_data[\"image\"], mask_data[\"label\"]):\n",
    "    #print(data[\"annotations\"][0][\"result\"][0][\"value\"])\n",
    "\n",
    "    if(len(data[\"annotations\"][0][\"result\"]) != 0):\n",
    "        x = data[\"annotations\"][0][\"result\"][0][\"value\"][\"x\"]\n",
    "        y = data[\"annotations\"][0][\"result\"][0][\"value\"][\"y\"]\n",
    "        width = data[\"annotations\"][0][\"result\"][0][\"value\"][\"width\"]\n",
    "        height = data[\"annotations\"][0][\"result\"][0][\"value\"][\"height\"]\n",
    "\n",
    "    \n",
    "\n",
    "        #print(data[\"data\"][\"image\"][15:])\n",
    "        img = data[\"data\"][\"image\"][15:]\n",
    "\n",
    "    \n",
    "        if(os.path.isfile(os.path.join(path,img))):\n",
    "\n",
    "            img_array = cv2.imread(os.path.join(path,img), cv2.IMREAD_GRAYSCALE)\n",
    "            #plt.imshow(img_array, cmap=\"gist_gray\")\n",
    "            #plt.show()\n",
    "            img_array = cv2.resize(img_array, (512,512), interpolation= cv2.INTER_LINEAR)\n",
    "\n",
    "            data, rowSum, coloumnSum, label = getBbox(img_array, x, y, width, height)\n",
    "            #data, label = getBbox(img_array, x, y, med_width, med_height)\n",
    "\n",
    "            raw_images.append(img_array)\n",
    "            conacat_image.append(data)\n",
    "            row_sum.append(rowSum)\n",
    "            coloumn_sum.append(coloumnSum)\n",
    "            bb_cordinates.append(label)\n",
    "\n",
    "            plot_array = np.copy(img_array)\n",
    "            cv2.rectangle(plot_array, (label[0], label[1]), (label[2], label[3]),color=(255, 0, 0), thickness=2)\n",
    "            cv2.imwrite(\"D:/Project2022/res/Datasets/mask_data_covid/output1/\"+img, plot_array)\n",
    "\n",
    "\n",
    "\n",
    "            # Flip the ct scan (axis = 1 ) and its Bbox\n",
    "            img_flip = np.copy(img_array)\n",
    "            img_flip = cv2.flip(img_flip, 1)\n",
    "\n",
    "            data, rowSum, coloumnSum, label = getBbox(img_flip, x, y, width, height)\n",
    "            #data, label = getBbox(img_flip, x, y, med_width, med_height)\n",
    "\n",
    "            #plt.figure(figsize=(5, 5), dpi=100)\n",
    "            \n",
    "            bbox_flip = [512-label[2], label[1], 512-label[0], label[3]]\n",
    "\n",
    "            raw_images.append(img_flip)\n",
    "            conacat_image.append(data)\n",
    "            row_sum.append(rowSum)\n",
    "            coloumn_sum.append(coloumnSum)\n",
    "            bb_cordinates.append(bbox_flip)\n",
    "\n",
    "            plot_array = np.copy(img_flip)\n",
    "            cv2.rectangle(plot_array, (bbox_flip[0], bbox_flip[1]), (bbox_flip[2], bbox_flip[3]),color=(255, 0, 0), thickness=2)\n",
    "            cv2.imwrite(\"D:/Project2022/res/Datasets/mask_data_covid/output1/\"+\"flip_\"+img, plot_array)\n",
    "\n",
    "                #plt.imshow(img_array)\n",
    "\n",
    "                #print(data.shape)\n",
    "                #print(label)'''\n",
    "\n",
    "    \n",
    "    "
   ]
  },
  {
   "cell_type": "code",
   "execution_count": 21,
   "metadata": {},
   "outputs": [],
   "source": [
    "mask_df = pd.DataFrame()\n",
    "mask_df[\"raw data\"] = raw_images\n",
    "mask_df[\"concat data\"] = conacat_image\n",
    "mask_df[\"row_sum\"] = row_sum\n",
    "mask_df[\"coloumn_sum\"] = coloumn_sum\n",
    "mask_df[\"bbox\"] = bb_cordinates"
   ]
  },
  {
   "cell_type": "code",
   "execution_count": 22,
   "metadata": {},
   "outputs": [
    {
     "name": "stdout",
     "output_type": "stream",
     "text": [
      "No of samles: 1870\n"
     ]
    }
   ],
   "source": [
    "print(\"No of samles:\", mask_df.shape[0])"
   ]
  },
  {
   "cell_type": "code",
   "execution_count": 23,
   "metadata": {},
   "outputs": [
    {
     "data": {
      "text/html": [
       "<div>\n",
       "<style scoped>\n",
       "    .dataframe tbody tr th:only-of-type {\n",
       "        vertical-align: middle;\n",
       "    }\n",
       "\n",
       "    .dataframe tbody tr th {\n",
       "        vertical-align: top;\n",
       "    }\n",
       "\n",
       "    .dataframe thead th {\n",
       "        text-align: right;\n",
       "    }\n",
       "</style>\n",
       "<table border=\"1\" class=\"dataframe\">\n",
       "  <thead>\n",
       "    <tr style=\"text-align: right;\">\n",
       "      <th></th>\n",
       "      <th>raw data</th>\n",
       "      <th>concat data</th>\n",
       "      <th>row_sum</th>\n",
       "      <th>coloumn_sum</th>\n",
       "      <th>bbox</th>\n",
       "    </tr>\n",
       "  </thead>\n",
       "  <tbody>\n",
       "    <tr>\n",
       "      <th>0</th>\n",
       "      <td>[[2, 3, 2, 0, 2, 4, 1, 1, 2, 5, 4, 0, 0, 4, 3,...</td>\n",
       "      <td>[18381, 18619, 18847, 19111, 19284, 19356, 194...</td>\n",
       "      <td>[18381, 18619, 18847, 19111, 19284, 19356, 194...</td>\n",
       "      <td>[1087, 1105, 1093, 1080, 1060, 1078, 1122, 111...</td>\n",
       "      <td>[75, 137, 418, 369]</td>\n",
       "    </tr>\n",
       "    <tr>\n",
       "      <th>1</th>\n",
       "      <td>[[0, 0, 0, 0, 0, 0, 0, 2, 4, 3, 1, 1, 2, 4, 3,...</td>\n",
       "      <td>[10820, 11123, 11498, 11846, 12171, 12608, 131...</td>\n",
       "      <td>[10820, 11123, 11498, 11846, 12171, 12608, 131...</td>\n",
       "      <td>[1087, 1105, 1093, 1080, 1060, 1078, 1122, 111...</td>\n",
       "      <td>[94, 137, 437, 369]</td>\n",
       "    </tr>\n",
       "    <tr>\n",
       "      <th>2</th>\n",
       "      <td>[[2, 2, 0, 0, 2, 3, 3, 1, 1, 3, 5, 3, 3, 1, 0,...</td>\n",
       "      <td>[18420, 18699, 18940, 19216, 19474, 19567, 196...</td>\n",
       "      <td>[18420, 18699, 18940, 19216, 19474, 19567, 196...</td>\n",
       "      <td>[1100, 1111, 1115, 1079, 1086, 1091, 1091, 111...</td>\n",
       "      <td>[75, 139, 419, 372]</td>\n",
       "    </tr>\n",
       "    <tr>\n",
       "      <th>3</th>\n",
       "      <td>[[0, 0, 0, 0, 0, 0, 0, 2, 1, 2, 3, 4, 2, 1, 2,...</td>\n",
       "      <td>[10764, 11061, 11419, 11766, 12157, 12639, 132...</td>\n",
       "      <td>[10764, 11061, 11419, 11766, 12157, 12639, 132...</td>\n",
       "      <td>[1100, 1111, 1115, 1079, 1086, 1091, 1091, 111...</td>\n",
       "      <td>[93, 139, 437, 372]</td>\n",
       "    </tr>\n",
       "    <tr>\n",
       "      <th>4</th>\n",
       "      <td>[[0, 5, 6, 2, 0, 2, 5, 4, 0, 0, 4, 3, 0, 4, 5,...</td>\n",
       "      <td>[18244, 18490, 18691, 18850, 18979, 19150, 193...</td>\n",
       "      <td>[18244, 18490, 18691, 18850, 18979, 19150, 193...</td>\n",
       "      <td>[1074, 1077, 1075, 1067, 1049, 1045, 1063, 107...</td>\n",
       "      <td>[77, 140, 417, 368]</td>\n",
       "    </tr>\n",
       "  </tbody>\n",
       "</table>\n",
       "</div>"
      ],
      "text/plain": [
       "                                            raw data  \\\n",
       "0  [[2, 3, 2, 0, 2, 4, 1, 1, 2, 5, 4, 0, 0, 4, 3,...   \n",
       "1  [[0, 0, 0, 0, 0, 0, 0, 2, 4, 3, 1, 1, 2, 4, 3,...   \n",
       "2  [[2, 2, 0, 0, 2, 3, 3, 1, 1, 3, 5, 3, 3, 1, 0,...   \n",
       "3  [[0, 0, 0, 0, 0, 0, 0, 2, 1, 2, 3, 4, 2, 1, 2,...   \n",
       "4  [[0, 5, 6, 2, 0, 2, 5, 4, 0, 0, 4, 3, 0, 4, 5,...   \n",
       "\n",
       "                                         concat data  \\\n",
       "0  [18381, 18619, 18847, 19111, 19284, 19356, 194...   \n",
       "1  [10820, 11123, 11498, 11846, 12171, 12608, 131...   \n",
       "2  [18420, 18699, 18940, 19216, 19474, 19567, 196...   \n",
       "3  [10764, 11061, 11419, 11766, 12157, 12639, 132...   \n",
       "4  [18244, 18490, 18691, 18850, 18979, 19150, 193...   \n",
       "\n",
       "                                             row_sum  \\\n",
       "0  [18381, 18619, 18847, 19111, 19284, 19356, 194...   \n",
       "1  [10820, 11123, 11498, 11846, 12171, 12608, 131...   \n",
       "2  [18420, 18699, 18940, 19216, 19474, 19567, 196...   \n",
       "3  [10764, 11061, 11419, 11766, 12157, 12639, 132...   \n",
       "4  [18244, 18490, 18691, 18850, 18979, 19150, 193...   \n",
       "\n",
       "                                         coloumn_sum                 bbox  \n",
       "0  [1087, 1105, 1093, 1080, 1060, 1078, 1122, 111...  [75, 137, 418, 369]  \n",
       "1  [1087, 1105, 1093, 1080, 1060, 1078, 1122, 111...  [94, 137, 437, 369]  \n",
       "2  [1100, 1111, 1115, 1079, 1086, 1091, 1091, 111...  [75, 139, 419, 372]  \n",
       "3  [1100, 1111, 1115, 1079, 1086, 1091, 1091, 111...  [93, 139, 437, 372]  \n",
       "4  [1074, 1077, 1075, 1067, 1049, 1045, 1063, 107...  [77, 140, 417, 368]  "
      ]
     },
     "execution_count": 23,
     "metadata": {},
     "output_type": "execute_result"
    }
   ],
   "source": [
    "mask_df.head()\n"
   ]
  },
  {
   "cell_type": "code",
   "execution_count": 40,
   "metadata": {},
   "outputs": [],
   "source": [
    "#save data\n",
    "mask_df.to_pickle(\"D:/Project2022/res/Datasets/mask_bbox_large_dataset.pickle\")"
   ]
  },
  {
   "cell_type": "code",
   "execution_count": 27,
   "metadata": {},
   "outputs": [],
   "source": [
    "#-----------------    0                1\n",
    "#combine_X -----> [[\"raw data\"], [\"concat data\"]]\n",
    "combine_df = pd.DataFrame()\n",
    "combine_df[\"raw data\"] = raw_images\n",
    "combine_df[\"concat data\"] = conacat_image\n",
    "combine_df[\"row_sum\"] = row_sum\n",
    "combine_df[\"coloumn_sum\"] = coloumn_sum"
   ]
  },
  {
   "cell_type": "code",
   "execution_count": 37,
   "metadata": {},
   "outputs": [
    {
     "name": "stdout",
     "output_type": "stream",
     "text": [
      "X shape: (1870, 1024)\n",
      "row sum shape (1870, 512)\n",
      "coloumn sum shape (1870, 512)\n",
      "y shape: (1870, 4)\n"
     ]
    }
   ],
   "source": [
    "# Dataset shape\n",
    "print(\"X shape:\", np.array(conacat_image).shape )\n",
    "print(\"row sum shape\", np.array(row_sum).shape)\n",
    "print(\"coloumn sum shape\", np.array(coloumn_sum).shape)\n",
    "print(\"y shape:\", np.array(bb_cordinates).shape)"
   ]
  },
  {
   "cell_type": "code",
   "execution_count": 43,
   "metadata": {},
   "outputs": [],
   "source": [
    "def data_reshape(array):\n",
    "    data = []\n",
    "    for sample in tqdm(array):\n",
    "        data.append(list(sample))\n",
    "    return np.array(data)"
   ]
  },
  {
   "cell_type": "code",
   "execution_count": 41,
   "metadata": {},
   "outputs": [],
   "source": [
    "from sklearn.model_selection import train_test_split\n",
    "X_train, X_test, y_train, y_test = train_test_split(combine_df, bb_cordinates, test_size = 0.2, random_state = 42)\n",
    "#X_train, X_test, y_train, y_test = train_test_split(conacat_image, bb_cordinates, test_size = 0.2, random_state = 42)"
   ]
  },
  {
   "cell_type": "code",
   "execution_count": 44,
   "metadata": {},
   "outputs": [
    {
     "data": {
      "application/json": {
       "ascii": false,
       "bar_format": null,
       "colour": null,
       "elapsed": 0.029992103576660156,
       "initial": 0,
       "n": 0,
       "ncols": null,
       "nrows": null,
       "postfix": null,
       "prefix": "",
       "rate": null,
       "total": 1496,
       "unit": "it",
       "unit_divisor": 1000,
       "unit_scale": false
      },
      "application/vnd.jupyter.widget-view+json": {
       "model_id": "d1bb13efb6fc47b9a9ff7ae6c6b6ec13",
       "version_major": 2,
       "version_minor": 0
      },
      "text/plain": [
       "  0%|          | 0/1496 [00:00<?, ?it/s]"
      ]
     },
     "metadata": {},
     "output_type": "display_data"
    },
    {
     "data": {
      "application/json": {
       "ascii": false,
       "bar_format": null,
       "colour": null,
       "elapsed": 0.019997119903564453,
       "initial": 0,
       "n": 0,
       "ncols": null,
       "nrows": null,
       "postfix": null,
       "prefix": "",
       "rate": null,
       "total": 1496,
       "unit": "it",
       "unit_divisor": 1000,
       "unit_scale": false
      },
      "application/vnd.jupyter.widget-view+json": {
       "model_id": "efb65f2f25bb4176a79ae2c4f9c3df1c",
       "version_major": 2,
       "version_minor": 0
      },
      "text/plain": [
       "  0%|          | 0/1496 [00:00<?, ?it/s]"
      ]
     },
     "metadata": {},
     "output_type": "display_data"
    },
    {
     "data": {
      "application/json": {
       "ascii": false,
       "bar_format": null,
       "colour": null,
       "elapsed": 0.0205233097076416,
       "initial": 0,
       "n": 0,
       "ncols": null,
       "nrows": null,
       "postfix": null,
       "prefix": "",
       "rate": null,
       "total": 1496,
       "unit": "it",
       "unit_divisor": 1000,
       "unit_scale": false
      },
      "application/vnd.jupyter.widget-view+json": {
       "model_id": "030ca54591c54c5694907cdc5eeb4a20",
       "version_major": 2,
       "version_minor": 0
      },
      "text/plain": [
       "  0%|          | 0/1496 [00:00<?, ?it/s]"
      ]
     },
     "metadata": {},
     "output_type": "display_data"
    },
    {
     "data": {
      "application/json": {
       "ascii": false,
       "bar_format": null,
       "colour": null,
       "elapsed": 0.019994497299194336,
       "initial": 0,
       "n": 0,
       "ncols": null,
       "nrows": null,
       "postfix": null,
       "prefix": "",
       "rate": null,
       "total": 374,
       "unit": "it",
       "unit_divisor": 1000,
       "unit_scale": false
      },
      "application/vnd.jupyter.widget-view+json": {
       "model_id": "4b990b229ce543a4a50f271e4db50b4f",
       "version_major": 2,
       "version_minor": 0
      },
      "text/plain": [
       "  0%|          | 0/374 [00:00<?, ?it/s]"
      ]
     },
     "metadata": {},
     "output_type": "display_data"
    },
    {
     "data": {
      "application/json": {
       "ascii": false,
       "bar_format": null,
       "colour": null,
       "elapsed": 0.020029306411743164,
       "initial": 0,
       "n": 0,
       "ncols": null,
       "nrows": null,
       "postfix": null,
       "prefix": "",
       "rate": null,
       "total": 374,
       "unit": "it",
       "unit_divisor": 1000,
       "unit_scale": false
      },
      "application/vnd.jupyter.widget-view+json": {
       "model_id": "11c0f1479c834d19acd4b0a6467c8e52",
       "version_major": 2,
       "version_minor": 0
      },
      "text/plain": [
       "  0%|          | 0/374 [00:00<?, ?it/s]"
      ]
     },
     "metadata": {},
     "output_type": "display_data"
    },
    {
     "data": {
      "application/json": {
       "ascii": false,
       "bar_format": null,
       "colour": null,
       "elapsed": 0.020998239517211914,
       "initial": 0,
       "n": 0,
       "ncols": null,
       "nrows": null,
       "postfix": null,
       "prefix": "",
       "rate": null,
       "total": 374,
       "unit": "it",
       "unit_divisor": 1000,
       "unit_scale": false
      },
      "application/vnd.jupyter.widget-view+json": {
       "model_id": "5345278b6e22484eb16a3d9fe498ff01",
       "version_major": 2,
       "version_minor": 0
      },
      "text/plain": [
       "  0%|          | 0/374 [00:00<?, ?it/s]"
      ]
     },
     "metadata": {},
     "output_type": "display_data"
    }
   ],
   "source": [
    "#normalize the train data\n",
    "from sklearn import preprocessing\n",
    "# Training data\n",
    "norm_x = preprocessing.normalize(data_reshape(X_train[\"concat data\"]))\n",
    "norm_x1 = preprocessing.normalize(data_reshape(X_train[\"row_sum\"]))\n",
    "norm_x2 = preprocessing.normalize(data_reshape(X_train[\"coloumn_sum\"]))\n",
    "\n",
    "norm_y = np.array(y_train)/512\n",
    "# Testing data\n",
    "norm_x_test = preprocessing.normalize(data_reshape(X_test[\"concat data\"]))\n",
    "norm_x1_test = preprocessing.normalize(data_reshape(X_test[\"row_sum\"]))\n",
    "norm_x2_test = preprocessing.normalize(data_reshape(X_test[\"coloumn_sum\"]))\n",
    "\n",
    "\n",
    "norm_y_test = np.array(y_test)/512\n"
   ]
  },
  {
   "cell_type": "code",
   "execution_count": 49,
   "metadata": {},
   "outputs": [
    {
     "name": "stdout",
     "output_type": "stream",
     "text": [
      "Model: \"model_23\"\n",
      "__________________________________________________________________________________________________\n",
      " Layer (type)                   Output Shape         Param #     Connected to                     \n",
      "==================================================================================================\n",
      " input_17 (InputLayer)          [(None, 512)]        0           []                               \n",
      "                                                                                                  \n",
      " input_18 (InputLayer)          [(None, 512)]        0           []                               \n",
      "                                                                                                  \n",
      " input_16 (InputLayer)          [(None, 1024)]       0           []                               \n",
      "                                                                                                  \n",
      " dense_69 (Dense)               (None, 512)          262656      ['input_17[0][0]']               \n",
      "                                                                                                  \n",
      " dense_73 (Dense)               (None, 512)          262656      ['input_18[0][0]']               \n",
      "                                                                                                  \n",
      " dense_66 (Dense)               (None, 256)          262400      ['input_16[0][0]']               \n",
      "                                                                                                  \n",
      " dense_70 (Dense)               (None, 256)          131328      ['dense_69[0][0]']               \n",
      "                                                                                                  \n",
      " dense_74 (Dense)               (None, 256)          131328      ['dense_73[0][0]']               \n",
      "                                                                                                  \n",
      " dense_67 (Dense)               (None, 128)          32896       ['dense_66[0][0]']               \n",
      "                                                                                                  \n",
      " dense_71 (Dense)               (None, 128)          32896       ['dense_70[0][0]']               \n",
      "                                                                                                  \n",
      " dense_75 (Dense)               (None, 128)          32896       ['dense_74[0][0]']               \n",
      "                                                                                                  \n",
      " dense_68 (Dense)               (None, 64)           8256        ['dense_67[0][0]']               \n",
      "                                                                                                  \n",
      " dense_72 (Dense)               (None, 64)           8256        ['dense_71[0][0]']               \n",
      "                                                                                                  \n",
      " dense_76 (Dense)               (None, 64)           8256        ['dense_75[0][0]']               \n",
      "                                                                                                  \n",
      " concatenate_5 (Concatenate)    (None, 192)          0           ['dense_68[0][0]',               \n",
      "                                                                  'dense_72[0][0]',               \n",
      "                                                                  'dense_76[0][0]']               \n",
      "                                                                                                  \n",
      " dense_77 (Dense)               (None, 100)          19300       ['concatenate_5[0][0]']          \n",
      "                                                                                                  \n",
      " dense_78 (Dense)               (None, 4)            404         ['dense_77[0][0]']               \n",
      "                                                                                                  \n",
      "==================================================================================================\n",
      "Total params: 1,193,528\n",
      "Trainable params: 1,193,528\n",
      "Non-trainable params: 0\n",
      "__________________________________________________________________________________________________\n"
     ]
    }
   ],
   "source": [
    "input_global = Input(shape=(1024,))\n",
    "input_rowSum = Input(shape=(512,))\n",
    "input_coloumnSum = Input(shape=(512,))\n",
    "\n",
    "x = Dense(256, activation=\"relu\")(input_global)\n",
    "x = Dense(128, activation=\"relu\")(x)\n",
    "x = Dense(64, activation=\"relu\")(x)\n",
    "x = Model(inputs=input_global, outputs=x)\n",
    "\n",
    "x1 = Dense(512, activation=\"relu\")(input_rowSum)\n",
    "x1 = Dense(256, activation=\"relu\")(x1)\n",
    "x1 = Dense(128, activation=\"relu\")(x1)\n",
    "x1 = Dense(64, activation=\"relu\")(x1)\n",
    "x1 = Model(inputs=input_rowSum, outputs=x1)\n",
    "\n",
    "x2 = Dense(512, activation=\"relu\")(input_coloumnSum)\n",
    "x2 = Dense(256, activation=\"relu\")(x2)\n",
    "x2 = Dense(128, activation=\"relu\")(x2)\n",
    "x2 = Dense(64, activation=\"relu\")(x2)\n",
    "x2 = Model(inputs=input_coloumnSum, outputs=x2)\n",
    "\n",
    "# combine the output of the three branches\n",
    "combined = concatenate([x.output, x1.output, x2.output])\n",
    "\n",
    "# apply a FC layer and then a regression prediction on the\n",
    "# combined outputs\n",
    "z = Dense(100, activation=\"relu\")(combined)\n",
    "z = Dense(4, activation=\"linear\")(z)\n",
    "\n",
    "model = Model(inputs=[x.input, x1.input, x2.input], outputs=z)\n",
    "model.summary()"
   ]
  },
  {
   "cell_type": "code",
   "execution_count": 50,
   "metadata": {},
   "outputs": [
    {
     "name": "stdout",
     "output_type": "stream",
     "text": [
      "Epoch 1/100\n",
      "WARNING:tensorflow:AutoGraph could not transform <function Model.make_train_function.<locals>.train_function at 0x0000026BFFBCF5E8> and will run it as-is.\n",
      "Please report this to the TensorFlow team. When filing the bug, set the verbosity to 10 (on Linux, `export AUTOGRAPH_VERBOSITY=10`) and attach the full output.\n",
      "Cause: 'arguments' object has no attribute 'posonlyargs'\n",
      "To silence this warning, decorate the function with @tf.autograph.experimental.do_not_convert\n",
      "WARNING: AutoGraph could not transform <function Model.make_train_function.<locals>.train_function at 0x0000026BFFBCF5E8> and will run it as-is.\n",
      "Please report this to the TensorFlow team. When filing the bug, set the verbosity to 10 (on Linux, `export AUTOGRAPH_VERBOSITY=10`) and attach the full output.\n",
      "Cause: 'arguments' object has no attribute 'posonlyargs'\n",
      "To silence this warning, decorate the function with @tf.autograph.experimental.do_not_convert\n",
      "47/47 [==============================] - 2s 17ms/step - loss: 0.0319 - mean_squared_error: 0.0319\n",
      "Epoch 2/100\n",
      "47/47 [==============================] - 1s 15ms/step - loss: 0.0031 - mean_squared_error: 0.0031\n",
      "Epoch 3/100\n",
      "47/47 [==============================] - 1s 13ms/step - loss: 0.0022 - mean_squared_error: 0.0022\n",
      "Epoch 4/100\n",
      "47/47 [==============================] - 1s 13ms/step - loss: 0.0017 - mean_squared_error: 0.0017\n",
      "Epoch 5/100\n",
      "47/47 [==============================] - 1s 14ms/step - loss: 0.0016 - mean_squared_error: 0.0016\n",
      "Epoch 6/100\n",
      "47/47 [==============================] - 1s 14ms/step - loss: 0.0013 - mean_squared_error: 0.0013\n",
      "Epoch 7/100\n",
      "47/47 [==============================] - 1s 12ms/step - loss: 0.0011 - mean_squared_error: 0.0011\n",
      "Epoch 8/100\n",
      "47/47 [==============================] - 1s 13ms/step - loss: 0.0011 - mean_squared_error: 0.0011\n",
      "Epoch 9/100\n",
      "47/47 [==============================] - 1s 15ms/step - loss: 0.0010 - mean_squared_error: 0.0010\n",
      "Epoch 10/100\n",
      "47/47 [==============================] - 1s 13ms/step - loss: 9.6829e-04 - mean_squared_error: 9.6829e-04\n",
      "Epoch 11/100\n",
      "47/47 [==============================] - 1s 13ms/step - loss: 9.5586e-04 - mean_squared_error: 9.5586e-04\n",
      "Epoch 12/100\n",
      "47/47 [==============================] - 1s 13ms/step - loss: 9.5077e-04 - mean_squared_error: 9.5077e-04\n",
      "Epoch 13/100\n",
      "47/47 [==============================] - 1s 15ms/step - loss: 8.8023e-04 - mean_squared_error: 8.8023e-04\n",
      "Epoch 14/100\n",
      "47/47 [==============================] - 1s 13ms/step - loss: 8.4648e-04 - mean_squared_error: 8.4648e-04\n",
      "Epoch 15/100\n",
      "47/47 [==============================] - 1s 13ms/step - loss: 8.4371e-04 - mean_squared_error: 8.4371e-04\n",
      "Epoch 16/100\n",
      "47/47 [==============================] - 1s 14ms/step - loss: 7.5410e-04 - mean_squared_error: 7.5410e-04\n",
      "Epoch 17/100\n",
      "47/47 [==============================] - 1s 13ms/step - loss: 6.7543e-04 - mean_squared_error: 6.7543e-04\n",
      "Epoch 18/100\n",
      "47/47 [==============================] - 1s 13ms/step - loss: 6.9051e-04 - mean_squared_error: 6.9051e-04\n",
      "Epoch 19/100\n",
      "47/47 [==============================] - 1s 13ms/step - loss: 6.6484e-04 - mean_squared_error: 6.6484e-04\n",
      "Epoch 20/100\n",
      "47/47 [==============================] - 1s 15ms/step - loss: 6.3367e-04 - mean_squared_error: 6.3367e-04\n",
      "Epoch 21/100\n",
      "47/47 [==============================] - 1s 13ms/step - loss: 6.4612e-04 - mean_squared_error: 6.4612e-04\n",
      "Epoch 22/100\n",
      "47/47 [==============================] - 1s 13ms/step - loss: 7.4752e-04 - mean_squared_error: 7.4752e-04\n",
      "Epoch 23/100\n",
      "47/47 [==============================] - 1s 13ms/step - loss: 6.4789e-04 - mean_squared_error: 6.4789e-04\n",
      "Epoch 24/100\n",
      "47/47 [==============================] - 1s 13ms/step - loss: 6.2308e-04 - mean_squared_error: 6.2308e-04\n",
      "Epoch 25/100\n",
      "47/47 [==============================] - 1s 12ms/step - loss: 5.4991e-04 - mean_squared_error: 5.4991e-04\n",
      "Epoch 26/100\n",
      "47/47 [==============================] - 1s 13ms/step - loss: 5.7360e-04 - mean_squared_error: 5.7360e-04\n",
      "Epoch 27/100\n",
      "47/47 [==============================] - 1s 15ms/step - loss: 5.0853e-04 - mean_squared_error: 5.0853e-04\n",
      "Epoch 28/100\n",
      "47/47 [==============================] - 1s 13ms/step - loss: 5.0854e-04 - mean_squared_error: 5.0854e-04\n",
      "Epoch 29/100\n",
      "47/47 [==============================] - 1s 13ms/step - loss: 5.0457e-04 - mean_squared_error: 5.0457e-04\n",
      "Epoch 30/100\n",
      "47/47 [==============================] - 1s 13ms/step - loss: 5.5144e-04 - mean_squared_error: 5.5144e-04\n",
      "Epoch 31/100\n",
      "47/47 [==============================] - 1s 15ms/step - loss: 5.4774e-04 - mean_squared_error: 5.4774e-04\n",
      "Epoch 32/100\n",
      "47/47 [==============================] - 1s 13ms/step - loss: 5.0042e-04 - mean_squared_error: 5.0042e-04\n",
      "Epoch 33/100\n",
      "47/47 [==============================] - 1s 13ms/step - loss: 4.8366e-04 - mean_squared_error: 4.8366e-04\n",
      "Epoch 34/100\n",
      "47/47 [==============================] - 1s 14ms/step - loss: 4.5168e-04 - mean_squared_error: 4.5168e-04\n",
      "Epoch 35/100\n",
      "47/47 [==============================] - 1s 13ms/step - loss: 4.5792e-04 - mean_squared_error: 4.5792e-04\n",
      "Epoch 36/100\n",
      "47/47 [==============================] - 1s 13ms/step - loss: 5.4099e-04 - mean_squared_error: 5.4099e-04\n",
      "Epoch 37/100\n",
      "47/47 [==============================] - 1s 13ms/step - loss: 5.6955e-04 - mean_squared_error: 5.6955e-04\n",
      "Epoch 38/100\n",
      "47/47 [==============================] - 1s 15ms/step - loss: 4.9891e-04 - mean_squared_error: 4.9891e-04\n",
      "Epoch 39/100\n",
      "47/47 [==============================] - 1s 13ms/step - loss: 5.1421e-04 - mean_squared_error: 5.1421e-04\n",
      "Epoch 40/100\n",
      "47/47 [==============================] - 1s 13ms/step - loss: 4.3128e-04 - mean_squared_error: 4.3128e-04\n",
      "Epoch 41/100\n",
      "47/47 [==============================] - 1s 14ms/step - loss: 4.5497e-04 - mean_squared_error: 4.5497e-04\n",
      "Epoch 42/100\n",
      "47/47 [==============================] - 1s 13ms/step - loss: 3.9846e-04 - mean_squared_error: 3.9846e-04\n",
      "Epoch 43/100\n",
      "47/47 [==============================] - 1s 13ms/step - loss: 4.3915e-04 - mean_squared_error: 4.3915e-04\n",
      "Epoch 44/100\n",
      "47/47 [==============================] - 1s 13ms/step - loss: 4.2930e-04 - mean_squared_error: 4.2930e-04\n",
      "Epoch 45/100\n",
      "47/47 [==============================] - 1s 15ms/step - loss: 4.8780e-04 - mean_squared_error: 4.8780e-04\n",
      "Epoch 46/100\n",
      "47/47 [==============================] - 1s 13ms/step - loss: 4.1304e-04 - mean_squared_error: 4.1304e-04\n",
      "Epoch 47/100\n",
      "47/47 [==============================] - 1s 13ms/step - loss: 3.5209e-04 - mean_squared_error: 3.5209e-04\n",
      "Epoch 48/100\n",
      "47/47 [==============================] - 1s 14ms/step - loss: 3.7385e-04 - mean_squared_error: 3.7385e-04\n",
      "Epoch 49/100\n",
      "47/47 [==============================] - 1s 14ms/step - loss: 3.8070e-04 - mean_squared_error: 3.8070e-04\n",
      "Epoch 50/100\n",
      "47/47 [==============================] - 1s 12ms/step - loss: 3.8990e-04 - mean_squared_error: 3.8990e-04\n",
      "Epoch 51/100\n",
      "47/47 [==============================] - 1s 13ms/step - loss: 3.6949e-04 - mean_squared_error: 3.6949e-04\n",
      "Epoch 52/100\n",
      "47/47 [==============================] - 1s 15ms/step - loss: 4.4946e-04 - mean_squared_error: 4.4946e-04\n",
      "Epoch 53/100\n",
      "47/47 [==============================] - 1s 13ms/step - loss: 3.6927e-04 - mean_squared_error: 3.6927e-04\n",
      "Epoch 54/100\n",
      "47/47 [==============================] - 1s 13ms/step - loss: 3.6770e-04 - mean_squared_error: 3.6770e-04\n",
      "Epoch 55/100\n",
      "47/47 [==============================] - 1s 13ms/step - loss: 4.1619e-04 - mean_squared_error: 4.1619e-04\n",
      "Epoch 56/100\n",
      "47/47 [==============================] - 1s 15ms/step - loss: 4.0570e-04 - mean_squared_error: 4.0570e-04\n",
      "Epoch 57/100\n",
      "47/47 [==============================] - 1s 13ms/step - loss: 3.2265e-04 - mean_squared_error: 3.2265e-04\n",
      "Epoch 58/100\n",
      "47/47 [==============================] - 1s 13ms/step - loss: 3.1032e-04 - mean_squared_error: 3.1032e-04\n",
      "Epoch 59/100\n",
      "47/47 [==============================] - 1s 14ms/step - loss: 2.9596e-04 - mean_squared_error: 2.9596e-04\n",
      "Epoch 60/100\n",
      "47/47 [==============================] - 1s 14ms/step - loss: 3.8619e-04 - mean_squared_error: 3.8619e-04\n",
      "Epoch 61/100\n",
      "47/47 [==============================] - 1s 13ms/step - loss: 3.5369e-04 - mean_squared_error: 3.5369e-04\n",
      "Epoch 62/100\n",
      "47/47 [==============================] - 1s 13ms/step - loss: 2.9950e-04 - mean_squared_error: 2.9950e-04\n",
      "Epoch 63/100\n",
      "47/47 [==============================] - 1s 15ms/step - loss: 2.9645e-04 - mean_squared_error: 2.9645e-04\n",
      "Epoch 64/100\n",
      "47/47 [==============================] - 1s 13ms/step - loss: 3.4478e-04 - mean_squared_error: 3.4478e-04\n",
      "Epoch 65/100\n",
      "47/47 [==============================] - 1s 13ms/step - loss: 3.3033e-04 - mean_squared_error: 3.3033e-04\n",
      "Epoch 66/100\n",
      "47/47 [==============================] - 1s 13ms/step - loss: 2.9264e-04 - mean_squared_error: 2.9264e-04\n",
      "Epoch 67/100\n",
      "47/47 [==============================] - 1s 14ms/step - loss: 3.6778e-04 - mean_squared_error: 3.6778e-04\n",
      "Epoch 68/100\n",
      "47/47 [==============================] - 1s 12ms/step - loss: 2.8928e-04 - mean_squared_error: 2.8928e-04\n",
      "Epoch 69/100\n",
      "47/47 [==============================] - 1s 12ms/step - loss: 3.0957e-04 - mean_squared_error: 3.0957e-04\n",
      "Epoch 70/100\n",
      "47/47 [==============================] - 1s 14ms/step - loss: 2.5312e-04 - mean_squared_error: 2.5312e-04\n",
      "Epoch 71/100\n",
      "47/47 [==============================] - 1s 14ms/step - loss: 2.6288e-04 - mean_squared_error: 2.6288e-04\n",
      "Epoch 72/100\n",
      "47/47 [==============================] - 1s 12ms/step - loss: 2.4655e-04 - mean_squared_error: 2.4655e-04\n",
      "Epoch 73/100\n",
      "47/47 [==============================] - 1s 13ms/step - loss: 2.8842e-04 - mean_squared_error: 2.8842e-04\n",
      "Epoch 74/100\n",
      "47/47 [==============================] - 1s 15ms/step - loss: 3.0531e-04 - mean_squared_error: 3.0531e-04\n",
      "Epoch 75/100\n",
      "47/47 [==============================] - 1s 13ms/step - loss: 2.5940e-04 - mean_squared_error: 2.5940e-04\n",
      "Epoch 76/100\n",
      "47/47 [==============================] - 1s 13ms/step - loss: 2.7066e-04 - mean_squared_error: 2.7066e-04\n",
      "Epoch 77/100\n",
      "47/47 [==============================] - 1s 13ms/step - loss: 3.3204e-04 - mean_squared_error: 3.3204e-04\n",
      "Epoch 78/100\n",
      "47/47 [==============================] - 1s 14ms/step - loss: 3.3361e-04 - mean_squared_error: 3.3361e-04\n",
      "Epoch 79/100\n",
      "47/47 [==============================] - 1s 13ms/step - loss: 2.7097e-04 - mean_squared_error: 2.7097e-04\n",
      "Epoch 80/100\n",
      "47/47 [==============================] - 1s 13ms/step - loss: 2.2491e-04 - mean_squared_error: 2.2491e-04\n",
      "Epoch 81/100\n",
      "47/47 [==============================] - 1s 15ms/step - loss: 2.3097e-04 - mean_squared_error: 2.3097e-04\n",
      "Epoch 82/100\n",
      "47/47 [==============================] - 1s 13ms/step - loss: 2.8706e-04 - mean_squared_error: 2.8706e-04\n",
      "Epoch 83/100\n",
      "47/47 [==============================] - 1s 13ms/step - loss: 3.1344e-04 - mean_squared_error: 3.1344e-04\n",
      "Epoch 84/100\n",
      "47/47 [==============================] - 1s 13ms/step - loss: 2.9895e-04 - mean_squared_error: 2.9895e-04\n",
      "Epoch 85/100\n",
      "47/47 [==============================] - 1s 14ms/step - loss: 2.4147e-04 - mean_squared_error: 2.4147e-04\n",
      "Epoch 86/100\n",
      "47/47 [==============================] - 1s 13ms/step - loss: 2.5296e-04 - mean_squared_error: 2.5296e-04\n",
      "Epoch 87/100\n",
      "47/47 [==============================] - 1s 13ms/step - loss: 2.4501e-04 - mean_squared_error: 2.4501e-04\n",
      "Epoch 88/100\n",
      "47/47 [==============================] - 1s 15ms/step - loss: 2.1759e-04 - mean_squared_error: 2.1759e-04\n",
      "Epoch 89/100\n",
      "47/47 [==============================] - 1s 13ms/step - loss: 2.0978e-04 - mean_squared_error: 2.0978e-04\n",
      "Epoch 90/100\n",
      "47/47 [==============================] - 1s 13ms/step - loss: 2.7205e-04 - mean_squared_error: 2.7205e-04\n",
      "Epoch 91/100\n",
      "47/47 [==============================] - 1s 13ms/step - loss: 2.6637e-04 - mean_squared_error: 2.6637e-04\n",
      "Epoch 92/100\n",
      "47/47 [==============================] - 1s 14ms/step - loss: 2.0480e-04 - mean_squared_error: 2.0480e-04\n",
      "Epoch 93/100\n",
      "47/47 [==============================] - 1s 13ms/step - loss: 2.1745e-04 - mean_squared_error: 2.1745e-04\n",
      "Epoch 94/100\n",
      "47/47 [==============================] - 1s 13ms/step - loss: 2.2776e-04 - mean_squared_error: 2.2776e-04\n",
      "Epoch 95/100\n",
      "47/47 [==============================] - 1s 14ms/step - loss: 2.2646e-04 - mean_squared_error: 2.2646e-04\n",
      "Epoch 96/100\n",
      "47/47 [==============================] - 1s 14ms/step - loss: 2.2976e-04 - mean_squared_error: 2.2976e-04\n",
      "Epoch 97/100\n",
      "47/47 [==============================] - 1s 13ms/step - loss: 1.9405e-04 - mean_squared_error: 1.9405e-04\n",
      "Epoch 98/100\n",
      "47/47 [==============================] - 1s 13ms/step - loss: 2.3153e-04 - mean_squared_error: 2.3153e-04\n",
      "Epoch 99/100\n",
      "47/47 [==============================] - 1s 14ms/step - loss: 2.3738e-04 - mean_squared_error: 2.3738e-04\n",
      "Epoch 100/100\n",
      "47/47 [==============================] - 1s 13ms/step - loss: 1.9393e-04 - mean_squared_error: 1.9393e-04\n"
     ]
    }
   ],
   "source": [
    "model.compile(loss= \"mean_squared_error\" , optimizer=\"adam\", metrics=[\"mean_squared_error\"])\n",
    "history = model.fit([norm_x, norm_x1, norm_x2], norm_y, epochs=100)"
   ]
  },
  {
   "cell_type": "code",
   "execution_count": 3,
   "metadata": {},
   "outputs": [
    {
     "name": "stdout",
     "output_type": "stream",
     "text": [
      "Model: \"sequential_1\"\n",
      "_________________________________________________________________\n",
      "Layer (type)                 Output Shape              Param #   \n",
      "=================================================================\n",
      "dense_5 (Dense)              (None, 512)               524800    \n",
      "_________________________________________________________________\n",
      "dense_6 (Dense)              (None, 256)               131328    \n",
      "_________________________________________________________________\n",
      "dense_7 (Dense)              (None, 128)               32896     \n",
      "_________________________________________________________________\n",
      "dense_8 (Dense)              (None, 64)                8256      \n",
      "_________________________________________________________________\n",
      "dense_9 (Dense)              (None, 4)                 260       \n",
      "=================================================================\n",
      "Total params: 697,540\n",
      "Trainable params: 697,540\n",
      "Non-trainable params: 0\n",
      "_________________________________________________________________\n"
     ]
    }
   ],
   "source": [
    "# Define model\n",
    "model = Sequential()\n",
    "model.add(Dense(512, input_dim=1024, activation= \"relu\"))\n",
    "model.add(Dense(256, activation= \"relu\"))\n",
    "model.add(Dense(128, activation= \"relu\"))\n",
    "model.add(Dense(64, activation= \"relu\"))\n",
    "model.add(Dense(4))\n",
    "model.summary() # Print model Summary"
   ]
  },
  {
   "cell_type": "code",
   "execution_count": 18,
   "metadata": {},
   "outputs": [
    {
     "name": "stdout",
     "output_type": "stream",
     "text": [
      "Epoch 1/15\n",
      "47/47 [==============================] - 0s 4ms/step - loss: 0.0331 - mean_squared_error: 0.0331\n",
      "Epoch 2/15\n",
      "47/47 [==============================] - 0s 4ms/step - loss: 0.0039 - mean_squared_error: 0.0039\n",
      "Epoch 3/15\n",
      "47/47 [==============================] - 0s 4ms/step - loss: 0.0022 - mean_squared_error: 0.0022\n",
      "Epoch 4/15\n",
      "47/47 [==============================] - 0s 4ms/step - loss: 0.0018 - mean_squared_error: 0.0018\n",
      "Epoch 5/15\n",
      "47/47 [==============================] - 0s 4ms/step - loss: 0.0016 - mean_squared_error: 0.0016\n",
      "Epoch 6/15\n",
      "47/47 [==============================] - 0s 4ms/step - loss: 0.0015 - mean_squared_error: 0.0015\n",
      "Epoch 7/15\n",
      "47/47 [==============================] - 0s 4ms/step - loss: 0.0014 - mean_squared_error: 0.0014\n",
      "Epoch 8/15\n",
      "47/47 [==============================] - 0s 4ms/step - loss: 0.0013 - mean_squared_error: 0.0013\n",
      "Epoch 9/15\n",
      "47/47 [==============================] - 0s 4ms/step - loss: 0.0013 - mean_squared_error: 0.0013\n",
      "Epoch 10/15\n",
      "47/47 [==============================] - 0s 4ms/step - loss: 0.0012 - mean_squared_error: 0.0012\n",
      "Epoch 11/15\n",
      "47/47 [==============================] - 0s 4ms/step - loss: 0.0012 - mean_squared_error: 0.0012\n",
      "Epoch 12/15\n",
      "47/47 [==============================] - 0s 4ms/step - loss: 0.0012 - mean_squared_error: 0.0012\n",
      "Epoch 13/15\n",
      "47/47 [==============================] - 0s 4ms/step - loss: 0.0011 - mean_squared_error: 0.0011\n",
      "Epoch 14/15\n",
      "47/47 [==============================] - 0s 4ms/step - loss: 0.0011 - mean_squared_error: 0.0011\n",
      "Epoch 15/15\n",
      "47/47 [==============================] - 0s 4ms/step - loss: 9.9514e-04 - mean_squared_error: 9.9514e-04\n"
     ]
    }
   ],
   "source": [
    "model.compile(loss= \"mean_squared_error\" , optimizer=\"adam\", metrics=[\"mean_squared_error\"])\n",
    "history = model.fit(norm_x, norm_y, epochs=15)"
   ]
  },
  {
   "cell_type": "code",
   "execution_count": 55,
   "metadata": {},
   "outputs": [],
   "source": [
    "model.save(\"D:/Project2022/Code/bbox_estimator_3Inputs.h5\")"
   ]
  },
  {
   "cell_type": "code",
   "execution_count": 2,
   "metadata": {},
   "outputs": [
    {
     "name": "stdout",
     "output_type": "stream",
     "text": [
      "Requirement already satisfied: h5py in c:\\users\\ranji\\anaconda3\\envs\\tf_gpu\\lib\\site-packages (3.7.0)\n",
      "Requirement already satisfied: numpy>=1.14.5 in c:\\users\\ranji\\anaconda3\\envs\\tf_gpu\\lib\\site-packages (from h5py) (1.23.4)\n",
      "Note: you may need to restart the kernel to use updated packages.\n"
     ]
    }
   ],
   "source": [
    "pip install h5py"
   ]
  },
  {
   "cell_type": "code",
   "execution_count": 2,
   "metadata": {},
   "outputs": [],
   "source": [
    "import keras\n",
    "model_name = \"bbox_estimator_3Inputs\"\n",
    "model = keras.models.load_model(\"D:/Project2022/Code/\"+model_name+\".h5\")"
   ]
  },
  {
   "cell_type": "code",
   "execution_count": 3,
   "metadata": {},
   "outputs": [
    {
     "name": "stdout",
     "output_type": "stream",
     "text": [
      "Model: \"model_23\"\n",
      "__________________________________________________________________________________________________\n",
      " Layer (type)                   Output Shape         Param #     Connected to                     \n",
      "==================================================================================================\n",
      " input_17 (InputLayer)          [(None, 512)]        0           []                               \n",
      "                                                                                                  \n",
      " input_18 (InputLayer)          [(None, 512)]        0           []                               \n",
      "                                                                                                  \n",
      " input_16 (InputLayer)          [(None, 1024)]       0           []                               \n",
      "                                                                                                  \n",
      " dense_69 (Dense)               (None, 512)          262656      ['input_17[0][0]']               \n",
      "                                                                                                  \n",
      " dense_73 (Dense)               (None, 512)          262656      ['input_18[0][0]']               \n",
      "                                                                                                  \n",
      " dense_66 (Dense)               (None, 256)          262400      ['input_16[0][0]']               \n",
      "                                                                                                  \n",
      " dense_70 (Dense)               (None, 256)          131328      ['dense_69[0][0]']               \n",
      "                                                                                                  \n",
      " dense_74 (Dense)               (None, 256)          131328      ['dense_73[0][0]']               \n",
      "                                                                                                  \n",
      " dense_67 (Dense)               (None, 128)          32896       ['dense_66[0][0]']               \n",
      "                                                                                                  \n",
      " dense_71 (Dense)               (None, 128)          32896       ['dense_70[0][0]']               \n",
      "                                                                                                  \n",
      " dense_75 (Dense)               (None, 128)          32896       ['dense_74[0][0]']               \n",
      "                                                                                                  \n",
      " dense_68 (Dense)               (None, 64)           8256        ['dense_67[0][0]']               \n",
      "                                                                                                  \n",
      " dense_72 (Dense)               (None, 64)           8256        ['dense_71[0][0]']               \n",
      "                                                                                                  \n",
      " dense_76 (Dense)               (None, 64)           8256        ['dense_75[0][0]']               \n",
      "                                                                                                  \n",
      " concatenate_5 (Concatenate)    (None, 192)          0           ['dense_68[0][0]',               \n",
      "                                                                  'dense_72[0][0]',               \n",
      "                                                                  'dense_76[0][0]']               \n",
      "                                                                                                  \n",
      " dense_77 (Dense)               (None, 100)          19300       ['concatenate_5[0][0]']          \n",
      "                                                                                                  \n",
      " dense_78 (Dense)               (None, 4)            404         ['dense_77[0][0]']               \n",
      "                                                                                                  \n",
      "==================================================================================================\n",
      "Total params: 1,193,528\n",
      "Trainable params: 1,193,528\n",
      "Non-trainable params: 0\n",
      "__________________________________________________________________________________________________\n"
     ]
    }
   ],
   "source": [
    "model.summary()"
   ]
  },
  {
   "cell_type": "code",
   "execution_count": 4,
   "metadata": {},
   "outputs": [
    {
     "data": {
      "image/png": "[encoded data removed]",
      "text/plain": [
       "<IPython.core.display.Image object>"
      ]
     },
     "execution_count": 4,
     "metadata": {},
     "output_type": "execute_result"
    }
   ],
   "source": [
    "from keras.utils.vis_utils import plot_model\n",
    "plot_model(model, to_file='model_plot.png', show_shapes=True, show_layer_names=True)"
   ]
  },
  {
   "cell_type": "code",
   "execution_count": 51,
   "metadata": {},
   "outputs": [
    {
     "name": "stdout",
     "output_type": "stream",
     "text": [
      "WARNING:tensorflow:AutoGraph could not transform <function Model.make_predict_function.<locals>.predict_function at 0x0000026BFFBE34C8> and will run it as-is.\n",
      "Please report this to the TensorFlow team. When filing the bug, set the verbosity to 10 (on Linux, `export AUTOGRAPH_VERBOSITY=10`) and attach the full output.\n",
      "Cause: 'arguments' object has no attribute 'posonlyargs'\n",
      "To silence this warning, decorate the function with @tf.autograph.experimental.do_not_convert\n",
      "WARNING: AutoGraph could not transform <function Model.make_predict_function.<locals>.predict_function at 0x0000026BFFBE34C8> and will run it as-is.\n",
      "Please report this to the TensorFlow team. When filing the bug, set the verbosity to 10 (on Linux, `export AUTOGRAPH_VERBOSITY=10`) and attach the full output.\n",
      "Cause: 'arguments' object has no attribute 'posonlyargs'\n",
      "To silence this warning, decorate the function with @tf.autograph.experimental.do_not_convert\n",
      "12/12 [==============================] - 0s 6ms/step\n"
     ]
    }
   ],
   "source": [
    "pred = model.predict([norm_x_test, norm_x1_test, norm_x2_test])"
   ]
  },
  {
   "cell_type": "code",
   "execution_count": 52,
   "metadata": {},
   "outputs": [],
   "source": [
    "# de normalize the coordinates\n",
    "y_actual = np.array(y_test)\n",
    "y_pred = pred*512"
   ]
  },
  {
   "cell_type": "code",
   "execution_count": 53,
   "metadata": {},
   "outputs": [
    {
     "name": "stdout",
     "output_type": "stream",
     "text": [
      "No of test samples: 374\n"
     ]
    }
   ],
   "source": [
    "print(\"No of test samples:\", len(y_pred))"
   ]
  },
  {
   "cell_type": "markdown",
   "metadata": {},
   "source": [
    "## plot the predicted co-ordinates on the test data"
   ]
  },
  {
   "cell_type": "code",
   "execution_count": 54,
   "metadata": {},
   "outputs": [
    {
     "data": {
      "application/json": {
       "ascii": false,
       "bar_format": null,
       "colour": null,
       "elapsed": 0.01998138427734375,
       "initial": 0,
       "n": 0,
       "ncols": null,
       "nrows": null,
       "postfix": null,
       "prefix": "",
       "rate": null,
       "total": 374,
       "unit": "it",
       "unit_divisor": 1000,
       "unit_scale": false
      },
      "application/vnd.jupyter.widget-view+json": {
       "model_id": "45482806fe4e4e179dbd399f91b03ad1",
       "version_major": 2,
       "version_minor": 0
      },
      "text/plain": [
       "  0%|          | 0/374 [00:00<?, ?it/s]"
      ]
     },
     "metadata": {},
     "output_type": "display_data"
    }
   ],
   "source": [
    "#path = \"D:/Project2022/res/Datasets/mask/test_3inputs\"\n",
    "test_samples = data_reshape(X_test[\"raw data\"])\n",
    "no = 1\n",
    "for img_array, tcoor, coor  in zip(test_samples, y_actual, y_pred):\n",
    "    file = \"sample\"+str(no)+\".png\"\n",
    "    #plt.imshow(img_array, cmap=\"gray\")\n",
    "    #plt.show()\n",
    "    #print(coor)\n",
    "\n",
    "    cv2.putText(img_array, 'true', (int(tcoor[0]), int(tcoor[1])), cv2.FONT_HERSHEY_SIMPLEX, 0.9, (36,255,12), 2)\n",
    "    cv2.rectangle(img_array, \n",
    "        (int(tcoor[0]), int(tcoor[1])), \n",
    "        (int(tcoor[2]), int(tcoor[3])),\n",
    "        color=(36, 255, 12), \n",
    "        thickness=3)\n",
    "\n",
    "    \n",
    "    cv2.putText(img_array, 'pred', (int(coor[0]), int(coor[1])), cv2.FONT_HERSHEY_SIMPLEX, 0.9, (255,0,0), 1)\n",
    "    cv2.rectangle(img_array, \n",
    "        (int(coor[0]), int(coor[1])), \n",
    "        (int(coor[2]), int(coor[3])),\n",
    "        color=(255, 0, 0), \n",
    "        thickness=1)\n",
    "    \n",
    "\n",
    "    cv2.imwrite(\"D:/Project2022/Code/mask_keras/\"+file,img_array)\n",
    "    no += 1\n",
    "    "
   ]
  },
  {
   "cell_type": "markdown",
   "metadata": {},
   "source": [
    "# Testing on large dataset"
   ]
  },
  {
   "cell_type": "code",
   "execution_count": 6,
   "metadata": {},
   "outputs": [],
   "source": [
    "# Load the model\n",
    "from keras.models import load_model\n",
    "model = load_model('D:/Project2022/Code/bbox_estimator.h5')"
   ]
  },
  {
   "cell_type": "code",
   "execution_count": 56,
   "metadata": {},
   "outputs": [],
   "source": [
    "# returns an image and bb coordinates\n",
    "def img_to_arr(img_array ):\n",
    "    coordinates = []\n",
    "    row = img_array.sum(axis=0)\n",
    "    coloumn = img_array.sum(axis=1)\n",
    "\n",
    "    #concat rows and coloumn\n",
    "    concat_data = np.concatenate((row, coloumn))\n",
    "\n",
    "    return concat_data, row, coloumn"
   ]
  },
  {
   "cell_type": "code",
   "execution_count": 57,
   "metadata": {},
   "outputs": [
    {
     "data": {
      "application/json": {
       "ascii": false,
       "bar_format": null,
       "colour": null,
       "elapsed": 0.022068500518798828,
       "initial": 0,
       "n": 0,
       "ncols": null,
       "nrows": null,
       "postfix": null,
       "prefix": "",
       "rate": null,
       "total": 6893,
       "unit": "it",
       "unit_divisor": 1000,
       "unit_scale": false
      },
      "application/vnd.jupyter.widget-view+json": {
       "model_id": "0c892242e63749409d9330379461adb2",
       "version_major": 2,
       "version_minor": 0
      },
      "text/plain": [
       "  0%|          | 0/6893 [00:00<?, ?it/s]"
      ]
     },
     "metadata": {},
     "output_type": "display_data"
    }
   ],
   "source": [
    "dataset_path = \"D:/Project2022/res/final dataset/original/normal\"\n",
    "raw_data = []\n",
    "concat_data =[]\n",
    "row_sum = []\n",
    "coloumn_sum = []\n",
    "\n",
    "for img in tqdm(os.listdir(dataset_path)):\n",
    "    #print(img)\n",
    "\n",
    "    img_array = cv2.imread(os.path.join(dataset_path,img), cv2.IMREAD_GRAYSCALE)\n",
    "    img_array = cv2.resize(img_array, (512,512), interpolation= cv2.INTER_LINEAR)\n",
    "\n",
    "    data, row, coloumn  = img_to_arr(img_array)\n",
    "    #data, label = getBbox(img_array, x, y, med_width, med_height)\n",
    "\n",
    "    raw_data.append(img_array)\n",
    "    concat_data.append(data)\n",
    "    row_sum.append(row)\n",
    "    coloumn_sum.append(coloumn)\n",
    "    "
   ]
  },
  {
   "cell_type": "code",
   "execution_count": 58,
   "metadata": {},
   "outputs": [
    {
     "data": {
      "application/json": {
       "ascii": false,
       "bar_format": null,
       "colour": null,
       "elapsed": 0.02009129524230957,
       "initial": 0,
       "n": 0,
       "ncols": null,
       "nrows": null,
       "postfix": null,
       "prefix": "",
       "rate": null,
       "total": 6893,
       "unit": "it",
       "unit_divisor": 1000,
       "unit_scale": false
      },
      "application/vnd.jupyter.widget-view+json": {
       "model_id": "b75c9cd3318d4edd899ef93240d73b57",
       "version_major": 2,
       "version_minor": 0
      },
      "text/plain": [
       "  0%|          | 0/6893 [00:00<?, ?it/s]"
      ]
     },
     "metadata": {},
     "output_type": "display_data"
    },
    {
     "data": {
      "application/json": {
       "ascii": false,
       "bar_format": null,
       "colour": null,
       "elapsed": 0.019931316375732422,
       "initial": 0,
       "n": 0,
       "ncols": null,
       "nrows": null,
       "postfix": null,
       "prefix": "",
       "rate": null,
       "total": 6893,
       "unit": "it",
       "unit_divisor": 1000,
       "unit_scale": false
      },
      "application/vnd.jupyter.widget-view+json": {
       "model_id": "ae43ae3f2bf044f5a7ceeed5138234c0",
       "version_major": 2,
       "version_minor": 0
      },
      "text/plain": [
       "  0%|          | 0/6893 [00:00<?, ?it/s]"
      ]
     },
     "metadata": {},
     "output_type": "display_data"
    },
    {
     "data": {
      "application/json": {
       "ascii": false,
       "bar_format": null,
       "colour": null,
       "elapsed": 0.019008398056030273,
       "initial": 0,
       "n": 0,
       "ncols": null,
       "nrows": null,
       "postfix": null,
       "prefix": "",
       "rate": null,
       "total": 6893,
       "unit": "it",
       "unit_divisor": 1000,
       "unit_scale": false
      },
      "application/vnd.jupyter.widget-view+json": {
       "model_id": "0850eabaa15a4ef7bf0d4902ef9ecc80",
       "version_major": 2,
       "version_minor": 0
      },
      "text/plain": [
       "  0%|          | 0/6893 [00:00<?, ?it/s]"
      ]
     },
     "metadata": {},
     "output_type": "display_data"
    }
   ],
   "source": [
    "#normalize the train data\n",
    "from sklearn import preprocessing\n",
    "x_large = preprocessing.normalize(data_reshape(concat_data))\n",
    "x1_large = preprocessing.normalize(data_reshape(row_sum))\n",
    "x2_large = preprocessing.normalize(data_reshape(coloumn_sum))\n"
   ]
  },
  {
   "cell_type": "code",
   "execution_count": 59,
   "metadata": {},
   "outputs": [
    {
     "name": "stdout",
     "output_type": "stream",
     "text": [
      "216/216 [==============================] - 1s 5ms/step\n"
     ]
    }
   ],
   "source": [
    "pred_bbox_large = model.predict([x_large, x1_large, x2_large])\n",
    "\n",
    "#de-normalize\n",
    "pred_bbox_large = pred_bbox_large*512"
   ]
  },
  {
   "cell_type": "code",
   "execution_count": 60,
   "metadata": {},
   "outputs": [
    {
     "name": "stdout",
     "output_type": "stream",
     "text": [
      "BBox shape: (6893, 4)\n"
     ]
    }
   ],
   "source": [
    "print(\"BBox shape:\",pred_bbox_large.shape)\n"
   ]
  },
  {
   "cell_type": "markdown",
   "metadata": {},
   "source": [
    "# plot un-scaled predicted bboxes"
   ]
  },
  {
   "cell_type": "code",
   "execution_count": 61,
   "metadata": {},
   "outputs": [
    {
     "data": {
      "application/json": {
       "ascii": false,
       "bar_format": null,
       "colour": null,
       "elapsed": 0.021212100982666016,
       "initial": 0,
       "n": 0,
       "ncols": null,
       "nrows": null,
       "postfix": null,
       "prefix": "",
       "rate": null,
       "total": 6893,
       "unit": "it",
       "unit_divisor": 1000,
       "unit_scale": false
      },
      "application/vnd.jupyter.widget-view+json": {
       "model_id": "f22876c699174d6894a95bfaf196e03f",
       "version_major": 2,
       "version_minor": 0
      },
      "text/plain": [
       "  0%|          | 0/6893 [00:00<?, ?it/s]"
      ]
     },
     "metadata": {},
     "output_type": "display_data"
    },
    {
     "data": {
      "application/json": {
       "ascii": false,
       "bar_format": null,
       "colour": null,
       "elapsed": 0.021062135696411133,
       "initial": 0,
       "n": 0,
       "ncols": null,
       "nrows": null,
       "postfix": null,
       "prefix": "",
       "rate": null,
       "total": 6893,
       "unit": "it",
       "unit_divisor": 1000,
       "unit_scale": false
      },
      "application/vnd.jupyter.widget-view+json": {
       "model_id": "779807e7b39a470cbbc11cf31253ebd3",
       "version_major": 2,
       "version_minor": 0
      },
      "text/plain": [
       "  0%|          | 0/6893 [00:00<?, ?it/s]"
      ]
     },
     "metadata": {},
     "output_type": "display_data"
    }
   ],
   "source": [
    "samples = data_reshape(raw_data)\n",
    "no = 1\n",
    "for img_array, coor  in tqdm(zip(samples, pred_bbox_large), total = len(raw_data)):\n",
    "    file = \"sample\"+str(no)+\".png\"\n",
    "    #plt.imshow(img_array, cmap=\"gray\")\n",
    "    #plt.show()\n",
    "    #print(coor)\n",
    "    \n",
    "    cv2.putText(img_array, 'pred', (int(coor[0]), int(coor[1])), cv2.FONT_HERSHEY_SIMPLEX, 0.9, (255,0,0), 1)\n",
    "    cv2.rectangle(img_array, \n",
    "        (int(coor[0]), int(coor[1])), \n",
    "        (int(coor[2]), int(coor[3])),\n",
    "        color=(255, 0, 0), \n",
    "        thickness=1)\n",
    "    \n",
    "\n",
    "    cv2.imwrite(\"D:/Project2022/Code/predicted_bbox/unscaled/\"+file,img_array)\n",
    "    no += 1"
   ]
  },
  {
   "cell_type": "markdown",
   "metadata": {},
   "source": [
    "# find the median bbox"
   ]
  },
  {
   "cell_type": "code",
   "execution_count": 62,
   "metadata": {},
   "outputs": [
    {
     "data": {
      "application/json": {
       "ascii": false,
       "bar_format": null,
       "colour": null,
       "elapsed": 0.020234346389770508,
       "initial": 0,
       "n": 0,
       "ncols": null,
       "nrows": null,
       "postfix": null,
       "prefix": "",
       "rate": null,
       "total": 6893,
       "unit": "it",
       "unit_divisor": 1000,
       "unit_scale": false
      },
      "application/vnd.jupyter.widget-view+json": {
       "model_id": "c0b04918e39941438e0706b7387495c8",
       "version_major": 2,
       "version_minor": 0
      },
      "text/plain": [
       "  0%|          | 0/6893 [00:00<?, ?it/s]"
      ]
     },
     "metadata": {},
     "output_type": "display_data"
    },
    {
     "name": "stdout",
     "output_type": "stream",
     "text": [
      "median_width: 375.13644\n",
      "median_height: 274.2811\n"
     ]
    }
   ],
   "source": [
    "median_width = []\n",
    "median_height = []\n",
    "for bbox in tqdm(pred_bbox_large):\n",
    "    median_width.append(bbox[2] - bbox[0])\n",
    "    median_height.append(bbox[3] - bbox[1])\n",
    "\n",
    "\n",
    "med_width = np.median(median_width)\n",
    "med_height = np.median(median_height)\n",
    "\n",
    "\n",
    "print(\"median_width:\", med_width)\n",
    "print(\"median_height:\", med_height)\n",
    "    \n",
    "\n"
   ]
  },
  {
   "cell_type": "code",
   "execution_count": 63,
   "metadata": {},
   "outputs": [],
   "source": [
    "\n",
    "\n",
    "def scale_bbox(pred_bbox):\n",
    "\n",
    "    coordinates = []\n",
    "    mid_x = (pred_bbox[0]+pred_bbox[2])/2\n",
    "    mid_y = (pred_bbox[1]+pred_bbox[3])/2\n",
    "\n",
    "    width = pred_bbox[2] - pred_bbox[0]\n",
    "    height = pred_bbox[3] - pred_bbox[1]\n",
    "\n",
    "    #print(\"med_width\", med_width)\n",
    "    #print(\"med_height\", med_height)\n",
    "\n",
    "    #print(\"width\",width)\n",
    "    #print(\"height\",height)\n",
    "    #width_diff = med_width - width\n",
    "    #height_diff = med_height - height\n",
    "\n",
    "    vert_scale = width/med_width\n",
    "    horzi_scale = height/med_height\n",
    "\n",
    "    #vert_scale = med_width/width\n",
    "    #horzi_scale = med_height/height\n",
    "\n",
    "    scale_factor = max(vert_scale,horzi_scale)\n",
    "\n",
    "\n",
    "    #print(\"width_diff\",vert_scale)\n",
    "    #print(\"height_diff\",horzi_scale)\n",
    "\n",
    "    #scale_factor = width_diff / height_diff\n",
    "    \n",
    "\n",
    "    #print(\"scale_factor\",scale_factor)\n",
    "\n",
    "    scaled_width = med_width * scale_factor\n",
    "    scaled_height = med_height * scale_factor\n",
    "\n",
    "    #print(\"scaled_width\", scaled_width)\n",
    "    #print(\"scaled_height\", scaled_height)\n",
    "\n",
    "\n",
    "    x1 = mid_x - (scaled_width/2)\n",
    "    y1 = mid_y - (scaled_height/2)\n",
    "\n",
    "    x2 = mid_x + (scaled_width/2) \n",
    "    y2 = mid_y + (scaled_height/2)\n",
    "\n",
    "\n",
    "    if(x1<0):\n",
    "        x1 = 0\n",
    "    \n",
    "    if(y1<0):\n",
    "        y1 = 0\n",
    "\n",
    "    if(x2>512):\n",
    "        x2 = 512\n",
    "\n",
    "    if(y2>512):\n",
    "        y2 = 512\n",
    "\n",
    "    coordinates.append(x1)\n",
    "    coordinates.append(y1)\n",
    "    coordinates.append(x2)\n",
    "    coordinates.append(y2)\n",
    "    return coordinates\n",
    "\n"
   ]
  },
  {
   "cell_type": "markdown",
   "metadata": {},
   "source": [
    "# plot scaled predicted bboxes"
   ]
  },
  {
   "cell_type": "code",
   "execution_count": 64,
   "metadata": {},
   "outputs": [
    {
     "data": {
      "application/json": {
       "ascii": false,
       "bar_format": null,
       "colour": null,
       "elapsed": 0.020076990127563477,
       "initial": 0,
       "n": 0,
       "ncols": null,
       "nrows": null,
       "postfix": null,
       "prefix": "",
       "rate": null,
       "total": 6893,
       "unit": "it",
       "unit_divisor": 1000,
       "unit_scale": false
      },
      "application/vnd.jupyter.widget-view+json": {
       "model_id": "99bdf8ce886e433ba3c7f380c60f1e5a",
       "version_major": 2,
       "version_minor": 0
      },
      "text/plain": [
       "  0%|          | 0/6893 [00:00<?, ?it/s]"
      ]
     },
     "metadata": {},
     "output_type": "display_data"
    },
    {
     "data": {
      "application/json": {
       "ascii": false,
       "bar_format": null,
       "colour": null,
       "elapsed": 0.020041227340698242,
       "initial": 0,
       "n": 0,
       "ncols": null,
       "nrows": null,
       "postfix": null,
       "prefix": "",
       "rate": null,
       "total": 6893,
       "unit": "it",
       "unit_divisor": 1000,
       "unit_scale": false
      },
      "application/vnd.jupyter.widget-view+json": {
       "model_id": "d76c842916bf4c35affccc857c83a79f",
       "version_major": 2,
       "version_minor": 0
      },
      "text/plain": [
       "  0%|          | 0/6893 [00:00<?, ?it/s]"
      ]
     },
     "metadata": {},
     "output_type": "display_data"
    }
   ],
   "source": [
    "samples = data_reshape(raw_data)\n",
    "no = 1\n",
    "for img_array, pred_bbox  in tqdm(zip(samples, pred_bbox_large), total = len(raw_data)):\n",
    "    file = \"sample\"+str(no)+\".png\"\n",
    "    #plt.imshow(img_array, cmap=\"gray\")\n",
    "    #plt.show()\n",
    "    #print(coor)\n",
    "\n",
    "\n",
    "    cv2.putText(img_array, 'predicted', (int(pred_bbox[2]-100), int(pred_bbox[3])), cv2.FONT_HERSHEY_SIMPLEX, 0.9, (255,0,0), 2)\n",
    "    cv2.rectangle(img_array, \n",
    "        (int(pred_bbox[0]), int(pred_bbox[1])), \n",
    "        (int(pred_bbox[2]), int(pred_bbox[3])),\n",
    "        color=(255, 0, 0), \n",
    "        thickness=2)\n",
    "\n",
    "\n",
    "    coor = scale_bbox(pred_bbox)\n",
    "    \n",
    "    cv2.putText(img_array, 'Scaled', (int(coor[0]), int(coor[1])), cv2.FONT_HERSHEY_SIMPLEX, 0.9, (255,0,0), 1)\n",
    "    cv2.rectangle(img_array, \n",
    "        (int(coor[0]), int(coor[1])), \n",
    "        (int(coor[2]), int(coor[3])),\n",
    "        color=(255, 0, 0), \n",
    "        thickness=1)\n",
    "    \n",
    "\n",
    "    cv2.imwrite(\"D:/Project2022/Code/predicted_bbox/scaled/\"+file,img_array)\n",
    "    no += 1"
   ]
  },
  {
   "cell_type": "code",
   "execution_count": 12,
   "metadata": {},
   "outputs": [
    {
     "data": {
      "application/vnd.jupyter.widget-view+json": {
       "model_id": "841d8616020f42ffb4f1c129bbabf04b",
       "version_major": 2,
       "version_minor": 0
      },
      "text/plain": [
       "HBox(children=(HTML(value=''), FloatProgress(value=0.0, max=6893.0), HTML(value='')))"
      ]
     },
     "metadata": {},
     "output_type": "display_data"
    },
    {
     "name": "stdout",
     "output_type": "stream",
     "text": [
      "\n"
     ]
    }
   ],
   "source": [
    "samples = data_reshape(raw_data)"
   ]
  },
  {
   "cell_type": "markdown",
   "metadata": {},
   "source": [
    "## crop images w.r.t predicted BBox"
   ]
  },
  {
   "cell_type": "code",
   "execution_count": 28,
   "metadata": {},
   "outputs": [
    {
     "data": {
      "application/vnd.jupyter.widget-view+json": {
       "model_id": "954d1f6e83774119881375548a8a58fe",
       "version_major": 2,
       "version_minor": 0
      },
      "text/plain": [
       "HBox(children=(HTML(value=''), FloatProgress(value=0.0, max=6893.0), HTML(value='')))"
      ]
     },
     "metadata": {},
     "output_type": "display_data"
    },
    {
     "name": "stdout",
     "output_type": "stream",
     "text": [
      "\n"
     ]
    }
   ],
   "source": [
    "scaledBbox = [] \n",
    "no = 1\n",
    "for img_array, pred_bbox in tqdm(zip(samples, pred_bbox_large), total=(len(samples))):\n",
    "    file = \"sample_normal\"+str(no)+\".png\"\n",
    "    \n",
    "    #predicted bbox\n",
    "    #bbox = [int(pred_bbox[0]), int(pred_bbox[1]), int(pred_bbox[2]), int(pred_bbox[3])]\n",
    "\n",
    "    #scaled bbox\n",
    "    coor = scale_bbox(pred_bbox)\n",
    "    bbox = [int(coor[0]), int(coor[1]), int(coor[2]), int(coor[3])]\n",
    "    #scaledBbox.append(bbox)\n",
    "\n",
    "    #plt.figure(figsize=(8, 6), dpi=80)\n",
    "    '''cv2.rectangle(img_array, \n",
    "        (bbox[0], bbox[1]), \n",
    "        (bbox[2], bbox[3]),\n",
    "        color=(255, 0, 0), \n",
    "        thickness=2)'''\n",
    "    \n",
    "    #[y1,y2    x1,x2]\n",
    "    cropped_image = img_array[ bbox[1]:bbox[3], bbox[0]:bbox[2]]\n",
    "\n",
    "    cv2.imwrite(\"D:/Project2022/res/final dataset/scaled/normal/\"+file,cropped_image)\n",
    "    no += 1\n",
    "\n",
    "    #plt.imshow(cropped_image, cmap=\"gray\")\n",
    "    #print(bbox)\n",
    "    \n",
    "    "
   ]
  },
  {
   "cell_type": "code",
   "execution_count": 53,
   "metadata": {},
   "outputs": [],
   "source": [
    "def find_median(pred_bbox_large):\n",
    "    median_width = []\n",
    "    median_height = []\n",
    "    for bbox in tqdm(pred_bbox_large):\n",
    "        median_width.append(bbox[2] - bbox[0])\n",
    "        median_height.append(bbox[3] - bbox[1])\n",
    "\n",
    "\n",
    "    med_width = int(np.median(median_width))\n",
    "    med_height = int(np.median(median_height))\n",
    "    return med_width, med_height\n",
    "\n",
    "\n"
   ]
  },
  {
   "cell_type": "code",
   "execution_count": 22,
   "metadata": {},
   "outputs": [],
   "source": [
    "width_resize =  int(367)\n",
    "height_resize = int(252)"
   ]
  },
  {
   "cell_type": "code",
   "execution_count": 54,
   "metadata": {},
   "outputs": [
    {
     "data": {
      "application/vnd.jupyter.widget-view+json": {
       "model_id": "ccb6bee507564ad488277d676c8616ef",
       "version_major": 2,
       "version_minor": 0
      },
      "text/plain": [
       "HBox(children=(HTML(value=''), FloatProgress(value=0.0, max=7149.0), HTML(value='')))"
      ]
     },
     "metadata": {},
     "output_type": "display_data"
    },
    {
     "name": "stdout",
     "output_type": "stream",
     "text": [
      "\n",
      "scaled median_width: 367\n",
      "scaled median_height: 252\n"
     ]
    }
   ],
   "source": [
    "width_resize, height_resize = find_median(scaledBbox)\n",
    "print(\"scaled median_width:\", width_resize)\n",
    "print(\"scaled median_height:\", height_resize)"
   ]
  },
  {
   "cell_type": "markdown",
   "metadata": {},
   "source": [
    "### Resize the scaled images to a median width and height"
   ]
  },
  {
   "cell_type": "code",
   "execution_count": 26,
   "metadata": {},
   "outputs": [
    {
     "data": {
      "application/vnd.jupyter.widget-view+json": {
       "model_id": "fb7590ed127d46a9ba7d471285c14dd3",
       "version_major": 2,
       "version_minor": 0
      },
      "text/plain": [
       "HBox(children=(HTML(value=''), FloatProgress(value=0.0, max=6893.0), HTML(value='')))"
      ]
     },
     "metadata": {},
     "output_type": "display_data"
    },
    {
     "name": "stdout",
     "output_type": "stream",
     "text": [
      "\n"
     ]
    }
   ],
   "source": [
    "dim = (width_resize, height_resize)\n",
    "no = 1\n",
    "for img_array, pred_bbox in tqdm(zip(samples, pred_bbox_large), total=(len(samples))):\n",
    "    file = \"sample_normal_\"+str(no)+\".png\"\n",
    "\n",
    "\n",
    "    #scaled bbox\n",
    "    coor = scale_bbox(pred_bbox)\n",
    "    bbox = [int(coor[0]), int(coor[1]), int(coor[2]), int(coor[3])]\n",
    "\n",
    "\n",
    "    #plt.figure(figsize=(8, 6), dpi=80)\n",
    "    '''cv2.rectangle(img_array, \n",
    "        (bbox[0], bbox[1]), \n",
    "        (bbox[2], bbox[3]),\n",
    "        color=(255, 0, 0), \n",
    "        thickness=2)'''\n",
    "    \n",
    "    #[y1,y2    x1,x2]\n",
    "    cropped_image = img_array[ bbox[1]:bbox[3], bbox[0]:bbox[2]]\n",
    "\n",
    "    resized_cropped_image = cv2.resize(cropped_image, dim, interpolation= cv2.INTER_LINEAR)\n",
    "\n",
    "\n",
    "\n",
    "    cv2.imwrite(\"D:/Project2022/res/final dataset/scaled_resized/normal/\"+file,resized_cropped_image)\n",
    "    no += 1\n",
    "\n",
    "    #plt.imshow(resized_cropped_image, cmap=\"gray\")\n",
    "    #print(bbox)\n",
    "    \n",
    "    \n",
    "    \n",
    "\n"
   ]
  }
 ],
 "metadata": {
  "kernelspec": {
   "display_name": "Python 3.9.13 ('tf_gpu')",
   "language": "python",
   "name": "python3"
  },
  "language_info": {
   "codemirror_mode": {
    "name": "ipython",
    "version": 3
   },
   "file_extension": ".py",
   "mimetype": "text/x-python",
   "name": "python",
   "nbconvert_exporter": "python",
   "pygments_lexer": "ipython3",
   "version": "3.9.13"
  },
  "orig_nbformat": 4,
  "vscode": {
   "interpreter": {
    "hash": "fe5100db488c6dee4f6d80c262766070d3a2c928954ee439beef6560db0c40bf"
   }
  }
 },
 "nbformat": 4,
 "nbformat_minor": 2
}
