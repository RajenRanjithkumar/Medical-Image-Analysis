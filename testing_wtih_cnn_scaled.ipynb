{
 "cells": [
  {
   "cell_type": "code",
   "execution_count": 2,
   "metadata": {},
   "outputs": [],
   "source": [
    "#mask\n",
    "import json\n",
    "import cv2\n",
    "import os\n",
    "import pandas as pd \n",
    "import matplotlib.pyplot as plt\n",
    "from tqdm.notebook import tqdm\n",
    "import numpy as np\n",
    "\n",
    "import tensorflow as tf\n",
    "from sklearn.model_selection import train_test_split\n",
    "from tensorflow.keras import datasets, layers, models\n",
    "from keras.models import Sequential\n",
    "from keras.layers import Dense\n",
    "from keras.layers import Flatten \n",
    "from keras.layers import Dropout\n",
    "from keras.layers.convolutional import Conv1D\n",
    "from keras.layers.convolutional import MaxPooling1D\n",
    "from keras.utils import to_categorical\n",
    "import xml.etree.ElementTree as ET\n",
    "from tensorflow.keras.callbacks import TensorBoard\n",
    "import time"
   ]
  },
  {
   "cell_type": "code",
   "execution_count": 6,
   "metadata": {},
   "outputs": [],
   "source": [
    "CATEGORIES = [\"covid\", \"normal\"]"
   ]
  },
  {
   "cell_type": "code",
   "execution_count": 3,
   "metadata": {},
   "outputs": [],
   "source": [
    "dataset_path = \"D:/Project2022/res/final dataset/scaled_resized/\""
   ]
  },
  {
   "cell_type": "code",
   "execution_count": 4,
   "metadata": {},
   "outputs": [
    {
     "data": {
      "text/plain": [
       "'\\n0 - covid\\n1 - non covid\\n\\n'"
      ]
     },
     "execution_count": 4,
     "metadata": {},
     "output_type": "execute_result"
    }
   ],
   "source": [
    "#Label\n",
    "'''\n",
    "0 - covid\n",
    "1 - non covid\n",
    "\n",
    "'''"
   ]
  },
  {
   "cell_type": "code",
   "execution_count": 4,
   "metadata": {},
   "outputs": [],
   "source": [
    "def pre_process_dataset(dataset_path):\n",
    "\n",
    "    df_data = pd.DataFrame()\n",
    "    raw_image = []\n",
    "    concat_data = []\n",
    "    label = []\n",
    "\n",
    "    for categoty in CATEGORIES:\n",
    "        path = os.path.join(dataset_path, categoty)  \n",
    "        \n",
    "        class_num = CATEGORIES.index(categoty)\n",
    "        \n",
    "\n",
    "        print(\"Loading dataset: class\",categoty)\n",
    "        for img in tqdm(os.listdir(path)):\n",
    "            try:\n",
    "                img_array = cv2.imread(os.path.join(path,img), cv2.IMREAD_GRAYSCALE)\n",
    "                #img_array = cv2.resize(img_array, (512,512), interpolation= cv2.INTER_LINEAR)\n",
    "                row = img_array.sum(axis=0)\n",
    "                coloumn = img_array.sum(axis=1)\n",
    "                concat = np.concatenate((row, coloumn))\n",
    "                raw_image.append(img_array)\n",
    "                concat_data.append(concat)\n",
    "                label.append(class_num)\n",
    "                \n",
    "            except Exception as e:\n",
    "                pass\n",
    "    \n",
    "    df_data[\"raw data\"] = raw_image\n",
    "    df_data[\"concat data\"] = concat_data\n",
    "    df_data[\"label\"] = label\n",
    "    \n",
    "\n",
    "    return df_data"
   ]
  },
  {
   "cell_type": "code",
   "execution_count": 7,
   "metadata": {},
   "outputs": [
    {
     "name": "stdout",
     "output_type": "stream",
     "text": [
      "Loading dataset: class covid\n"
     ]
    },
    {
     "data": {
      "application/json": {
       "ascii": false,
       "bar_format": null,
       "colour": null,
       "elapsed": 0.023499011993408203,
       "initial": 0,
       "n": 0,
       "ncols": null,
       "nrows": null,
       "postfix": null,
       "prefix": "",
       "rate": null,
       "total": 7149,
       "unit": "it",
       "unit_divisor": 1000,
       "unit_scale": false
      },
      "application/vnd.jupyter.widget-view+json": {
       "model_id": "fc4b7a3a92b14badb8a508914209b1e3",
       "version_major": 2,
       "version_minor": 0
      },
      "text/plain": [
       "  0%|          | 0/7149 [00:00<?, ?it/s]"
      ]
     },
     "metadata": {},
     "output_type": "display_data"
    },
    {
     "name": "stdout",
     "output_type": "stream",
     "text": [
      "Loading dataset: class normal\n"
     ]
    },
    {
     "data": {
      "application/json": {
       "ascii": false,
       "bar_format": null,
       "colour": null,
       "elapsed": 0.020528078079223633,
       "initial": 0,
       "n": 0,
       "ncols": null,
       "nrows": null,
       "postfix": null,
       "prefix": "",
       "rate": null,
       "total": 6893,
       "unit": "it",
       "unit_divisor": 1000,
       "unit_scale": false
      },
      "application/vnd.jupyter.widget-view+json": {
       "model_id": "a5a66abae43e484ab7e9ee1a95db97bb",
       "version_major": 2,
       "version_minor": 0
      },
      "text/plain": [
       "  0%|          | 0/6893 [00:00<?, ?it/s]"
      ]
     },
     "metadata": {},
     "output_type": "display_data"
    }
   ],
   "source": [
    "dataset_df = pre_process_dataset(dataset_path)"
   ]
  },
  {
   "cell_type": "code",
   "execution_count": 8,
   "metadata": {},
   "outputs": [
    {
     "data": {
      "text/html": [
       "<div>\n",
       "<style scoped>\n",
       "    .dataframe tbody tr th:only-of-type {\n",
       "        vertical-align: middle;\n",
       "    }\n",
       "\n",
       "    .dataframe tbody tr th {\n",
       "        vertical-align: top;\n",
       "    }\n",
       "\n",
       "    .dataframe thead th {\n",
       "        text-align: right;\n",
       "    }\n",
       "</style>\n",
       "<table border=\"1\" class=\"dataframe\">\n",
       "  <thead>\n",
       "    <tr style=\"text-align: right;\">\n",
       "      <th></th>\n",
       "      <th>raw data</th>\n",
       "      <th>concat data</th>\n",
       "      <th>label</th>\n",
       "    </tr>\n",
       "  </thead>\n",
       "  <tbody>\n",
       "    <tr>\n",
       "      <th>0</th>\n",
       "      <td>[[196, 209, 216, 221, 194, 200, 221, 228, 230,...</td>\n",
       "      <td>[64117, 64122, 46372, 44770, 44689, 44683, 450...</td>\n",
       "      <td>0</td>\n",
       "    </tr>\n",
       "    <tr>\n",
       "      <th>1</th>\n",
       "      <td>[[236, 243, 245, 242, 236, 229, 227, 230, 233,...</td>\n",
       "      <td>[47767, 46841, 45907, 45465, 45243, 45002, 444...</td>\n",
       "      <td>0</td>\n",
       "    </tr>\n",
       "    <tr>\n",
       "      <th>2</th>\n",
       "      <td>[[81, 83, 82, 82, 82, 83, 84, 81, 81, 83, 84, ...</td>\n",
       "      <td>[20034, 19739, 19521, 19288, 19128, 19101, 191...</td>\n",
       "      <td>0</td>\n",
       "    </tr>\n",
       "    <tr>\n",
       "      <th>3</th>\n",
       "      <td>[[71, 74, 70, 72, 78, 83, 87, 86, 82, 83, 81, ...</td>\n",
       "      <td>[15349, 15287, 15226, 15048, 14799, 14584, 144...</td>\n",
       "      <td>0</td>\n",
       "    </tr>\n",
       "    <tr>\n",
       "      <th>4</th>\n",
       "      <td>[[74, 76, 73, 69, 72, 80, 87, 87, 82, 85, 79, ...</td>\n",
       "      <td>[15874, 15967, 15938, 15690, 15474, 15306, 149...</td>\n",
       "      <td>0</td>\n",
       "    </tr>\n",
       "    <tr>\n",
       "      <th>...</th>\n",
       "      <td>...</td>\n",
       "      <td>...</td>\n",
       "      <td>...</td>\n",
       "    </tr>\n",
       "    <tr>\n",
       "      <th>14036</th>\n",
       "      <td>[[88, 87, 85, 86, 86, 87, 88, 88, 87, 85, 83, ...</td>\n",
       "      <td>[38567, 39129, 39188, 39114, 39090, 39007, 389...</td>\n",
       "      <td>1</td>\n",
       "    </tr>\n",
       "    <tr>\n",
       "      <th>14037</th>\n",
       "      <td>[[80, 79, 79, 79, 79, 78, 77, 75, 78, 97, 122,...</td>\n",
       "      <td>[38563, 38293, 38269, 38189, 38029, 38008, 382...</td>\n",
       "      <td>1</td>\n",
       "    </tr>\n",
       "    <tr>\n",
       "      <th>14038</th>\n",
       "      <td>[[80, 80, 80, 79, 83, 92, 111, 137, 149, 150, ...</td>\n",
       "      <td>[39322, 39490, 39725, 39836, 39948, 39907, 395...</td>\n",
       "      <td>1</td>\n",
       "    </tr>\n",
       "    <tr>\n",
       "      <th>14039</th>\n",
       "      <td>[[79, 79, 81, 83, 94, 115, 134, 144, 146, 145,...</td>\n",
       "      <td>[38678, 39258, 39755, 39888, 39855, 39446, 387...</td>\n",
       "      <td>1</td>\n",
       "    </tr>\n",
       "    <tr>\n",
       "      <th>14040</th>\n",
       "      <td>[[143, 140, 139, 139, 138, 138, 137, 137, 137,...</td>\n",
       "      <td>[38268, 38282, 38388, 38514, 38434, 37865, 369...</td>\n",
       "      <td>1</td>\n",
       "    </tr>\n",
       "  </tbody>\n",
       "</table>\n",
       "<p>14041 rows × 3 columns</p>\n",
       "</div>"
      ],
      "text/plain": [
       "                                                raw data  \\\n",
       "0      [[196, 209, 216, 221, 194, 200, 221, 228, 230,...   \n",
       "1      [[236, 243, 245, 242, 236, 229, 227, 230, 233,...   \n",
       "2      [[81, 83, 82, 82, 82, 83, 84, 81, 81, 83, 84, ...   \n",
       "3      [[71, 74, 70, 72, 78, 83, 87, 86, 82, 83, 81, ...   \n",
       "4      [[74, 76, 73, 69, 72, 80, 87, 87, 82, 85, 79, ...   \n",
       "...                                                  ...   \n",
       "14036  [[88, 87, 85, 86, 86, 87, 88, 88, 87, 85, 83, ...   \n",
       "14037  [[80, 79, 79, 79, 79, 78, 77, 75, 78, 97, 122,...   \n",
       "14038  [[80, 80, 80, 79, 83, 92, 111, 137, 149, 150, ...   \n",
       "14039  [[79, 79, 81, 83, 94, 115, 134, 144, 146, 145,...   \n",
       "14040  [[143, 140, 139, 139, 138, 138, 137, 137, 137,...   \n",
       "\n",
       "                                             concat data  label  \n",
       "0      [64117, 64122, 46372, 44770, 44689, 44683, 450...      0  \n",
       "1      [47767, 46841, 45907, 45465, 45243, 45002, 444...      0  \n",
       "2      [20034, 19739, 19521, 19288, 19128, 19101, 191...      0  \n",
       "3      [15349, 15287, 15226, 15048, 14799, 14584, 144...      0  \n",
       "4      [15874, 15967, 15938, 15690, 15474, 15306, 149...      0  \n",
       "...                                                  ...    ...  \n",
       "14036  [38567, 39129, 39188, 39114, 39090, 39007, 389...      1  \n",
       "14037  [38563, 38293, 38269, 38189, 38029, 38008, 382...      1  \n",
       "14038  [39322, 39490, 39725, 39836, 39948, 39907, 395...      1  \n",
       "14039  [38678, 39258, 39755, 39888, 39855, 39446, 387...      1  \n",
       "14040  [38268, 38282, 38388, 38514, 38434, 37865, 369...      1  \n",
       "\n",
       "[14041 rows x 3 columns]"
      ]
     },
     "execution_count": 8,
     "metadata": {},
     "output_type": "execute_result"
    }
   ],
   "source": [
    "dataset_df.head(-1)"
   ]
  },
  {
   "cell_type": "code",
   "execution_count": 9,
   "metadata": {},
   "outputs": [
    {
     "data": {
      "image/png": "[encoded data removed]",
      "text/plain": [
       "<Figure size 432x288 with 1 Axes>"
      ]
     },
     "metadata": {
      "needs_background": "light"
     },
     "output_type": "display_data"
    }
   ],
   "source": [
    "dataset_df[\"label\"].value_counts().plot(kind='bar')\n",
    "plt.xticks([0,1], [\"Covid\", \"Normal\"], rotation='horizontal')\n",
    "plt.ylabel('no of Samples')\n",
    "plt.title('Distribution of classes')\n",
    "plt.show()"
   ]
  },
  {
   "cell_type": "code",
   "execution_count": 10,
   "metadata": {},
   "outputs": [
    {
     "data": {
      "text/plain": [
       "0    7149\n",
       "1    6893\n",
       "Name: label, dtype: int64"
      ]
     },
     "execution_count": 10,
     "metadata": {},
     "output_type": "execute_result"
    }
   ],
   "source": [
    "dataset_df[\"label\"].value_counts()"
   ]
  },
  {
   "cell_type": "code",
   "execution_count": 13,
   "metadata": {},
   "outputs": [
    {
     "data": {
      "application/json": {
       "ascii": false,
       "bar_format": null,
       "colour": null,
       "elapsed": 0.020946979522705078,
       "initial": 0,
       "n": 0,
       "ncols": null,
       "nrows": null,
       "postfix": null,
       "prefix": "",
       "rate": null,
       "total": 14042,
       "unit": "it",
       "unit_divisor": 1000,
       "unit_scale": false
      },
      "application/vnd.jupyter.widget-view+json": {
       "model_id": "3d524d4db75249d28aa670ac52bfa72c",
       "version_major": 2,
       "version_minor": 0
      },
      "text/plain": [
       "  0%|          | 0/14042 [00:00<?, ?it/s]"
      ]
     },
     "metadata": {},
     "output_type": "display_data"
    },
    {
     "name": "stdout",
     "output_type": "stream",
     "text": [
      "X shape (14042, 619)\n",
      "y shape (14042,)\n"
     ]
    }
   ],
   "source": [
    "\n",
    "dataset = dataset_df[\"concat data\"].values\n",
    "X = [img.tolist() for img in tqdm(dataset)]\n",
    "X = np.array(X)\n",
    "y = np.array(dataset_df[\"label\"].values)\n",
    "print(\"X shape\", X.shape)\n",
    "print(\"y shape\", y.shape)\n"
   ]
  },
  {
   "cell_type": "code",
   "execution_count": 14,
   "metadata": {},
   "outputs": [],
   "source": [
    "from sklearn import preprocessing\n",
    "X_norm = preprocessing.normalize(X)"
   ]
  },
  {
   "cell_type": "code",
   "execution_count": 15,
   "metadata": {},
   "outputs": [
    {
     "name": "stdout",
     "output_type": "stream",
     "text": [
      " shape of the dataset after changing the dimension\n",
      "X :  (14042, 619, 1)\n",
      "y :  (14042, 1)\n"
     ]
    }
   ],
   "source": [
    "# change dimensions for training \n",
    "dataset_X = np.expand_dims(X_norm, axis=-1)\n",
    "dataset_y = np.expand_dims(y, axis=-1)\n",
    "print(\" shape of the dataset after changing the dimension\")\n",
    "print(\"X : \", dataset_X.shape)\n",
    "print(\"y : \", dataset_y.shape)"
   ]
  },
  {
   "cell_type": "code",
   "execution_count": 16,
   "metadata": {},
   "outputs": [],
   "source": [
    "X_train, X_test, y_train, y_test = train_test_split(dataset_X, dataset_y, shuffle=True, test_size=0.20, random_state=0)"
   ]
  },
  {
   "cell_type": "code",
   "execution_count": 17,
   "metadata": {},
   "outputs": [],
   "source": [
    "X_train, X_val, y_train, y_val = train_test_split(X_train, y_train, shuffle=True, test_size=0.20, random_state=0)"
   ]
  },
  {
   "cell_type": "code",
   "execution_count": 22,
   "metadata": {},
   "outputs": [
    {
     "data": {
      "text/plain": [
       "(619, 1)"
      ]
     },
     "execution_count": 22,
     "metadata": {},
     "output_type": "execute_result"
    }
   ],
   "source": [
    "X_train[1].shape"
   ]
  },
  {
   "cell_type": "code",
   "execution_count": 23,
   "metadata": {},
   "outputs": [],
   "source": [
    "model = Sequential()\n",
    "model.add(Conv1D(filters=64, kernel_size=3, activation='relu', input_shape=X_train[0].shape))\n",
    "model.add(Conv1D(filters=64, kernel_size=3, activation='relu'))\n",
    "\n",
    "model.add(Dropout(0.25))\n",
    "model.add(MaxPooling1D(pool_size=2))\n",
    "\n",
    "model.add(Flatten())\n",
    "model.add(Dense(100, activation='relu'))\n",
    "model.add(Dense(1, activation='sigmoid'))\n",
    "model.compile(loss='binary_crossentropy', optimizer='adam', metrics=['accuracy'])"
   ]
  },
  {
   "cell_type": "code",
   "execution_count": 24,
   "metadata": {},
   "outputs": [],
   "source": [
    "model_name = \"Conv1D_resized\"\n",
    "NAME = model_name+\"-{}\".format(int(time.time()))\n",
    "tensorboard = TensorBoard(log_dir = 'logs/{}'.format(NAME))\n",
    "    "
   ]
  },
  {
   "cell_type": "code",
   "execution_count": 25,
   "metadata": {},
   "outputs": [
    {
     "name": "stdout",
     "output_type": "stream",
     "text": [
      "Epoch 1/50\n",
      "WARNING:tensorflow:AutoGraph could not transform <function Model.make_train_function.<locals>.train_function at 0x000001A7387F4C18> and will run it as-is.\n",
      "Please report this to the TensorFlow team. When filing the bug, set the verbosity to 10 (on Linux, `export AUTOGRAPH_VERBOSITY=10`) and attach the full output.\n",
      "Cause: 'arguments' object has no attribute 'posonlyargs'\n",
      "To silence this warning, decorate the function with @tf.autograph.experimental.do_not_convert\n",
      "WARNING: AutoGraph could not transform <function Model.make_train_function.<locals>.train_function at 0x000001A7387F4C18> and will run it as-is.\n",
      "Please report this to the TensorFlow team. When filing the bug, set the verbosity to 10 (on Linux, `export AUTOGRAPH_VERBOSITY=10`) and attach the full output.\n",
      "Cause: 'arguments' object has no attribute 'posonlyargs'\n",
      "To silence this warning, decorate the function with @tf.autograph.experimental.do_not_convert\n",
      "899/899 [==============================] - ETA: 0s - loss: 0.6192 - accuracy: 0.6615WARNING:tensorflow:AutoGraph could not transform <function Model.make_test_function.<locals>.test_function at 0x000001A77F2C3B88> and will run it as-is.\n",
      "Please report this to the TensorFlow team. When filing the bug, set the verbosity to 10 (on Linux, `export AUTOGRAPH_VERBOSITY=10`) and attach the full output.\n",
      "Cause: 'arguments' object has no attribute 'posonlyargs'\n",
      "To silence this warning, decorate the function with @tf.autograph.experimental.do_not_convert\n",
      "WARNING: AutoGraph could not transform <function Model.make_test_function.<locals>.test_function at 0x000001A77F2C3B88> and will run it as-is.\n",
      "Please report this to the TensorFlow team. When filing the bug, set the verbosity to 10 (on Linux, `export AUTOGRAPH_VERBOSITY=10`) and attach the full output.\n",
      "Cause: 'arguments' object has no attribute 'posonlyargs'\n",
      "To silence this warning, decorate the function with @tf.autograph.experimental.do_not_convert\n",
      "899/899 [==============================] - 18s 12ms/step - loss: 0.6192 - accuracy: 0.6615 - val_loss: 0.5499 - val_accuracy: 0.7508\n",
      "Epoch 2/50\n",
      "899/899 [==============================] - 11s 12ms/step - loss: 0.5004 - accuracy: 0.7570 - val_loss: 0.4530 - val_accuracy: 0.8060\n",
      "Epoch 3/50\n",
      "899/899 [==============================] - 10s 11ms/step - loss: 0.4424 - accuracy: 0.7991 - val_loss: 0.4466 - val_accuracy: 0.7939\n",
      "Epoch 4/50\n",
      "899/899 [==============================] - 10s 11ms/step - loss: 0.4225 - accuracy: 0.8126 - val_loss: 0.3987 - val_accuracy: 0.8242\n",
      "Epoch 5/50\n",
      "899/899 [==============================] - 10s 12ms/step - loss: 0.4096 - accuracy: 0.8211 - val_loss: 0.4383 - val_accuracy: 0.8024\n",
      "Epoch 6/50\n",
      "899/899 [==============================] - 11s 12ms/step - loss: 0.3973 - accuracy: 0.8252 - val_loss: 0.4355 - val_accuracy: 0.7971\n",
      "Epoch 7/50\n",
      "899/899 [==============================] - 10s 11ms/step - loss: 0.3910 - accuracy: 0.8298 - val_loss: 0.3985 - val_accuracy: 0.8300\n",
      "Epoch 8/50\n",
      "899/899 [==============================] - 10s 11ms/step - loss: 0.3863 - accuracy: 0.8318 - val_loss: 0.3732 - val_accuracy: 0.8411\n",
      "Epoch 9/50\n",
      "899/899 [==============================] - 10s 11ms/step - loss: 0.3840 - accuracy: 0.8317 - val_loss: 0.3766 - val_accuracy: 0.8371\n",
      "Epoch 10/50\n",
      "899/899 [==============================] - 10s 11ms/step - loss: 0.3802 - accuracy: 0.8301 - val_loss: 0.3848 - val_accuracy: 0.8349\n",
      "Epoch 11/50\n",
      "899/899 [==============================] - 10s 11ms/step - loss: 0.3715 - accuracy: 0.8398 - val_loss: 0.3775 - val_accuracy: 0.8353\n",
      "Epoch 12/50\n",
      "899/899 [==============================] - 10s 11ms/step - loss: 0.3695 - accuracy: 0.8375 - val_loss: 0.3642 - val_accuracy: 0.8527\n",
      "Epoch 13/50\n",
      "899/899 [==============================] - 10s 11ms/step - loss: 0.3679 - accuracy: 0.8379 - val_loss: 0.3673 - val_accuracy: 0.8429\n",
      "Epoch 14/50\n",
      "899/899 [==============================] - 10s 11ms/step - loss: 0.3649 - accuracy: 0.8359 - val_loss: 0.3599 - val_accuracy: 0.8545\n",
      "Epoch 15/50\n",
      "899/899 [==============================] - 10s 12ms/step - loss: 0.3602 - accuracy: 0.8432 - val_loss: 0.3567 - val_accuracy: 0.8554\n",
      "Epoch 16/50\n",
      "899/899 [==============================] - 12s 13ms/step - loss: 0.3617 - accuracy: 0.8422 - val_loss: 0.3699 - val_accuracy: 0.8380\n",
      "Epoch 17/50\n",
      "899/899 [==============================] - 10s 11ms/step - loss: 0.3559 - accuracy: 0.8460 - val_loss: 0.3628 - val_accuracy: 0.8522\n",
      "Epoch 18/50\n",
      "899/899 [==============================] - 10s 11ms/step - loss: 0.3539 - accuracy: 0.8453 - val_loss: 0.3604 - val_accuracy: 0.8491\n",
      "Epoch 19/50\n",
      "899/899 [==============================] - 10s 11ms/step - loss: 0.3551 - accuracy: 0.8440 - val_loss: 0.3544 - val_accuracy: 0.8491\n",
      "Epoch 20/50\n",
      "899/899 [==============================] - 10s 11ms/step - loss: 0.3520 - accuracy: 0.8451 - val_loss: 0.3482 - val_accuracy: 0.8518\n",
      "Epoch 21/50\n",
      "899/899 [==============================] - 10s 11ms/step - loss: 0.3487 - accuracy: 0.8461 - val_loss: 0.3472 - val_accuracy: 0.8576\n",
      "Epoch 22/50\n",
      "899/899 [==============================] - 10s 12ms/step - loss: 0.3407 - accuracy: 0.8537 - val_loss: 0.3463 - val_accuracy: 0.8545\n",
      "Epoch 23/50\n",
      "899/899 [==============================] - 10s 12ms/step - loss: 0.3434 - accuracy: 0.8467 - val_loss: 0.3560 - val_accuracy: 0.8576\n",
      "Epoch 24/50\n",
      "899/899 [==============================] - 10s 12ms/step - loss: 0.3431 - accuracy: 0.8484 - val_loss: 0.3518 - val_accuracy: 0.8482\n",
      "Epoch 25/50\n",
      "899/899 [==============================] - 10s 12ms/step - loss: 0.3370 - accuracy: 0.8527 - val_loss: 0.3490 - val_accuracy: 0.8500\n",
      "Epoch 26/50\n",
      "899/899 [==============================] - 10s 12ms/step - loss: 0.3370 - accuracy: 0.8549 - val_loss: 0.3379 - val_accuracy: 0.8634\n",
      "Epoch 27/50\n",
      "899/899 [==============================] - 10s 11ms/step - loss: 0.3353 - accuracy: 0.8556 - val_loss: 0.3550 - val_accuracy: 0.8487\n",
      "Epoch 28/50\n",
      "899/899 [==============================] - 10s 11ms/step - loss: 0.3318 - accuracy: 0.8558 - val_loss: 0.3325 - val_accuracy: 0.8576\n",
      "Epoch 29/50\n",
      "899/899 [==============================] - 10s 11ms/step - loss: 0.3335 - accuracy: 0.8531 - val_loss: 0.3420 - val_accuracy: 0.8603\n",
      "Epoch 30/50\n",
      "899/899 [==============================] - 10s 11ms/step - loss: 0.3289 - accuracy: 0.8586 - val_loss: 0.3362 - val_accuracy: 0.8625\n",
      "Epoch 31/50\n",
      "899/899 [==============================] - 10s 11ms/step - loss: 0.3332 - accuracy: 0.8548 - val_loss: 0.3378 - val_accuracy: 0.8580\n",
      "Epoch 32/50\n",
      "899/899 [==============================] - 10s 11ms/step - loss: 0.3264 - accuracy: 0.8602 - val_loss: 0.3412 - val_accuracy: 0.8567\n",
      "Epoch 33/50\n",
      "899/899 [==============================] - 10s 12ms/step - loss: 0.3260 - accuracy: 0.8600 - val_loss: 0.3362 - val_accuracy: 0.8536\n",
      "Epoch 34/50\n",
      "899/899 [==============================] - 10s 12ms/step - loss: 0.3266 - accuracy: 0.8597 - val_loss: 0.3515 - val_accuracy: 0.8487\n",
      "Epoch 35/50\n",
      "899/899 [==============================] - 10s 11ms/step - loss: 0.3230 - accuracy: 0.8617 - val_loss: 0.3313 - val_accuracy: 0.8656\n",
      "Epoch 36/50\n",
      "899/899 [==============================] - 10s 11ms/step - loss: 0.3269 - accuracy: 0.8572 - val_loss: 0.3331 - val_accuracy: 0.8607\n",
      "Epoch 37/50\n",
      "899/899 [==============================] - 10s 12ms/step - loss: 0.3276 - accuracy: 0.8599 - val_loss: 0.3421 - val_accuracy: 0.8616\n",
      "Epoch 38/50\n",
      "899/899 [==============================] - 11s 12ms/step - loss: 0.3215 - accuracy: 0.8603 - val_loss: 0.3248 - val_accuracy: 0.8660\n",
      "Epoch 39/50\n",
      "899/899 [==============================] - 11s 12ms/step - loss: 0.3201 - accuracy: 0.8626 - val_loss: 0.3297 - val_accuracy: 0.8692\n",
      "Epoch 40/50\n",
      "899/899 [==============================] - 10s 11ms/step - loss: 0.3182 - accuracy: 0.8640 - val_loss: 0.3327 - val_accuracy: 0.8549\n",
      "Epoch 41/50\n",
      "899/899 [==============================] - 10s 11ms/step - loss: 0.3201 - accuracy: 0.8629 - val_loss: 0.3349 - val_accuracy: 0.8678\n",
      "Epoch 42/50\n",
      "899/899 [==============================] - 10s 11ms/step - loss: 0.3153 - accuracy: 0.8641 - val_loss: 0.3284 - val_accuracy: 0.8611\n",
      "Epoch 43/50\n",
      "899/899 [==============================] - 10s 11ms/step - loss: 0.3149 - accuracy: 0.8652 - val_loss: 0.3609 - val_accuracy: 0.8349\n",
      "Epoch 44/50\n",
      "899/899 [==============================] - 10s 11ms/step - loss: 0.3139 - accuracy: 0.8682 - val_loss: 0.3287 - val_accuracy: 0.8571\n",
      "Epoch 45/50\n",
      "899/899 [==============================] - 10s 11ms/step - loss: 0.3121 - accuracy: 0.8675 - val_loss: 0.3717 - val_accuracy: 0.8491\n",
      "Epoch 46/50\n",
      "899/899 [==============================] - 10s 11ms/step - loss: 0.3170 - accuracy: 0.8638 - val_loss: 0.3267 - val_accuracy: 0.8687\n",
      "Epoch 47/50\n",
      "899/899 [==============================] - 10s 11ms/step - loss: 0.3084 - accuracy: 0.8715 - val_loss: 0.3297 - val_accuracy: 0.8696\n",
      "Epoch 48/50\n",
      "899/899 [==============================] - 10s 12ms/step - loss: 0.3103 - accuracy: 0.8675 - val_loss: 0.3689 - val_accuracy: 0.8349\n",
      "Epoch 49/50\n",
      "899/899 [==============================] - 10s 11ms/step - loss: 0.3133 - accuracy: 0.8679 - val_loss: 0.3305 - val_accuracy: 0.8607\n",
      "Epoch 50/50\n",
      "899/899 [==============================] - 11s 12ms/step - loss: 0.3062 - accuracy: 0.8722 - val_loss: 0.3363 - val_accuracy: 0.8652\n"
     ]
    }
   ],
   "source": [
    "BATCH_SIZE = 10\n",
    "EPOCHS = 50\n",
    "history = model.fit(\n",
    "    X_train, y_train, \n",
    "    BATCH_SIZE, \n",
    "    EPOCHS, \n",
    "    validation_data=(X_val, y_val),\n",
    "    callbacks=[tensorboard])"
   ]
  },
  {
   "cell_type": "code",
   "execution_count": 67,
   "metadata": {},
   "outputs": [],
   "source": [
    "model.save(\"D:/Project2022/models/\"+model_name+\".h5\")"
   ]
  },
  {
   "cell_type": "code",
   "execution_count": 26,
   "metadata": {},
   "outputs": [],
   "source": [
    "# test loss, test accuracy\n",
    "accuracy = model.evaluate(X_test, y_test, batch_size=100, verbose=0)"
   ]
  },
  {
   "cell_type": "code",
   "execution_count": 27,
   "metadata": {},
   "outputs": [
    {
     "name": "stdout",
     "output_type": "stream",
     "text": [
      "Test acuuracy 0.8593805432319641\n",
      "Test loss 0.33580729365348816\n"
     ]
    }
   ],
   "source": [
    "print(\"Test acuuracy\", accuracy[1])\n",
    "print(\"Test loss\", accuracy[0])"
   ]
  },
  {
   "cell_type": "code",
   "execution_count": 28,
   "metadata": {},
   "outputs": [
    {
     "name": "stdout",
     "output_type": "stream",
     "text": [
      "WARNING:tensorflow:AutoGraph could not transform <function Model.make_predict_function.<locals>.predict_function at 0x000001A7234B38B8> and will run it as-is.\n",
      "Please report this to the TensorFlow team. When filing the bug, set the verbosity to 10 (on Linux, `export AUTOGRAPH_VERBOSITY=10`) and attach the full output.\n",
      "Cause: 'arguments' object has no attribute 'posonlyargs'\n",
      "To silence this warning, decorate the function with @tf.autograph.experimental.do_not_convert\n",
      "WARNING: AutoGraph could not transform <function Model.make_predict_function.<locals>.predict_function at 0x000001A7234B38B8> and will run it as-is.\n",
      "Please report this to the TensorFlow team. When filing the bug, set the verbosity to 10 (on Linux, `export AUTOGRAPH_VERBOSITY=10`) and attach the full output.\n",
      "Cause: 'arguments' object has no attribute 'posonlyargs'\n",
      "To silence this warning, decorate the function with @tf.autograph.experimental.do_not_convert\n",
      "88/88 [==============================] - 1s 5ms/step\n"
     ]
    }
   ],
   "source": [
    "#y_pred = model.predict_classes(X_test)\n",
    "y_pred = (model.predict(X_test) > 0.5).astype(\"int32\")"
   ]
  },
  {
   "cell_type": "code",
   "execution_count": 29,
   "metadata": {},
   "outputs": [
    {
     "name": "stdout",
     "output_type": "stream",
     "text": [
      "              precision    recall  f1-score   support\n",
      "\n",
      "       covid       0.87      0.84      0.86      1395\n",
      "      Normal       0.85      0.88      0.86      1414\n",
      "\n",
      "    accuracy                           0.86      2809\n",
      "   macro avg       0.86      0.86      0.86      2809\n",
      "weighted avg       0.86      0.86      0.86      2809\n",
      "\n"
     ]
    }
   ],
   "source": [
    "from sklearn.metrics import classification_report \n",
    "print(classification_report(y_test, y_pred, target_names=[\"covid\", \"Normal\"]))"
   ]
  },
  {
   "cell_type": "code",
   "execution_count": 30,
   "metadata": {},
   "outputs": [
    {
     "data": {
      "image/png": "[encoded data removed]",
      "text/plain": [
       "<Figure size 432x288 with 2 Axes>"
      ]
     },
     "metadata": {
      "needs_background": "light"
     },
     "output_type": "display_data"
    }
   ],
   "source": [
    "from sklearn.metrics import confusion_matrix, ConfusionMatrixDisplay\n",
    "\n",
    "cm = confusion_matrix(y_test, y_pred, labels=[0,1])\n",
    "disp = ConfusionMatrixDisplay(confusion_matrix=cm,\n",
    "                               display_labels=[\"Covid\",\"Normal\"])\n",
    "disp.plot()\n",
    "plt.show()\n"
   ]
  },
  {
   "cell_type": "code",
   "execution_count": null,
   "metadata": {},
   "outputs": [],
   "source": []
  }
 ],
 "metadata": {
  "kernelspec": {
   "display_name": "Python 3.7.10 ('tensorflow')",
   "language": "python",
   "name": "python3"
  },
  "language_info": {
   "codemirror_mode": {
    "name": "ipython",
    "version": 3
   },
   "file_extension": ".py",
   "mimetype": "text/x-python",
   "name": "python",
   "nbconvert_exporter": "python",
   "pygments_lexer": "ipython3",
   "version": "3.7.10"
  },
  "orig_nbformat": 4,
  "vscode": {
   "interpreter": {
    "hash": "8c50830f626f547e043f1157b775d5349ebf6934572c5315bc4ad9efe15cebdc"
   }
  }
 },
 "nbformat": 4,
 "nbformat_minor": 2
}
